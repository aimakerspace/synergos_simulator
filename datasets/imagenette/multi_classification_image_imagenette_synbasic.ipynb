{
 "cells": [
  {
   "cell_type": "markdown",
   "metadata": {},
   "source": [
    "# Running a Federated Cycle with Synergos\n",
    "\n",
    "In a federated learning system, there are many contributory participants, known as Worker nodes, which receive a global model to train on, with their own local dataset. The dataset does not leave the individual Worker nodes at any point, and remains private to the node.\n",
    "\n",
    "The job to synchronize, orchestrate and initiate an federated learning cycle, falls on a Trusted Third Party (TTP). The TTP pushes out the global model architecture and parameters for the individual nodes to train on, calling upon the required data, based on tags, e.g \"training\", which points to relevant data on the individual nodes. At no point does the TTP receive, copy or access the Worker nodes' local datasets.\n",
    "\n",
    "![Simulated Synergos Basic Grid](../../docs/images/synbasic_setup.png \"A simple Synergos Basic setup\")\n",
    "\n",
    "This tutorial aims to give you an understanding of how to use the `Synergos` driver package to run a full federated learning cycle on a `Synergos Basic` grid.\n",
    "\n",
    "In a `Synergos Basic` grid, this is TTP at its purest form, synchronizing with all worker nodes to facilitate federated orchestration.\n",
    "\n",
    "In this tutorial, you will go through the steps required by each participant (TTP and Worker), by simulating each of them locally with docker containers. Specifically, we will simulate a TTP and 2 Workers. \n",
    "\n",
    "At the end of this, we will have:\n",
    "- Connected the participants\n",
    "- Trained the model\n",
    "- Evaluate the model\n",
    "\n",
    "## About the Dataset and Task\n",
    "\n",
    "The dataset used in this notebook is on a small subset of Imagenette images, comprising 3 classes, and all images are 28 x 28 pixels. The dataset is available in the same directory as this notebook. Within the dataset directory, `data1` is for Worker 1 and `data2` is for Worker 2. The task to be carried out will be a multi-classification.\n",
    "\n",
    "The dataset we have provided is a processed subset of the [original Imagenette dataset](https://github.com/fastai/imagenette)."
   ]
  },
  {
   "cell_type": "markdown",
   "metadata": {},
   "source": [
    "## Initiating the docker containers\n",
    "\n",
    "Before we begin, we have to start the docker containers."
   ]
  },
  {
   "cell_type": "markdown",
   "metadata": {},
   "source": [
    "### A. Initialization via `Synergos Simulator`\n",
    "\n",
    "In `Synergos Simulator`, a sandboxed environment has been created for you!\n",
    "\n",
    "By running:\n",
    "\n",
    "    `docker-compose -f docker-compose-synbasic.yml up --build`\n",
    "    \n",
    "the following components will be started:\n",
    "- TTP (Basic)\n",
    "- Worker_1\n",
    "- Worker_2\n",
    "- Synergos UI\n",
    "\n",
    "Refer to [this](https://github.com/aimakerspace/synergos_simulator) for all the pre-allocated host & port mappings. "
   ]
  },
  {
   "cell_type": "markdown",
   "metadata": {},
   "source": [
    "### B. Manual Initialization\n",
    "\n",
    "Firstly, pull the required docker images with the following commands:\n",
    "\n",
    "1. Synergos TTP (Basic): \n",
    "\n",
    "    `docker pull gcr.io/synergos-aisg/synergos_ttp:v0.1.0`\n",
    "\n",
    "2. Synergos Worker: \n",
    "\n",
    "    `docker pull gcr.io/synergos-aisg/synergos_worker:v0.1.0`\n",
    "\n",
    "Next, in <u>separate</u> CLI terminals, run the following command:\n",
    "\n",
    "**Note: For Windows users, it is advisable to use powershell or command prompt based interfaces**\n",
    "\n",
    "**TTP**\n",
    "\n",
    "```\n",
    "docker run \n",
    "    -p 5000:5000 \n",
    "    -p 8020:8020\n",
    "    -v <directory imagenette/ttp_outputs>:/orchestrator/outputs\n",
    "    -v <directory imagenette/ttp_data>:/orchestrator/data\n",
    "    -v <directory imagenette/mlflow>:/mlflow\n",
    "    --name ttp \n",
    "    gcr.io/synergos-aisg/synergos_ttp:v0.1.0 \n",
    "        --id ttp \n",
    "        --logging_variant basic\n",
    "```\n",
    "\n",
    "**Worker 1**\n",
    "\n",
    "```\n",
    "docker run \n",
    "    -v <directory imagenette/data1>:/worker/data \n",
    "    -v <directory imagenette/outputs_1>:/worker/outputs \n",
    "    --name worker_1 \n",
    "    gcr.io/synergos-aisg/synergos_worker:v0.1.0 \n",
    "        --id worker_1 \n",
    "        --logging_variant basic\n",
    "```\n",
    "\n",
    "**Worker 2**\n",
    "\n",
    "```\n",
    "docker run \n",
    "    -v <directory imagenette/data2>:/worker/data \n",
    "    -v <directory imagenette/outputs_2>:/worker/outputs \n",
    "    --name worker_2 \n",
    "    gcr.io/synergos-aisg/synergos_worker:v0.1.0\n",
    "        --id worker_2 \n",
    "        --logging_variant basic\n",
    "```\n",
    "\n",
    "#### Synergos UI\n",
    "\n",
    "- Refer to these [instructions](https://github.com/aimakerspace/synergos_ui) to deploy `Synergos UI`."
   ]
  },
  {
   "cell_type": "markdown",
   "metadata": {},
   "source": [
    "Once ready, for each terminal, you should see a REST server running on http://0.0.0.0:5000 of the container.\n",
    "\n",
    "You are now ready for the next step."
   ]
  },
  {
   "cell_type": "markdown",
   "metadata": {},
   "source": [
    "## Configurations"
   ]
  },
  {
   "cell_type": "markdown",
   "metadata": {},
   "source": [
    "### A. Configuring `Synergos Simulator`\n",
    "\n",
    "All hosts & ports have already been pre-allocated!\n",
    "\n",
    "Refer to [this](https://github.com/aimakerspace/synergos_simulator) for all the pre-allocated host & port mappings."
   ]
  },
  {
   "cell_type": "markdown",
   "metadata": {},
   "source": [
    "### B. Configuring your manual setup\n",
    "\n",
    "In a new terminal, run `docker inspect bridge` and find the IPv4Address for each container. Ideally, the containers should have the following addresses:\n",
    "- ttp address: `172.17.0.2`\n",
    "- worker_1 address: `172.17.0.3`\n",
    "- worker_2 address: `172.17.0.4`\n",
    "- UI address: `172.17.0.5`\n",
    "\n",
    "If not, just note the relevant IP addresses for each docker container.\n",
    "\n",
    "Run the following cells below.\n",
    "\n",
    "**Note: For Windows users, `host` should be Docker Desktop VM's IP. Follow [this](https://stackoverflow.com/questions/58073936/how-to-get-ip-address-of-docker-desktop-vm) on instructions to find IP**"
   ]
  },
  {
   "cell_type": "code",
   "execution_count": 1,
   "metadata": {},
   "outputs": [],
   "source": [
    "from synergos import Driver\n",
    "\n",
    "host = \"172.18.0.2\"\n",
    "port = 5000\n",
    "\n",
    "# Initiate Driver\n",
    "driver = Driver(host=host, port=port)"
   ]
  },
  {
   "cell_type": "markdown",
   "metadata": {},
   "source": [
    "## Phase 1: Registration\n",
    "\n",
    "Submitting Orchestrator & Participant metadata"
   ]
  },
  {
   "cell_type": "markdown",
   "metadata": {},
   "source": [
    "#### 1A. Orchestrator creates a collaboration"
   ]
  },
  {
   "cell_type": "code",
   "execution_count": 2,
   "metadata": {},
   "outputs": [
    {
     "data": {
      "text/plain": [
       "{'data': {'doc_id': '1',\n",
       "  'kind': 'Collaboration',\n",
       "  'key': {'collab_id': 'imagenette_synbasic_collaboration'},\n",
       "  'relations': {'Project': [],\n",
       "   'Experiment': [],\n",
       "   'Run': [],\n",
       "   'Registration': [],\n",
       "   'Tag': [],\n",
       "   'Model': [],\n",
       "   'Validation': [],\n",
       "   'Prediction': []}},\n",
       " 'apiVersion': '0.1.0',\n",
       " 'success': 1,\n",
       " 'status': 201,\n",
       " 'method': 'collaborations.post',\n",
       " 'params': {}}"
      ]
     },
     "execution_count": 2,
     "metadata": {},
     "output_type": "execute_result"
    }
   ],
   "source": [
    "collab_task = driver.collaborations\n",
    "collab_task.create('imagenette_synbasic_collaboration')"
   ]
  },
  {
   "cell_type": "markdown",
   "metadata": {},
   "source": [
    "#### 1B. Orchestrator creates a project"
   ]
  },
  {
   "cell_type": "code",
   "execution_count": 3,
   "metadata": {},
   "outputs": [
    {
     "data": {
      "text/plain": [
       "{'data': {'doc_id': '1',\n",
       "  'kind': 'Project',\n",
       "  'key': {'collab_id': 'imagenette_synbasic_collaboration',\n",
       "   'project_id': 'imagenette_synbasic_project'},\n",
       "  'relations': {'Experiment': [],\n",
       "   'Run': [],\n",
       "   'Registration': [],\n",
       "   'Tag': [],\n",
       "   'Model': [],\n",
       "   'Validation': [],\n",
       "   'Prediction': []},\n",
       "  'action': 'classify',\n",
       "  'incentives': {'tier_2': [], 'tier_1': []}},\n",
       " 'apiVersion': '0.1.0',\n",
       " 'success': 1,\n",
       " 'status': 201,\n",
       " 'method': 'projects.post',\n",
       " 'params': {'collab_id': 'imagenette_synbasic_collaboration'}}"
      ]
     },
     "execution_count": 3,
     "metadata": {},
     "output_type": "execute_result"
    }
   ],
   "source": [
    "driver.projects.create(\n",
    "    collab_id=\"imagenette_synbasic_collaboration\",\n",
    "    project_id=\"imagenette_synbasic_project\",\n",
    "    action=\"classify\",\n",
    "    incentives={\n",
    "        'tier_1': [],\n",
    "        'tier_2': [],\n",
    "    }\n",
    ")"
   ]
  },
  {
   "cell_type": "markdown",
   "metadata": {},
   "source": [
    "#### 1C. Orchestrator creates an experiment"
   ]
  },
  {
   "cell_type": "code",
   "execution_count": 4,
   "metadata": {},
   "outputs": [
    {
     "data": {
      "text/plain": [
       "{'apiVersion': '0.1.0',\n",
       " 'success': 1,\n",
       " 'status': 201,\n",
       " 'method': 'experiments.post',\n",
       " 'params': {'collab_id': 'imagenette_synbasic_collaboration',\n",
       "  'project_id': 'imagenette_synbasic_project'},\n",
       " 'data': {'created_at': '2021-09-13 18:44:45 N',\n",
       "  'key': {'collab_id': 'imagenette_synbasic_collaboration',\n",
       "   'expt_id': 'imagenette_synbasic_experiment',\n",
       "   'project_id': 'imagenette_synbasic_project'},\n",
       "  'model': [{'activation': 'relu',\n",
       "    'is_input': True,\n",
       "    'l_type': 'Conv2d',\n",
       "    'structure': {'in_channels': 1,\n",
       "     'kernel_size': 3,\n",
       "     'out_channels': 4,\n",
       "     'padding': 1,\n",
       "     'stride': 1}},\n",
       "   {'activation': None,\n",
       "    'is_input': False,\n",
       "    'l_type': 'Flatten',\n",
       "    'structure': {}},\n",
       "   {'activation': 'softmax',\n",
       "    'is_input': False,\n",
       "    'l_type': 'Linear',\n",
       "    'structure': {'bias': True, 'in_features': 3136, 'out_features': 3}}],\n",
       "  'relations': {'Run': [], 'Model': [], 'Validation': [], 'Prediction': []},\n",
       "  'doc_id': 1,\n",
       "  'kind': 'Experiment'}}"
      ]
     },
     "execution_count": 4,
     "metadata": {},
     "output_type": "execute_result"
    }
   ],
   "source": [
    "driver.experiments.create(\n",
    "    collab_id=\"imagenette_synbasic_collaboration\",\n",
    "    project_id=\"imagenette_synbasic_project\",\n",
    "    expt_id=\"imagenette_synbasic_experiment\",\n",
    "    model=[\n",
    "        {\n",
    "            \"activation\": \"relu\",\n",
    "            \"is_input\": True,\n",
    "            \"l_type\": \"Conv2d\",\n",
    "            \"structure\": {\n",
    "                \"in_channels\": 1, \n",
    "                \"out_channels\": 4,\n",
    "                \"kernel_size\": 3,\n",
    "                \"stride\": 1,\n",
    "                \"padding\": 1\n",
    "            }\n",
    "        },\n",
    "        {\n",
    "            \"activation\": None,\n",
    "            \"is_input\": False,\n",
    "            \"l_type\": \"Flatten\",\n",
    "            \"structure\": {}\n",
    "        },\n",
    "        {\n",
    "            \"activation\": \"softmax\",\n",
    "            \"is_input\": False,\n",
    "            \"l_type\": \"Linear\",\n",
    "            \"structure\": {\n",
    "                \"bias\": True,\n",
    "                \"in_features\": 4 * 28 * 28,\n",
    "                \"out_features\": 3\n",
    "            }\n",
    "        }\n",
    "\n",
    "    ]\n",
    ")"
   ]
  },
  {
   "cell_type": "markdown",
   "metadata": {},
   "source": [
    "#### 1D. Orchestrator creates a run"
   ]
  },
  {
   "cell_type": "code",
   "execution_count": 5,
   "metadata": {},
   "outputs": [
    {
     "data": {
      "text/plain": [
       "{'data': {'doc_id': '1',\n",
       "  'kind': 'Run',\n",
       "  'key': {'collab_id': 'imagenette_synbasic_collaboration',\n",
       "   'project_id': 'imagenette_synbasic_project',\n",
       "   'expt_id': 'imagenette_synbasic_experiment',\n",
       "   'run_id': 'imagenette_synbasic_run'},\n",
       "  'relations': {'Model': [], 'Validation': [], 'Prediction': []},\n",
       "  'rounds': 2,\n",
       "  'epochs': 1,\n",
       "  'lr': 0.001,\n",
       "  'lr_decay': 0.1,\n",
       "  'weight_decay': 0.0,\n",
       "  'seed': 42,\n",
       "  'precision_fractional': 5,\n",
       "  'mu': 0.1,\n",
       "  'l1_lambda': 0.0,\n",
       "  'l2_lambda': 0.0,\n",
       "  'base_lr': 0.0005,\n",
       "  'max_lr': 0.005,\n",
       "  'patience': 10,\n",
       "  'delta': 0.0},\n",
       " 'apiVersion': '0.1.0',\n",
       " 'success': 1,\n",
       " 'status': 201,\n",
       " 'method': 'runs.post',\n",
       " 'params': {'collab_id': 'imagenette_synbasic_collaboration',\n",
       "  'project_id': 'imagenette_synbasic_project',\n",
       "  'expt_id': 'imagenette_synbasic_experiment'}}"
      ]
     },
     "execution_count": 5,
     "metadata": {},
     "output_type": "execute_result"
    }
   ],
   "source": [
    "driver.runs.create(\n",
    "    collab_id=\"imagenette_synbasic_collaboration\",\n",
    "    project_id=\"imagenette_synbasic_project\",\n",
    "    expt_id=\"imagenette_synbasic_experiment\",\n",
    "    run_id=\"imagenette_synbasic_run\",\n",
    "    rounds=2, \n",
    "    epochs=1,\n",
    "    base_lr=0.0005,\n",
    "    max_lr=0.005,\n",
    "    criterion=\"NLLLoss\"\n",
    ")"
   ]
  },
  {
   "cell_type": "markdown",
   "metadata": {},
   "source": [
    "#### 1E. Participants registers their servers' configurations and roles"
   ]
  },
  {
   "cell_type": "code",
   "execution_count": 6,
   "metadata": {},
   "outputs": [
    {
     "data": {
      "text/plain": [
       "{'data': {'doc_id': '1',\n",
       "  'kind': 'Participant',\n",
       "  'key': {'participant_id': 'worker_1'},\n",
       "  'relations': {'Registration': [], 'Tag': []},\n",
       "  'id': 'worker_1'},\n",
       " 'apiVersion': '0.1.0',\n",
       " 'success': 1,\n",
       " 'status': 201,\n",
       " 'method': 'participants.post',\n",
       " 'params': {}}"
      ]
     },
     "metadata": {},
     "output_type": "display_data"
    },
    {
     "data": {
      "text/plain": [
       "{'data': {'doc_id': '2',\n",
       "  'kind': 'Participant',\n",
       "  'key': {'participant_id': 'worker_2'},\n",
       "  'relations': {'Registration': [], 'Tag': []},\n",
       "  'id': 'worker_2'},\n",
       " 'apiVersion': '0.1.0',\n",
       " 'success': 1,\n",
       " 'status': 201,\n",
       " 'method': 'participants.post',\n",
       " 'params': {}}"
      ]
     },
     "metadata": {},
     "output_type": "display_data"
    }
   ],
   "source": [
    "participant_resp_1 = driver.participants.create(\n",
    "    participant_id=\"worker_1\",\n",
    ")\n",
    "\n",
    "display(participant_resp_1)\n",
    "\n",
    "participant_resp_2 = driver.participants.create(\n",
    "    participant_id=\"worker_2\",\n",
    ")\n",
    "\n",
    "display(participant_resp_2)"
   ]
  },
  {
   "cell_type": "code",
   "execution_count": 7,
   "metadata": {},
   "outputs": [
    {
     "data": {
      "text/plain": [
       "{'data': {'doc_id': '1',\n",
       "  'kind': 'Registration',\n",
       "  'key': {'collab_id': 'imagenette_synbasic_collaboration',\n",
       "   'project_id': 'imagenette_synbasic_project',\n",
       "   'participant_id': 'worker_1'},\n",
       "  'relations': {'Tag': []},\n",
       "  'collaboration': {'catalogue': {},\n",
       "   'logs': {},\n",
       "   'meter': {},\n",
       "   'mlops': {},\n",
       "   'mq': {}},\n",
       "  'project': {'action': 'classify',\n",
       "   'incentives': {'tier_2': [], 'tier_1': []},\n",
       "   'start_at': None},\n",
       "  'participant': {'id': 'worker_1',\n",
       "   'category': [],\n",
       "   'summary': None,\n",
       "   'phone': None,\n",
       "   'email': None,\n",
       "   'socials': {}},\n",
       "  'role': 'host',\n",
       "  'n_count': 1,\n",
       "  'node_0': {'host': '172.18.0.3',\n",
       "   'port': 8020,\n",
       "   'log_msgs': True,\n",
       "   'verbose': True,\n",
       "   'f_port': 5000}},\n",
       " 'apiVersion': '0.1.0',\n",
       " 'success': 1,\n",
       " 'status': 201,\n",
       " 'method': 'registration.post',\n",
       " 'params': {'collab_id': 'imagenette_synbasic_collaboration',\n",
       "  'project_id': 'imagenette_synbasic_project',\n",
       "  'participant_id': 'worker_1'}}"
      ]
     },
     "execution_count": 7,
     "metadata": {},
     "output_type": "execute_result"
    }
   ],
   "source": [
    "registration_task = driver.registrations\n",
    "\n",
    "# Add and register worker_1 node\n",
    "registration_task.add_node(\n",
    "    host='172.18.0.3',\n",
    "    port=8020,\n",
    "    f_port=5000,\n",
    "    log_msgs=True,\n",
    "    verbose=True\n",
    ")\n",
    "\n",
    "registration_task.create(\n",
    "    collab_id=\"imagenette_synbasic_collaboration\",\n",
    "    project_id=\"imagenette_synbasic_project\",\n",
    "    participant_id=\"worker_1\",\n",
    "    role=\"host\"\n",
    ")"
   ]
  },
  {
   "cell_type": "code",
   "execution_count": 8,
   "metadata": {},
   "outputs": [
    {
     "data": {
      "text/plain": [
       "{'data': {'doc_id': '2',\n",
       "  'kind': 'Registration',\n",
       "  'key': {'collab_id': 'imagenette_synbasic_collaboration',\n",
       "   'project_id': 'imagenette_synbasic_project',\n",
       "   'participant_id': 'worker_2'},\n",
       "  'relations': {'Tag': []},\n",
       "  'collaboration': {'catalogue': {},\n",
       "   'logs': {},\n",
       "   'meter': {},\n",
       "   'mlops': {},\n",
       "   'mq': {}},\n",
       "  'project': {'action': 'classify',\n",
       "   'incentives': {'tier_2': [], 'tier_1': []},\n",
       "   'start_at': None},\n",
       "  'participant': {'id': 'worker_2',\n",
       "   'category': [],\n",
       "   'summary': None,\n",
       "   'phone': None,\n",
       "   'email': None,\n",
       "   'socials': {}},\n",
       "  'role': 'guest',\n",
       "  'n_count': 1,\n",
       "  'node_0': {'host': '172.18.0.4',\n",
       "   'port': 8020,\n",
       "   'log_msgs': True,\n",
       "   'verbose': True,\n",
       "   'f_port': 5000}},\n",
       " 'apiVersion': '0.1.0',\n",
       " 'success': 1,\n",
       " 'status': 201,\n",
       " 'method': 'registration.post',\n",
       " 'params': {'collab_id': 'imagenette_synbasic_collaboration',\n",
       "  'project_id': 'imagenette_synbasic_project',\n",
       "  'participant_id': 'worker_2'}}"
      ]
     },
     "execution_count": 8,
     "metadata": {},
     "output_type": "execute_result"
    }
   ],
   "source": [
    "registration_task = driver.registrations\n",
    "\n",
    "# Add and register worker_2 node\n",
    "registration_task.add_node(\n",
    "    host='172.18.0.4',\n",
    "    port=8020,\n",
    "    f_port=5000,\n",
    "    log_msgs=True,\n",
    "    verbose=True\n",
    ")\n",
    "\n",
    "registration_task.create(\n",
    "    collab_id=\"imagenette_synbasic_collaboration\",\n",
    "    project_id=\"imagenette_synbasic_project\",\n",
    "    participant_id=\"worker_2\",\n",
    "    role=\"guest\"\n",
    ")"
   ]
  },
  {
   "cell_type": "markdown",
   "metadata": {},
   "source": [
    "#### 1F. Participants registers their tags for a specific project"
   ]
  },
  {
   "cell_type": "code",
   "execution_count": 9,
   "metadata": {},
   "outputs": [
    {
     "data": {
      "text/plain": [
       "{'data': {'doc_id': '1',\n",
       "  'kind': 'Tag',\n",
       "  'key': {'collab_id': 'imagenette_synbasic_collaboration',\n",
       "   'project_id': 'imagenette_synbasic_project',\n",
       "   'participant_id': 'worker_1'},\n",
       "  'train': [['imagenette', 'dataset', 'data1', 'train']],\n",
       "  'evaluate': [['imagenette', 'dataset', 'data1', 'evaluate']],\n",
       "  'predict': []},\n",
       " 'apiVersion': '0.1.0',\n",
       " 'success': 1,\n",
       " 'status': 201,\n",
       " 'method': 'tag.post',\n",
       " 'params': {'collab_id': 'imagenette_synbasic_collaboration',\n",
       "  'project_id': 'imagenette_synbasic_project',\n",
       "  'participant_id': 'worker_1'}}"
      ]
     },
     "execution_count": 9,
     "metadata": {},
     "output_type": "execute_result"
    }
   ],
   "source": [
    "# Worker 1 declares their data tags\n",
    "driver.tags.create(\n",
    "    collab_id=\"imagenette_synbasic_collaboration\",\n",
    "    project_id=\"imagenette_synbasic_project\",\n",
    "    participant_id=\"worker_1\",\n",
    "    train=[[\"imagenette\", \"dataset\", \"data1\", \"train\"]],\n",
    "    evaluate=[[\"imagenette\", \"dataset\", \"data1\", \"evaluate\"]]\n",
    ")"
   ]
  },
  {
   "cell_type": "code",
   "execution_count": 10,
   "metadata": {},
   "outputs": [
    {
     "data": {
      "text/plain": [
       "{'data': {'doc_id': '2',\n",
       "  'kind': 'Tag',\n",
       "  'key': {'collab_id': 'imagenette_synbasic_collaboration',\n",
       "   'project_id': 'imagenette_synbasic_project',\n",
       "   'participant_id': 'worker_2'},\n",
       "  'train': [['imagenette', 'dataset', 'data2', 'train']],\n",
       "  'evaluate': [['imagenette', 'dataset', 'data2', 'evaluate']],\n",
       "  'predict': []},\n",
       " 'apiVersion': '0.1.0',\n",
       " 'success': 1,\n",
       " 'status': 201,\n",
       " 'method': 'tag.post',\n",
       " 'params': {'collab_id': 'imagenette_synbasic_collaboration',\n",
       "  'project_id': 'imagenette_synbasic_project',\n",
       "  'participant_id': 'worker_2'}}"
      ]
     },
     "execution_count": 10,
     "metadata": {},
     "output_type": "execute_result"
    }
   ],
   "source": [
    "# Worker 2 declares their data tags\n",
    "driver.tags.create(\n",
    "    collab_id=\"imagenette_synbasic_collaboration\",\n",
    "    project_id=\"imagenette_synbasic_project\",\n",
    "    participant_id=\"worker_2\",\n",
    "    train=[[\"imagenette\", \"dataset\", \"data2\", \"train\"]],\n",
    "    evaluate=[[\"imagenette\", \"dataset\", \"data2\", \"evaluate\"]]\n",
    ")"
   ]
  },
  {
   "cell_type": "markdown",
   "metadata": {},
   "source": [
    "## Phase 2: \n",
    "Alignment, Training & Optimisation"
   ]
  },
  {
   "cell_type": "markdown",
   "metadata": {},
   "source": [
    "#### 2A. Perform multiple feature alignment to dynamically configure datasets and models for cross-grid compatibility"
   ]
  },
  {
   "cell_type": "code",
   "execution_count": 11,
   "metadata": {
    "scrolled": false
   },
   "outputs": [
    {
     "data": {
      "text/plain": [
       "{'data': [{'doc_id': '1',\n",
       "   'kind': 'Alignment',\n",
       "   'key': {'collab_id': 'imagenette_synbasic_collaboration',\n",
       "    'project_id': 'imagenette_synbasic_project',\n",
       "    'participant_id': 'worker_1'},\n",
       "   'train': {'X': [], 'y': []},\n",
       "   'evaluate': {'X': [], 'y': []},\n",
       "   'predict': {'X': [], 'y': []}},\n",
       "  {'doc_id': '2',\n",
       "   'kind': 'Alignment',\n",
       "   'key': {'collab_id': 'imagenette_synbasic_collaboration',\n",
       "    'project_id': 'imagenette_synbasic_project',\n",
       "    'participant_id': 'worker_2'},\n",
       "   'train': {'X': [], 'y': []},\n",
       "   'evaluate': {'X': [], 'y': []},\n",
       "   'predict': {'X': [], 'y': []}}],\n",
       " 'apiVersion': '0.1.0',\n",
       " 'success': 1,\n",
       " 'status': 201,\n",
       " 'method': 'alignments.post',\n",
       " 'params': {'collab_id': 'imagenette_synbasic_collaboration',\n",
       "  'project_id': 'imagenette_synbasic_project'}}"
      ]
     },
     "execution_count": 11,
     "metadata": {},
     "output_type": "execute_result"
    }
   ],
   "source": [
    "driver.alignments.create(\n",
    "    collab_id='imagenette_synbasic_collaboration',\n",
    "    project_id=\"imagenette_synbasic_project\",\n",
    "    verbose=False,\n",
    "    log_msg=False\n",
    ")"
   ]
  },
  {
   "cell_type": "markdown",
   "metadata": {},
   "source": [
    "#### 2B. Trigger training across the federated grid"
   ]
  },
  {
   "cell_type": "code",
   "execution_count": 12,
   "metadata": {},
   "outputs": [
    {
     "data": {
      "text/plain": [
       "{'data': [{'doc_id': '1',\n",
       "   'kind': 'Model',\n",
       "   'key': {'project_id': 'imagenette_synbasic_project',\n",
       "    'expt_id': 'imagenette_synbasic_experiment',\n",
       "    'run_id': 'imagenette_synbasic_run'},\n",
       "   'global': {'origin': 'ttp',\n",
       "    'path': '/orchestrator/outputs/imagenette_synbasic_collaboration/imagenette_synbasic_project/imagenette_synbasic_experiment/imagenette_synbasic_run/global_model.pt',\n",
       "    'loss_history': '/orchestrator/outputs/imagenette_synbasic_collaboration/imagenette_synbasic_project/imagenette_synbasic_experiment/imagenette_synbasic_run/global_loss_history.json'},\n",
       "   'local_2': {'origin': 'worker_2',\n",
       "    'path': '/orchestrator/outputs/imagenette_synbasic_collaboration/imagenette_synbasic_project/imagenette_synbasic_experiment/imagenette_synbasic_run/local_model_worker_2.pt',\n",
       "    'loss_history': '/orchestrator/outputs/imagenette_synbasic_collaboration/imagenette_synbasic_project/imagenette_synbasic_experiment/imagenette_synbasic_run/local_loss_history_worker_2.json'},\n",
       "   'local_1': {'origin': 'worker_1',\n",
       "    'path': '/orchestrator/outputs/imagenette_synbasic_collaboration/imagenette_synbasic_project/imagenette_synbasic_experiment/imagenette_synbasic_run/local_model_worker_1.pt',\n",
       "    'loss_history': '/orchestrator/outputs/imagenette_synbasic_collaboration/imagenette_synbasic_project/imagenette_synbasic_experiment/imagenette_synbasic_run/local_loss_history_worker_1.json'}}],\n",
       " 'apiVersion': '0.1.0',\n",
       " 'success': 1,\n",
       " 'status': 200,\n",
       " 'method': 'models.post',\n",
       " 'params': {'collab_id': 'imagenette_synbasic_collaboration',\n",
       "  'project_id': 'imagenette_synbasic_project',\n",
       "  'expt_id': 'imagenette_synbasic_experiment',\n",
       "  'run_id': 'imagenette_synbasic_run'}}"
      ]
     },
     "metadata": {},
     "output_type": "display_data"
    }
   ],
   "source": [
    "model_resp = driver.models.create(\n",
    "    collab_id=\"imagenette_synbasic_collaboration\",\n",
    "    project_id=\"imagenette_synbasic_project\",\n",
    "    expt_id=\"imagenette_synbasic_experiment\",\n",
    "    run_id=\"imagenette_synbasic_run\",\n",
    "    log_msg=False,\n",
    "    verbose=False\n",
    ")\n",
    "display(model_resp)"
   ]
  },
  {
   "cell_type": "markdown",
   "metadata": {},
   "source": [
    "## Phase 3: EVALUATE \n",
    "Validation & Predictions"
   ]
  },
  {
   "cell_type": "markdown",
   "metadata": {},
   "source": [
    "#### 3A. Perform validation(s) of combination(s)"
   ]
  },
  {
   "cell_type": "code",
   "execution_count": 13,
   "metadata": {},
   "outputs": [
    {
     "data": {
      "text/plain": [
       "{'data': [{'doc_id': '1',\n",
       "   'kind': 'Validation',\n",
       "   'key': {'participant_id': 'worker_2',\n",
       "    'collab_id': 'imagenette_synbasic_collaboration',\n",
       "    'project_id': 'imagenette_synbasic_project',\n",
       "    'expt_id': 'imagenette_synbasic_experiment',\n",
       "    'run_id': 'imagenette_synbasic_run'},\n",
       "   'evaluate': {'statistics': {'accuracy': [0.6410256410256411,\n",
       "      0.28205128205128205,\n",
       "      0.6410256410256411],\n",
       "     'roc_auc_score': [0.6571428571428571,\n",
       "      0.5535714285714286,\n",
       "      0.3057142857142857],\n",
       "     'pr_auc_score': [0.4762052516963125,\n",
       "      0.6527777777777778,\n",
       "      0.32853113306969894],\n",
       "     'f_score': [0.0, 0.44000000000000006, 0.0],\n",
       "     'TPRs': [0.0, 1.0, 0.0],\n",
       "     'TNRs': [1.0, 0.0, 1.0],\n",
       "     'PPVs': [0.0, 0.28205128205128205, 0.0],\n",
       "     'NPVs': [0.6410256410256411, 0.0, 0.6410256410256411],\n",
       "     'FPRs': [0.0, 1.0, 0.0],\n",
       "     'FNRs': [1.0, 0.0, 1.0],\n",
       "     'FDRs': [0.0, 0.717948717948718, 0.0],\n",
       "     'TPs': [0, 11, 0],\n",
       "     'TNs': [25, 0, 25],\n",
       "     'FPs': [0, 28, 0],\n",
       "     'FNs': [14, 0, 14]},\n",
       "    'res_path': '/worker/outputs/imagenette_synbasic_collaboration/imagenette_synbasic_project/imagenette_synbasic_experiment/imagenette_synbasic_run/evaluate/inference_statistics_evaluate.json'}},\n",
       "  {'doc_id': '2',\n",
       "   'kind': 'Validation',\n",
       "   'key': {'participant_id': 'worker_1',\n",
       "    'collab_id': 'imagenette_synbasic_collaboration',\n",
       "    'project_id': 'imagenette_synbasic_project',\n",
       "    'expt_id': 'imagenette_synbasic_experiment',\n",
       "    'run_id': 'imagenette_synbasic_run'},\n",
       "   'evaluate': {'statistics': {'accuracy': [0.631578947368421,\n",
       "      0.3157894736842105,\n",
       "      0.6842105263157895],\n",
       "     'roc_auc_score': [0.48363095238095244,\n",
       "      0.4166666666666667,\n",
       "      0.2628205128205128],\n",
       "     'pr_auc_score': [0.34680266353428607,\n",
       "      0.5819141509930984,\n",
       "      0.21460644098424037],\n",
       "     'f_score': [0.0, 0.4799999999999999, 0.0],\n",
       "     'TPRs': [0.0, 1.0, 0.0],\n",
       "     'TNRs': [1.0, 0.0, 1.0],\n",
       "     'PPVs': [0.0, 0.3157894736842105, 0.0],\n",
       "     'NPVs': [0.631578947368421, 0.0, 0.6842105263157895],\n",
       "     'FPRs': [0.0, 1.0, 0.0],\n",
       "     'FNRs': [1.0, 0.0, 1.0],\n",
       "     'FDRs': [0.0, 0.6842105263157895, 0.0],\n",
       "     'TPs': [0, 12, 0],\n",
       "     'TNs': [24, 0, 26],\n",
       "     'FPs': [0, 26, 0],\n",
       "     'FNs': [14, 0, 12]},\n",
       "    'res_path': '/worker/outputs/imagenette_synbasic_collaboration/imagenette_synbasic_project/imagenette_synbasic_experiment/imagenette_synbasic_run/evaluate/inference_statistics_evaluate.json'}}],\n",
       " 'apiVersion': '0.1.0',\n",
       " 'success': 1,\n",
       " 'status': 200,\n",
       " 'method': 'validations.post',\n",
       " 'params': {'collab_id': 'imagenette_synbasic_collaboration',\n",
       "  'project_id': 'imagenette_synbasic_project',\n",
       "  'expt_id': 'imagenette_synbasic_experiment',\n",
       "  'run_id': 'imagenette_synbasic_run'}}"
      ]
     },
     "execution_count": 13,
     "metadata": {},
     "output_type": "execute_result"
    }
   ],
   "source": [
    "# Orchestrator performs post-mortem validation\n",
    "driver.validations.create(\n",
    "    collab_id=\"imagenette_synbasic_collaboration\",\n",
    "    project_id=\"imagenette_synbasic_project\",\n",
    "    expt_id=\"imagenette_synbasic_experiment\",\n",
    "    run_id=\"imagenette_synbasic_run\",\n",
    "    log_msg=False,\n",
    "    verbose=False\n",
    ")"
   ]
  },
  {
   "cell_type": "markdown",
   "metadata": {},
   "source": [
    "#### 3B. Perform prediction(s) of combination(s)"
   ]
  },
  {
   "cell_type": "code",
   "execution_count": 14,
   "metadata": {},
   "outputs": [
    {
     "data": {
      "text/plain": [
       "{'data': [{'doc_id': '1',\n",
       "   'kind': 'Prediction',\n",
       "   'key': {'participant_id': 'worker_1',\n",
       "    'project_id': 'imagenette_synbasic_project',\n",
       "    'expt_id': 'imagenette_synbasic_experiment',\n",
       "    'run_id': 'imagenette_synbasic_run'},\n",
       "   'predict': {'statistics': {'accuracy': [0.6410256410256411,\n",
       "      0.28205128205128205,\n",
       "      0.6410256410256411],\n",
       "     'roc_auc_score': [0.6, 0.47530864197530864, 0.1923076923076923],\n",
       "     'pr_auc_score': [0.5633047557095371,\n",
       "      0.6194765109238793,\n",
       "      0.21179107312019663],\n",
       "     'f_score': [0.0, 0.43999999999999995, 0.0],\n",
       "     'TPRs': [0.0, 0.9166666666666666, 0.0],\n",
       "     'TNRs': [1.0, 0.0, 0.9615384615384616],\n",
       "     'PPVs': [0.0, 0.2894736842105263, 0.0],\n",
       "     'NPVs': [0.6410256410256411, 0.0, 0.6578947368421053],\n",
       "     'FPRs': [0.0, 1.0, 0.038461538461538464],\n",
       "     'FNRs': [1.0, 0.08333333333333333, 1.0],\n",
       "     'FDRs': [0.0, 0.7105263157894737, 1.0],\n",
       "     'TPs': [0, 11, 0],\n",
       "     'TNs': [25, 0, 25],\n",
       "     'FPs': [0, 27, 1],\n",
       "     'FNs': [14, 1, 13]},\n",
       "    'res_path': '/worker/outputs/imagenette_synbasic_collaboration/imagenette_synbasic_project/imagenette_synbasic_experiment/imagenette_synbasic_run/predict/inference_statistics_predict.json'}}],\n",
       " 'apiVersion': '0.1.0',\n",
       " 'success': 1,\n",
       " 'status': 200,\n",
       " 'method': 'predictions.post',\n",
       " 'params': {'collab_id': 'imagenette_synbasic_collaboration',\n",
       "  'project_id': 'imagenette_synbasic_project',\n",
       "  'expt_id': 'imagenette_synbasic_experiment',\n",
       "  'run_id': 'imagenette_synbasic_run',\n",
       "  'participant_id': 'worker_1'}}"
      ]
     },
     "execution_count": 14,
     "metadata": {},
     "output_type": "execute_result"
    }
   ],
   "source": [
    "# Worker 1 requests for inferences\n",
    "driver.predictions.create(\n",
    "    tags={\"imagenette_synbasic_project\": [[\"imagenette\", \"dataset\", \"data1\", \"predict\"]]},\n",
    "    participant_id=\"worker_1\",\n",
    "    collab_id=\"imagenette_synbasic_collaboration\",\n",
    "    project_id=\"imagenette_synbasic_project\",\n",
    "    expt_id=\"imagenette_synbasic_experiment\",\n",
    "    run_id=\"imagenette_synbasic_run\"\n",
    ")"
   ]
  },
  {
   "cell_type": "code",
   "execution_count": 15,
   "metadata": {},
   "outputs": [
    {
     "data": {
      "text/plain": [
       "{'data': [{'doc_id': '2',\n",
       "   'kind': 'Prediction',\n",
       "   'key': {'participant_id': 'worker_2',\n",
       "    'project_id': 'imagenette_synbasic_project',\n",
       "    'expt_id': 'imagenette_synbasic_experiment',\n",
       "    'run_id': 'imagenette_synbasic_run'},\n",
       "   'predict': {'statistics': {'accuracy': [0.6216216216216216,\n",
       "      0.2972972972972973,\n",
       "      0.6756756756756757],\n",
       "     'roc_auc_score': [0.46894409937888193,\n",
       "      0.5384615384615384,\n",
       "      0.42666666666666664],\n",
       "     'pr_auc_score': [0.35763547120363987,\n",
       "      0.6571428571428571,\n",
       "      0.2950810680796075],\n",
       "     'f_score': [0.0, 0.4583333333333333, 0.0],\n",
       "     'TPRs': [0.0, 1.0, 0.0],\n",
       "     'TNRs': [1.0, 0.0, 1.0],\n",
       "     'PPVs': [0.0, 0.2972972972972973, 0.0],\n",
       "     'NPVs': [0.6216216216216216, 0.0, 0.6756756756756757],\n",
       "     'FPRs': [0.0, 1.0, 0.0],\n",
       "     'FNRs': [1.0, 0.0, 1.0],\n",
       "     'FDRs': [0.0, 0.7027027027027027, 0.0],\n",
       "     'TPs': [0, 11, 0],\n",
       "     'TNs': [23, 0, 25],\n",
       "     'FPs': [0, 26, 0],\n",
       "     'FNs': [14, 0, 12]},\n",
       "    'res_path': '/worker/outputs/imagenette_synbasic_collaboration/imagenette_synbasic_project/imagenette_synbasic_experiment/imagenette_synbasic_run/predict/inference_statistics_predict.json'}}],\n",
       " 'apiVersion': '0.1.0',\n",
       " 'success': 1,\n",
       " 'status': 200,\n",
       " 'method': 'predictions.post',\n",
       " 'params': {'collab_id': 'imagenette_synbasic_collaboration',\n",
       "  'project_id': 'imagenette_synbasic_project',\n",
       "  'expt_id': 'imagenette_synbasic_experiment',\n",
       "  'run_id': 'imagenette_synbasic_run',\n",
       "  'participant_id': 'worker_2'}}"
      ]
     },
     "execution_count": 15,
     "metadata": {},
     "output_type": "execute_result"
    }
   ],
   "source": [
    "# Worker 2 requests for inferences\n",
    "driver.predictions.create(\n",
    "    tags={\"imagenette_synbasic_project\": [[\"imagenette\", \"dataset\", \"data2\", \"predict\"]]},\n",
    "    participant_id=\"worker_2\",\n",
    "    collab_id=\"imagenette_synbasic_collaboration\",\n",
    "    project_id=\"imagenette_synbasic_project\",\n",
    "    expt_id=\"imagenette_synbasic_experiment\",\n",
    "    run_id=\"imagenette_synbasic_run\"\n",
    ")"
   ]
  },
  {
   "cell_type": "code",
   "execution_count": null,
   "metadata": {},
   "outputs": [],
   "source": []
  }
 ],
 "metadata": {
  "kernelspec": {
   "display_name": "Python 3 (ipykernel)",
   "language": "python",
   "name": "python3"
  },
  "language_info": {
   "codemirror_mode": {
    "name": "ipython",
    "version": 3
   },
   "file_extension": ".py",
   "mimetype": "text/x-python",
   "name": "python",
   "nbconvert_exporter": "python",
   "pygments_lexer": "ipython3",
   "version": "3.7.11"
  }
 },
 "nbformat": 4,
 "nbformat_minor": 4
}
