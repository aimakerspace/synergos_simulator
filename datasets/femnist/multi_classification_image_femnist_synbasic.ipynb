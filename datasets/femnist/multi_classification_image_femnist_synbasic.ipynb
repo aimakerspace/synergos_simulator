{
 "cells": [
  {
   "cell_type": "markdown",
   "metadata": {},
   "source": [
    "# Running a Federated Cycle with Synergos\n",
    "\n",
    "This tutorial aims to give you an understanding of how to use the synergos package to run a full federated learning cycle. \n",
    "\n",
    "In a federated learning system, there are many contributory participants, known as Worker nodes, which receive a global model to train on, with their own local dataset. The dataset does not leave the individual Worker nodes at any point, and remains private to the node.\n",
    "\n",
    "The job to synchronize, orchestrate and initiate an federated learning cycle, falls on a Trusted Third Party (TTP). The TTP pushes out the global model architecture and parameters for the individual nodes to train on, calling upon the required data, based on tags, e.g \"training\", which points to relevant data on the individual nodes. At no point does the TTP receive, copy or access the Worker nodes' local datasets.\n",
    "\n",
    "In this tutorial, you will go through the steps required by each participant (TTP and Worker), by simulating each of them locally with docker containers. Specifically, we will simulate a TTP and 2 Workers. \n",
    "\n",
    "At the end of this, we will have:\n",
    "- Connected the participants\n",
    "- Trained the model\n",
    "- Evaluate the model\n",
    "\n",
    "## About the Dataset and Task\n",
    "\n",
    "The dataset used in this notebook is on a small subset of Federated EMNIST (FEMNIST) images, comprising 3 classes, and all images are 28 x 28 pixels. The dataset is available in the same directory as this notebook. Within the dataset directory, `data1` is for Worker 1 and `data2` is for Worker 2. The task to be carried out will be a multi-classification.\n",
    "\n",
    "The dataset we have provided is a processed subset of the original FEMNIST dataset retrieved from [here](https://github.com/TalwalkarLab/leaf/tree/master/data/femnist)."
   ]
  },
  {
   "cell_type": "markdown",
   "metadata": {},
   "source": [
    "## Initiating the docker containers"
   ]
  },
  {
   "cell_type": "markdown",
   "metadata": {},
   "source": [
    "Before we begin, we have to start the docker containers.\n",
    "\n",
    "Firstly, pull the required docker images with the following commands:\n",
    "1. Synergos TTP (Basic):\n",
    "\n",
    "`docker pull registry.aisingapore.net/fedlearn/synergos_ttp:syn0.7`\n",
    "\n",
    "2. Synergos Worker:\n",
    "\n",
    "`docker pull registry.aisingapore.net/fedlearn/synergos_worker:syn0.5`\n",
    "\n",
    "Next, in <u>separate</u> CLI terminals, run the following command:\n",
    "\n",
    "**Note: For Windows users, it is advisable to use powershell or command prompt based interfaces**\n",
    "\n",
    "**Worker 1**\n",
    "\n",
    "```docker run -v <directory femnist/data1>:/worker/data -v <directory femnist/outputs_1>:/worker/outputs --name worker_1 synergos_worker:v0.1.0 --id worker_1 --logging_variant basic```\n",
    "\n",
    "**Worker 2**\n",
    "\n",
    "```docker run -v <directory femnist/data2>:/worker/data -v <directory femnist/outputs_2>:/worker/outputs --name worker_2 synergos_worker:v0.1.0 --id worker_2 --logging_variant basic```\n",
    "\n",
    "**TTP**\n",
    "\n",
    "```docker run -p 0.0.0.0:5000:5000 -p 5678:5678 -p 8020:8020 -p 8080:8080 -v <directory femnist/mlflow_test>:/ttp/mlflow -v <directory femnist/ttp_data>:/ttp/data --name ttp --link worker_1 --link worker_2 synergos_ttp:v0.1.0 --id ttp --logging_variant basic -c```\n"
   ]
  },
  {
   "cell_type": "markdown",
   "metadata": {},
   "source": [
    "Once ready, for each terminal, you should see that a Flask app is running on http://0.0.0.0:5000 of the container.\n",
    "\n",
    "You are now ready for the next step."
   ]
  },
  {
   "cell_type": "markdown",
   "metadata": {},
   "source": [
    "## Configuration\n",
    "\n",
    "In a new terminal, run `docker inspect bridge` and find the IPv4Address for each container. Ideally, the containers should have the following addresses:\n",
    "- worker_1 address: 172.17.0.2\n",
    "- worker_2 address: 172.17.0.3\n",
    "- ttp address: 172.17.0.4\n",
    "\n",
    "If not, just note the relevant IP addresses for each docker container.\n",
    "\n",
    "Run the following cells below.\n",
    "\n",
    "**Note: For Windows users, `host` should be Docker Desktop VM's IP. Follow [this](https://stackoverflow.com/questions/58073936/how-to-get-ip-address-of-docker-desktop-vm) on instructions to find IP**"
   ]
  },
  {
   "cell_type": "code",
   "execution_count": 1,
   "metadata": {},
   "outputs": [],
   "source": [
    "from synergos import Driver\n",
    "\n",
    "host = \"172.18.0.2\"\n",
    "port = 5000\n",
    "\n",
    "# Initiate Driver\n",
    "driver = Driver(host=host, port=port)"
   ]
  },
  {
   "cell_type": "markdown",
   "metadata": {},
   "source": [
    "## Phase 1: Connect\n",
    "\n",
    "Submitting TTP & Participant metadata"
   ]
  },
  {
   "cell_type": "markdown",
   "metadata": {},
   "source": [
    "#### 1A. Orchestrator creates a collaboration"
   ]
  },
  {
   "cell_type": "code",
   "execution_count": 2,
   "metadata": {},
   "outputs": [
    {
     "data": {
      "text/plain": [
       "{'data': {'doc_id': '2',\n",
       "  'kind': 'Collaboration',\n",
       "  'key': {'collab_id': 'femnist_synbasic_collaboration'},\n",
       "  'relations': {'Project': [],\n",
       "   'Experiment': [],\n",
       "   'Run': [],\n",
       "   'Registration': [],\n",
       "   'Tag': [],\n",
       "   'Model': [],\n",
       "   'Validation': [],\n",
       "   'Prediction': []}},\n",
       " 'apiVersion': '0.2.0',\n",
       " 'success': 1,\n",
       " 'status': 201,\n",
       " 'method': 'collaborations.post',\n",
       " 'params': {}}"
      ]
     },
     "execution_count": 2,
     "metadata": {},
     "output_type": "execute_result"
    }
   ],
   "source": [
    "collab_task = driver.collaborations\n",
    "collab_task.create('femnist_synbasic_collaboration')"
   ]
  },
  {
   "cell_type": "markdown",
   "metadata": {},
   "source": [
    "#### 1B. Orchestrator creates a project"
   ]
  },
  {
   "cell_type": "code",
   "execution_count": 3,
   "metadata": {},
   "outputs": [
    {
     "data": {
      "text/plain": [
       "{'data': {'doc_id': '2',\n",
       "  'kind': 'Project',\n",
       "  'key': {'collab_id': 'femnist_synbasic_collaboration',\n",
       "   'project_id': 'femnist_synbasic_project'},\n",
       "  'relations': {'Experiment': [],\n",
       "   'Run': [],\n",
       "   'Registration': [],\n",
       "   'Tag': [],\n",
       "   'Model': [],\n",
       "   'Validation': [],\n",
       "   'Prediction': []},\n",
       "  'action': 'classify',\n",
       "  'incentives': {'tier_2': [], 'tier_1': []}},\n",
       " 'apiVersion': '0.2.0',\n",
       " 'success': 1,\n",
       " 'status': 201,\n",
       " 'method': 'projects.post',\n",
       " 'params': {'collab_id': 'femnist_synbasic_collaboration'}}"
      ]
     },
     "execution_count": 3,
     "metadata": {},
     "output_type": "execute_result"
    }
   ],
   "source": [
    "driver.projects.create(\n",
    "    collab_id=\"femnist_synbasic_collaboration\",\n",
    "    project_id=\"femnist_synbasic_project\",\n",
    "    action=\"classify\",\n",
    "    incentives={\n",
    "        'tier_1': [],\n",
    "        'tier_2': [],\n",
    "    }\n",
    ")"
   ]
  },
  {
   "cell_type": "markdown",
   "metadata": {},
   "source": [
    "#### 1C. Orchestrator creates an experiment"
   ]
  },
  {
   "cell_type": "code",
   "execution_count": 4,
   "metadata": {},
   "outputs": [
    {
     "data": {
      "text/plain": [
       "{'apiVersion': '0.2.0',\n",
       " 'success': 1,\n",
       " 'status': 201,\n",
       " 'method': 'experiments.post',\n",
       " 'params': {'collab_id': 'femnist_synbasic_collaboration',\n",
       "  'project_id': 'femnist_synbasic_project'},\n",
       " 'data': {'created_at': '2021-09-06 11:21:02 N',\n",
       "  'key': {'collab_id': 'femnist_synbasic_collaboration',\n",
       "   'expt_id': 'femnist_synbasic_experiment',\n",
       "   'project_id': 'femnist_synbasic_project'},\n",
       "  'model': [{'activation': 'relu',\n",
       "    'is_input': True,\n",
       "    'l_type': 'Conv2d',\n",
       "    'structure': {'in_channels': 1,\n",
       "     'kernel_size': 3,\n",
       "     'out_channels': 4,\n",
       "     'padding': 1,\n",
       "     'stride': 1}},\n",
       "   {'activation': None,\n",
       "    'is_input': False,\n",
       "    'l_type': 'Flatten',\n",
       "    'structure': {}},\n",
       "   {'activation': 'softmax',\n",
       "    'is_input': False,\n",
       "    'l_type': 'Linear',\n",
       "    'structure': {'bias': True, 'in_features': 3136, 'out_features': 3}}],\n",
       "  'relations': {'Run': [], 'Model': [], 'Validation': [], 'Prediction': []},\n",
       "  'doc_id': 2,\n",
       "  'kind': 'Experiment'}}"
      ]
     },
     "execution_count": 4,
     "metadata": {},
     "output_type": "execute_result"
    }
   ],
   "source": [
    "driver.experiments.create(\n",
    "    collab_id=\"femnist_synbasic_collaboration\",\n",
    "    project_id=\"femnist_synbasic_project\",\n",
    "    expt_id=\"femnist_synbasic_experiment\",\n",
    "    model=[\n",
    "        {\n",
    "            \"activation\": \"relu\",\n",
    "            \"is_input\": True,\n",
    "            \"l_type\": \"Conv2d\",\n",
    "            \"structure\": {\n",
    "                \"in_channels\": 1, \n",
    "                \"out_channels\": 4,\n",
    "                \"kernel_size\": 3,\n",
    "                \"stride\": 1,\n",
    "                \"padding\": 1\n",
    "            }\n",
    "        },\n",
    "        {\n",
    "            \"activation\": None,\n",
    "            \"is_input\": False,\n",
    "            \"l_type\": \"Flatten\",\n",
    "            \"structure\": {}\n",
    "        },\n",
    "        {\n",
    "            \"activation\": \"softmax\",\n",
    "            \"is_input\": False,\n",
    "            \"l_type\": \"Linear\",\n",
    "            \"structure\": {\n",
    "                \"bias\": True,\n",
    "                \"in_features\": 4 * 28 * 28,\n",
    "                \"out_features\": 3\n",
    "            }\n",
    "        }\n",
    "\n",
    "    ]\n",
    ")"
   ]
  },
  {
   "cell_type": "markdown",
   "metadata": {},
   "source": [
    "#### 1D. Orchestrator creates a run"
   ]
  },
  {
   "cell_type": "code",
   "execution_count": 5,
   "metadata": {},
   "outputs": [
    {
     "data": {
      "text/plain": [
       "{'data': {'doc_id': '2',\n",
       "  'kind': 'Run',\n",
       "  'key': {'collab_id': 'femnist_synbasic_collaboration',\n",
       "   'project_id': 'femnist_synbasic_project',\n",
       "   'expt_id': 'femnist_synbasic_experiment',\n",
       "   'run_id': 'femnist_synbasic_run'},\n",
       "  'relations': {'Model': [], 'Validation': [], 'Prediction': []},\n",
       "  'rounds': 2,\n",
       "  'epochs': 1,\n",
       "  'lr': 0.001,\n",
       "  'lr_decay': 0.1,\n",
       "  'weight_decay': 0.0,\n",
       "  'seed': 42,\n",
       "  'precision_fractional': 5,\n",
       "  'mu': 0.1,\n",
       "  'l1_lambda': 0.0,\n",
       "  'l2_lambda': 0.0,\n",
       "  'base_lr': 0.0005,\n",
       "  'max_lr': 0.005,\n",
       "  'patience': 10,\n",
       "  'delta': 0.0},\n",
       " 'apiVersion': '0.2.0',\n",
       " 'success': 1,\n",
       " 'status': 201,\n",
       " 'method': 'runs.post',\n",
       " 'params': {'collab_id': 'femnist_synbasic_collaboration',\n",
       "  'project_id': 'femnist_synbasic_project',\n",
       "  'expt_id': 'femnist_synbasic_experiment'}}"
      ]
     },
     "execution_count": 5,
     "metadata": {},
     "output_type": "execute_result"
    }
   ],
   "source": [
    "driver.runs.create(\n",
    "    collab_id=\"femnist_synbasic_collaboration\",\n",
    "    project_id=\"femnist_synbasic_project\",\n",
    "    expt_id=\"femnist_synbasic_experiment\",\n",
    "    run_id=\"femnist_synbasic_run\",\n",
    "    rounds=2, \n",
    "    epochs=1,\n",
    "    base_lr=0.0005,\n",
    "    max_lr=0.005,\n",
    "    criterion=\"BCELoss\"\n",
    ")"
   ]
  },
  {
   "cell_type": "markdown",
   "metadata": {},
   "source": [
    "#### 1E. Participants registers their servers' configurations and roles"
   ]
  },
  {
   "cell_type": "code",
   "execution_count": 6,
   "metadata": {},
   "outputs": [
    {
     "data": {
      "text/plain": [
       "{'data': {'doc_id': '1',\n",
       "  'kind': 'Participant',\n",
       "  'key': {'participant_id': 'worker_1'},\n",
       "  'relations': {'Registration': [{'doc_id': '3',\n",
       "     'kind': 'Registration',\n",
       "     'key': {'collab_id': 'femnist_synplus_collaboration',\n",
       "      'project_id': 'femnist_synplus_project',\n",
       "      'participant_id': 'worker_1'},\n",
       "     'collaboration': {'catalogue': {},\n",
       "      'logs': {},\n",
       "      'meter': {},\n",
       "      'mlops': {},\n",
       "      'mq': {}},\n",
       "     'project': {'action': None, 'incentives': {}, 'start_at': None},\n",
       "     'participant': {'id': None,\n",
       "      'category': [],\n",
       "      'summary': None,\n",
       "      'phone': None,\n",
       "      'email': None,\n",
       "      'socials': {}},\n",
       "     'role': 'host',\n",
       "     'n_count': 1,\n",
       "     'node_0': {'host': '172.19.0.3',\n",
       "      'port': 8020,\n",
       "      'log_msgs': True,\n",
       "      'verbose': True,\n",
       "      'f_port': 5000}}],\n",
       "   'Tag': [{'doc_id': '1',\n",
       "     'kind': 'Tag',\n",
       "     'key': {'collab_id': 'femnist_synplus_collaboration',\n",
       "      'project_id': 'femnist_synplus_project',\n",
       "      'participant_id': 'worker_1'},\n",
       "     'train': [['femnist', 'dataset', 'data1', 'train']],\n",
       "     'evaluate': [['femnist', 'dataset', 'data1', 'evaluate']],\n",
       "     'predict': [['femnist', 'dataset', 'data1', 'predict']]}]},\n",
       "  'id': 'worker_1'},\n",
       " 'apiVersion': '0.2.0',\n",
       " 'success': 1,\n",
       " 'status': 201,\n",
       " 'method': 'participants.post',\n",
       " 'params': {}}"
      ]
     },
     "metadata": {},
     "output_type": "display_data"
    },
    {
     "data": {
      "text/plain": [
       "{'data': {'doc_id': '2',\n",
       "  'kind': 'Participant',\n",
       "  'key': {'participant_id': 'worker_2'},\n",
       "  'relations': {'Registration': [{'doc_id': '4',\n",
       "     'kind': 'Registration',\n",
       "     'key': {'collab_id': 'femnist_synplus_collaboration',\n",
       "      'project_id': 'femnist_synplus_project',\n",
       "      'participant_id': 'worker_2'},\n",
       "     'collaboration': {'catalogue': {},\n",
       "      'logs': {},\n",
       "      'meter': {},\n",
       "      'mlops': {},\n",
       "      'mq': {}},\n",
       "     'project': {'action': None, 'incentives': {}, 'start_at': None},\n",
       "     'participant': {'id': None,\n",
       "      'category': [],\n",
       "      'summary': None,\n",
       "      'phone': None,\n",
       "      'email': None,\n",
       "      'socials': {}},\n",
       "     'role': 'guest',\n",
       "     'n_count': 1,\n",
       "     'node_0': {'host': '172.19.0.4',\n",
       "      'port': 8020,\n",
       "      'log_msgs': True,\n",
       "      'verbose': True,\n",
       "      'f_port': 5000}}],\n",
       "   'Tag': [{'doc_id': '2',\n",
       "     'kind': 'Tag',\n",
       "     'key': {'collab_id': 'femnist_synplus_collaboration',\n",
       "      'project_id': 'femnist_synplus_project',\n",
       "      'participant_id': 'worker_2'},\n",
       "     'train': [['femnist', 'dataset', 'data2', 'train']],\n",
       "     'evaluate': [['femnist', 'dataset', 'data2', 'evaluate']],\n",
       "     'predict': [['femnist', 'dataset', 'data2', 'predict']]}]},\n",
       "  'id': 'worker_2'},\n",
       " 'apiVersion': '0.2.0',\n",
       " 'success': 1,\n",
       " 'status': 201,\n",
       " 'method': 'participants.post',\n",
       " 'params': {}}"
      ]
     },
     "metadata": {},
     "output_type": "display_data"
    }
   ],
   "source": [
    "participant_resp_1 = driver.participants.create(\n",
    "    participant_id=\"worker_1\",\n",
    ")\n",
    "\n",
    "display(participant_resp_1)\n",
    "\n",
    "participant_resp_2 = driver.participants.create(\n",
    "    participant_id=\"worker_2\",\n",
    ")\n",
    "\n",
    "display(participant_resp_2)"
   ]
  },
  {
   "cell_type": "code",
   "execution_count": 7,
   "metadata": {},
   "outputs": [
    {
     "data": {
      "text/plain": [
       "{'data': {'doc_id': '5',\n",
       "  'kind': 'Registration',\n",
       "  'key': {'collab_id': 'femnist_synbasic_collaboration',\n",
       "   'project_id': 'femnist_synbasic_project',\n",
       "   'participant_id': 'worker_1'},\n",
       "  'relations': {'Tag': []},\n",
       "  'collaboration': {'catalogue': {},\n",
       "   'logs': {},\n",
       "   'meter': {},\n",
       "   'mlops': {},\n",
       "   'mq': {}},\n",
       "  'project': {'action': 'classify',\n",
       "   'incentives': {'tier_2': [], 'tier_1': []},\n",
       "   'start_at': None},\n",
       "  'participant': {'id': 'worker_1',\n",
       "   'category': [],\n",
       "   'summary': None,\n",
       "   'phone': None,\n",
       "   'email': None,\n",
       "   'socials': {}},\n",
       "  'role': 'host',\n",
       "  'n_count': 1,\n",
       "  'node_0': {'host': '172.18.0.3',\n",
       "   'port': 8020,\n",
       "   'log_msgs': True,\n",
       "   'verbose': True,\n",
       "   'f_port': 5000}},\n",
       " 'apiVersion': '0.2.0',\n",
       " 'success': 1,\n",
       " 'status': 201,\n",
       " 'method': 'registration.post',\n",
       " 'params': {'collab_id': 'femnist_synbasic_collaboration',\n",
       "  'project_id': 'femnist_synbasic_project',\n",
       "  'participant_id': 'worker_1'}}"
      ]
     },
     "execution_count": 7,
     "metadata": {},
     "output_type": "execute_result"
    }
   ],
   "source": [
    "registration_task = driver.registrations\n",
    "\n",
    "# Add and register worker_1 node\n",
    "registration_task.add_node(\n",
    "    host='172.18.0.3',\n",
    "    port=8020,\n",
    "    f_port=5000,\n",
    "    log_msgs=True,\n",
    "    verbose=True\n",
    ")\n",
    "\n",
    "registration_task.create(\n",
    "    collab_id=\"femnist_synbasic_collaboration\",\n",
    "    project_id=\"femnist_synbasic_project\",\n",
    "    participant_id=\"worker_1\",\n",
    "    role=\"host\"\n",
    ")"
   ]
  },
  {
   "cell_type": "code",
   "execution_count": 8,
   "metadata": {},
   "outputs": [
    {
     "data": {
      "text/plain": [
       "{'data': {'doc_id': '6',\n",
       "  'kind': 'Registration',\n",
       "  'key': {'collab_id': 'femnist_synbasic_collaboration',\n",
       "   'project_id': 'femnist_synbasic_project',\n",
       "   'participant_id': 'worker_2'},\n",
       "  'relations': {'Tag': []},\n",
       "  'collaboration': {'catalogue': {},\n",
       "   'logs': {},\n",
       "   'meter': {},\n",
       "   'mlops': {},\n",
       "   'mq': {}},\n",
       "  'project': {'action': 'classify',\n",
       "   'incentives': {'tier_2': [], 'tier_1': []},\n",
       "   'start_at': None},\n",
       "  'participant': {'id': 'worker_2',\n",
       "   'category': [],\n",
       "   'summary': None,\n",
       "   'phone': None,\n",
       "   'email': None,\n",
       "   'socials': {}},\n",
       "  'role': 'guest',\n",
       "  'n_count': 1,\n",
       "  'node_0': {'host': '172.18.0.4',\n",
       "   'port': 8020,\n",
       "   'log_msgs': True,\n",
       "   'verbose': True,\n",
       "   'f_port': 5000}},\n",
       " 'apiVersion': '0.2.0',\n",
       " 'success': 1,\n",
       " 'status': 201,\n",
       " 'method': 'registration.post',\n",
       " 'params': {'collab_id': 'femnist_synbasic_collaboration',\n",
       "  'project_id': 'femnist_synbasic_project',\n",
       "  'participant_id': 'worker_2'}}"
      ]
     },
     "execution_count": 8,
     "metadata": {},
     "output_type": "execute_result"
    }
   ],
   "source": [
    "registration_task = driver.registrations\n",
    "\n",
    "# Add and register worker_2 node\n",
    "registration_task.add_node(\n",
    "    host='172.18.0.4',\n",
    "    port=8020,\n",
    "    f_port=5000,\n",
    "    log_msgs=True,\n",
    "    verbose=True\n",
    ")\n",
    "\n",
    "registration_task.create(\n",
    "    collab_id=\"femnist_synbasic_collaboration\",\n",
    "    project_id=\"femnist_synbasic_project\",\n",
    "    participant_id=\"worker_2\",\n",
    "    role=\"guest\"\n",
    ")"
   ]
  },
  {
   "cell_type": "markdown",
   "metadata": {},
   "source": [
    "#### 1F. Participants registers their tags for a specific project"
   ]
  },
  {
   "cell_type": "code",
   "execution_count": 9,
   "metadata": {},
   "outputs": [
    {
     "data": {
      "text/plain": [
       "{'data': {'doc_id': '3',\n",
       "  'kind': 'Tag',\n",
       "  'key': {'collab_id': 'femnist_synbasic_collaboration',\n",
       "   'project_id': 'femnist_synbasic_project',\n",
       "   'participant_id': 'worker_1'},\n",
       "  'train': [['femnist', 'dataset', 'data1', 'train']],\n",
       "  'evaluate': [['femnist', 'dataset', 'data1', 'evaluate']],\n",
       "  'predict': []},\n",
       " 'apiVersion': '0.2.0',\n",
       " 'success': 1,\n",
       " 'status': 201,\n",
       " 'method': 'tag.post',\n",
       " 'params': {'collab_id': 'femnist_synbasic_collaboration',\n",
       "  'project_id': 'femnist_synbasic_project',\n",
       "  'participant_id': 'worker_1'}}"
      ]
     },
     "execution_count": 9,
     "metadata": {},
     "output_type": "execute_result"
    }
   ],
   "source": [
    "# Worker 1 declares their data tags\n",
    "driver.tags.create(\n",
    "    collab_id=\"femnist_synbasic_collaboration\",\n",
    "    project_id=\"femnist_synbasic_project\",\n",
    "    participant_id=\"worker_1\",\n",
    "    train=[[\"femnist\", \"dataset\", \"data1\", \"train\"]],\n",
    "    evaluate=[[\"femnist\", \"dataset\", \"data1\", \"evaluate\"]]\n",
    ")"
   ]
  },
  {
   "cell_type": "code",
   "execution_count": 10,
   "metadata": {},
   "outputs": [
    {
     "data": {
      "text/plain": [
       "{'data': {'doc_id': '4',\n",
       "  'kind': 'Tag',\n",
       "  'key': {'collab_id': 'femnist_synbasic_collaboration',\n",
       "   'project_id': 'femnist_synbasic_project',\n",
       "   'participant_id': 'worker_2'},\n",
       "  'train': [['femnist', 'dataset', 'data2', 'train']],\n",
       "  'evaluate': [['femnist', 'dataset', 'data2', 'evaluate']],\n",
       "  'predict': []},\n",
       " 'apiVersion': '0.2.0',\n",
       " 'success': 1,\n",
       " 'status': 201,\n",
       " 'method': 'tag.post',\n",
       " 'params': {'collab_id': 'femnist_synbasic_collaboration',\n",
       "  'project_id': 'femnist_synbasic_project',\n",
       "  'participant_id': 'worker_2'}}"
      ]
     },
     "execution_count": 10,
     "metadata": {},
     "output_type": "execute_result"
    }
   ],
   "source": [
    "# Worker 2 declares their data tags\n",
    "driver.tags.create(\n",
    "    collab_id=\"femnist_synbasic_collaboration\",\n",
    "    project_id=\"femnist_synbasic_project\",\n",
    "    participant_id=\"worker_2\",\n",
    "    train=[[\"femnist\", \"dataset\", \"data2\", \"train\"]],\n",
    "    evaluate=[[\"femnist\", \"dataset\", \"data2\", \"evaluate\"]]\n",
    ")"
   ]
  },
  {
   "cell_type": "markdown",
   "metadata": {},
   "source": [
    "## Phase 2: \n",
    "Alignment, Training & Optimisation"
   ]
  },
  {
   "cell_type": "markdown",
   "metadata": {},
   "source": [
    "#### 2A. Perform multiple feature alignment to dynamically configure datasets and models for cross-grid compatibility"
   ]
  },
  {
   "cell_type": "code",
   "execution_count": 11,
   "metadata": {
    "scrolled": false
   },
   "outputs": [
    {
     "data": {
      "text/plain": [
       "{'data': [{'doc_id': '3',\n",
       "   'kind': 'Alignment',\n",
       "   'key': {'collab_id': 'femnist_synbasic_collaboration',\n",
       "    'project_id': 'femnist_synbasic_project',\n",
       "    'participant_id': 'worker_2'},\n",
       "   'train': {'X': [], 'y': []},\n",
       "   'evaluate': {'X': [], 'y': []},\n",
       "   'predict': {'X': [], 'y': []}},\n",
       "  {'doc_id': '4',\n",
       "   'kind': 'Alignment',\n",
       "   'key': {'collab_id': 'femnist_synbasic_collaboration',\n",
       "    'project_id': 'femnist_synbasic_project',\n",
       "    'participant_id': 'worker_1'},\n",
       "   'train': {'X': [], 'y': []},\n",
       "   'evaluate': {'X': [], 'y': []},\n",
       "   'predict': {'X': [], 'y': []}}],\n",
       " 'apiVersion': '0.2.0',\n",
       " 'success': 1,\n",
       " 'status': 201,\n",
       " 'method': 'alignments.post',\n",
       " 'params': {'collab_id': 'femnist_synbasic_collaboration',\n",
       "  'project_id': 'femnist_synbasic_project'}}"
      ]
     },
     "execution_count": 11,
     "metadata": {},
     "output_type": "execute_result"
    }
   ],
   "source": [
    "driver.alignments.create(\n",
    "    collab_id='femnist_synbasic_collaboration',\n",
    "    project_id=\"femnist_synbasic_project\",\n",
    "    verbose=False,\n",
    "    log_msg=False\n",
    ")"
   ]
  },
  {
   "cell_type": "markdown",
   "metadata": {},
   "source": [
    "#### 2B. Trigger training across the federated grid"
   ]
  },
  {
   "cell_type": "code",
   "execution_count": 12,
   "metadata": {},
   "outputs": [
    {
     "data": {
      "text/plain": [
       "{'data': [{'doc_id': '2',\n",
       "   'kind': 'Model',\n",
       "   'key': {'project_id': 'femnist_synbasic_project',\n",
       "    'expt_id': 'femnist_synbasic_experiment',\n",
       "    'run_id': 'femnist_synbasic_run'},\n",
       "   'global': {'origin': 'ttp',\n",
       "    'path': '/orchestrator/outputs/femnist_synbasic_collaboration/femnist_synbasic_project/femnist_synbasic_experiment/femnist_synbasic_run/global_model.pt',\n",
       "    'loss_history': '/orchestrator/outputs/femnist_synbasic_collaboration/femnist_synbasic_project/femnist_synbasic_experiment/femnist_synbasic_run/global_loss_history.json'},\n",
       "   'local_2': {'origin': 'worker_2',\n",
       "    'path': '/orchestrator/outputs/femnist_synbasic_collaboration/femnist_synbasic_project/femnist_synbasic_experiment/femnist_synbasic_run/local_model_worker_2.pt',\n",
       "    'loss_history': '/orchestrator/outputs/femnist_synbasic_collaboration/femnist_synbasic_project/femnist_synbasic_experiment/femnist_synbasic_run/local_loss_history_worker_2.json'},\n",
       "   'local_1': {'origin': 'worker_1',\n",
       "    'path': '/orchestrator/outputs/femnist_synbasic_collaboration/femnist_synbasic_project/femnist_synbasic_experiment/femnist_synbasic_run/local_model_worker_1.pt',\n",
       "    'loss_history': '/orchestrator/outputs/femnist_synbasic_collaboration/femnist_synbasic_project/femnist_synbasic_experiment/femnist_synbasic_run/local_loss_history_worker_1.json'}}],\n",
       " 'apiVersion': '0.2.0',\n",
       " 'success': 1,\n",
       " 'status': 200,\n",
       " 'method': 'models.post',\n",
       " 'params': {'collab_id': 'femnist_synbasic_collaboration',\n",
       "  'project_id': 'femnist_synbasic_project',\n",
       "  'expt_id': 'femnist_synbasic_experiment',\n",
       "  'run_id': 'femnist_synbasic_run'}}"
      ]
     },
     "metadata": {},
     "output_type": "display_data"
    }
   ],
   "source": [
    "model_resp = driver.models.create(\n",
    "    collab_id=\"femnist_synbasic_collaboration\",\n",
    "    project_id=\"femnist_synbasic_project\",\n",
    "    expt_id=\"femnist_synbasic_experiment\",\n",
    "    run_id=\"femnist_synbasic_run\",\n",
    "    log_msg=False,\n",
    "    verbose=False\n",
    ")\n",
    "display(model_resp)"
   ]
  },
  {
   "cell_type": "markdown",
   "metadata": {},
   "source": [
    "## Phase 3: EVALUATE \n",
    "Validation & Predictions"
   ]
  },
  {
   "cell_type": "markdown",
   "metadata": {},
   "source": [
    "#### 3A. Perform validation(s) of combination(s)"
   ]
  },
  {
   "cell_type": "code",
   "execution_count": 13,
   "metadata": {},
   "outputs": [
    {
     "data": {
      "text/plain": [
       "{'data': [{'doc_id': '3',\n",
       "   'kind': 'Validation',\n",
       "   'key': {'participant_id': 'worker_1',\n",
       "    'collab_id': 'femnist_synbasic_collaboration',\n",
       "    'project_id': 'femnist_synbasic_project',\n",
       "    'expt_id': 'femnist_synbasic_experiment',\n",
       "    'run_id': 'femnist_synbasic_run'},\n",
       "   'evaluate': {'statistics': {'accuracy': [0.6629213483146067,\n",
       "      0.6741573033707865,\n",
       "      0.33707865168539325],\n",
       "     'roc_auc_score': [0.5, 0.5, 0.5],\n",
       "     'pr_auc_score': [0.6685393258426966,\n",
       "      0.6629213483146068,\n",
       "      0.6685393258426966],\n",
       "     'f_score': [0.0, 0.0, 0.5042016806722689],\n",
       "     'TPRs': [0.0, 0.0, 1.0],\n",
       "     'TNRs': [1.0, 1.0, 0.0],\n",
       "     'PPVs': [0.0, 0.0, 0.33707865168539325],\n",
       "     'NPVs': [0.6629213483146067, 0.6741573033707865, 0.0],\n",
       "     'FPRs': [0.0, 0.0, 1.0],\n",
       "     'FNRs': [1.0, 1.0, 0.0],\n",
       "     'FDRs': [0.0, 0.0, 0.6629213483146067],\n",
       "     'TPs': [0, 0, 30],\n",
       "     'TNs': [59, 60, 0],\n",
       "     'FPs': [0, 0, 59],\n",
       "     'FNs': [30, 29, 0]},\n",
       "    'res_path': '/worker/outputs/femnist_synbasic_collaboration/femnist_synbasic_project/femnist_synbasic_experiment/femnist_synbasic_run/evaluate/inference_statistics_evaluate.json'}},\n",
       "  {'doc_id': '4',\n",
       "   'kind': 'Validation',\n",
       "   'key': {'participant_id': 'worker_2',\n",
       "    'collab_id': 'femnist_synbasic_collaboration',\n",
       "    'project_id': 'femnist_synbasic_project',\n",
       "    'expt_id': 'femnist_synbasic_experiment',\n",
       "    'run_id': 'femnist_synbasic_run'},\n",
       "   'evaluate': {'statistics': {'accuracy': [0.6629213483146067,\n",
       "      0.6741573033707865,\n",
       "      0.33707865168539325],\n",
       "     'roc_auc_score': [0.5, 0.5, 0.5],\n",
       "     'pr_auc_score': [0.6685393258426966,\n",
       "      0.6629213483146068,\n",
       "      0.6685393258426966],\n",
       "     'f_score': [0.0, 0.0, 0.5042016806722689],\n",
       "     'TPRs': [0.0, 0.0, 1.0],\n",
       "     'TNRs': [1.0, 1.0, 0.0],\n",
       "     'PPVs': [0.0, 0.0, 0.33707865168539325],\n",
       "     'NPVs': [0.6629213483146067, 0.6741573033707865, 0.0],\n",
       "     'FPRs': [0.0, 0.0, 1.0],\n",
       "     'FNRs': [1.0, 1.0, 0.0],\n",
       "     'FDRs': [0.0, 0.0, 0.6629213483146067],\n",
       "     'TPs': [0, 0, 30],\n",
       "     'TNs': [59, 60, 0],\n",
       "     'FPs': [0, 0, 59],\n",
       "     'FNs': [30, 29, 0]},\n",
       "    'res_path': '/worker/outputs/femnist_synbasic_collaboration/femnist_synbasic_project/femnist_synbasic_experiment/femnist_synbasic_run/evaluate/inference_statistics_evaluate.json'}}],\n",
       " 'apiVersion': '0.2.0',\n",
       " 'success': 1,\n",
       " 'status': 200,\n",
       " 'method': 'validations.post',\n",
       " 'params': {'collab_id': 'femnist_synbasic_collaboration',\n",
       "  'project_id': 'femnist_synbasic_project',\n",
       "  'expt_id': 'femnist_synbasic_experiment',\n",
       "  'run_id': 'femnist_synbasic_run'}}"
      ]
     },
     "execution_count": 13,
     "metadata": {},
     "output_type": "execute_result"
    }
   ],
   "source": [
    "# Orchestrator performs post-mortem validation\n",
    "driver.validations.create(\n",
    "    collab_id='femnist_synbasic_collaboration',\n",
    "    project_id=\"femnist_synbasic_project\",\n",
    "    expt_id=\"femnist_synbasic_experiment\",\n",
    "    run_id=\"femnist_synbasic_run\",\n",
    "    log_msg=False,\n",
    "    verbose=False\n",
    ")"
   ]
  },
  {
   "cell_type": "markdown",
   "metadata": {},
   "source": [
    "#### 3B. Perform prediction(s) of combination(s)"
   ]
  },
  {
   "cell_type": "code",
   "execution_count": 14,
   "metadata": {},
   "outputs": [
    {
     "data": {
      "text/plain": [
       "{'data': [{'doc_id': '3',\n",
       "   'kind': 'Prediction',\n",
       "   'key': {'participant_id': 'worker_1',\n",
       "    'project_id': 'femnist_synbasic_project',\n",
       "    'expt_id': 'femnist_synbasic_experiment',\n",
       "    'run_id': 'femnist_synbasic_run'},\n",
       "   'predict': {'statistics': {'accuracy': [0.29931972789115646,\n",
       "      0.7891156462585034,\n",
       "      0.08843537414965986],\n",
       "     'roc_auc_score': [0.5, 0.5, 0.5],\n",
       "     'pr_auc_score': [0.8503401360544218,\n",
       "      0.6054421768707483,\n",
       "      0.54421768707483],\n",
       "     'f_score': [0.0, 0.0, 0.16249999999999998],\n",
       "     'TPRs': [0.0, 0.0, 1.0],\n",
       "     'TNRs': [1.0, 1.0, 0.0],\n",
       "     'PPVs': [0.0, 0.0, 0.08843537414965986],\n",
       "     'NPVs': [0.29931972789115646, 0.7891156462585034, 0.0],\n",
       "     'FPRs': [0.0, 0.0, 1.0],\n",
       "     'FNRs': [1.0, 1.0, 0.0],\n",
       "     'FDRs': [0.0, 0.0, 0.9115646258503401],\n",
       "     'TPs': [0, 0, 26],\n",
       "     'TNs': [88, 232, 0],\n",
       "     'FPs': [0, 0, 268],\n",
       "     'FNs': [206, 62, 0]},\n",
       "    'res_path': '/worker/outputs/femnist_synbasic_collaboration/femnist_synbasic_project/femnist_synbasic_experiment/femnist_synbasic_run/predict/inference_statistics_predict.json'}}],\n",
       " 'apiVersion': '0.2.0',\n",
       " 'success': 1,\n",
       " 'status': 200,\n",
       " 'method': 'predictions.post',\n",
       " 'params': {'collab_id': 'femnist_synbasic_collaboration',\n",
       "  'project_id': 'femnist_synbasic_project',\n",
       "  'expt_id': 'femnist_synbasic_experiment',\n",
       "  'run_id': 'femnist_synbasic_run',\n",
       "  'participant_id': 'worker_1'}}"
      ]
     },
     "execution_count": 14,
     "metadata": {},
     "output_type": "execute_result"
    }
   ],
   "source": [
    "# Worker 1 requests for inferences\n",
    "driver.predictions.create(\n",
    "    tags={\"femnist_synbasic_project\": [[\"femnist\", \"dataset\", \"data1\", \"predict\"]]},\n",
    "    participant_id=\"worker_1\",\n",
    "    collab_id='femnist_synbasic_collaboration',\n",
    "    project_id=\"femnist_synbasic_project\",\n",
    "    expt_id=\"femnist_synbasic_experiment\",\n",
    "    run_id=\"femnist_synbasic_run\"\n",
    ")"
   ]
  },
  {
   "cell_type": "code",
   "execution_count": 15,
   "metadata": {},
   "outputs": [
    {
     "data": {
      "text/plain": [
       "{'data': [{'doc_id': '4',\n",
       "   'kind': 'Prediction',\n",
       "   'key': {'participant_id': 'worker_2',\n",
       "    'project_id': 'femnist_synbasic_project',\n",
       "    'expt_id': 'femnist_synbasic_experiment',\n",
       "    'run_id': 'femnist_synbasic_run'},\n",
       "   'predict': {'statistics': {'accuracy': [0.29931972789115646,\n",
       "      0.7891156462585034,\n",
       "      0.08843537414965986],\n",
       "     'roc_auc_score': [0.5, 0.5, 0.5],\n",
       "     'pr_auc_score': [0.8503401360544218,\n",
       "      0.6054421768707483,\n",
       "      0.54421768707483],\n",
       "     'f_score': [0.0, 0.0, 0.16249999999999998],\n",
       "     'TPRs': [0.0, 0.0, 1.0],\n",
       "     'TNRs': [1.0, 1.0, 0.0],\n",
       "     'PPVs': [0.0, 0.0, 0.08843537414965986],\n",
       "     'NPVs': [0.29931972789115646, 0.7891156462585034, 0.0],\n",
       "     'FPRs': [0.0, 0.0, 1.0],\n",
       "     'FNRs': [1.0, 1.0, 0.0],\n",
       "     'FDRs': [0.0, 0.0, 0.9115646258503401],\n",
       "     'TPs': [0, 0, 26],\n",
       "     'TNs': [88, 232, 0],\n",
       "     'FPs': [0, 0, 268],\n",
       "     'FNs': [206, 62, 0]},\n",
       "    'res_path': '/worker/outputs/femnist_synbasic_collaboration/femnist_synbasic_project/femnist_synbasic_experiment/femnist_synbasic_run/predict/inference_statistics_predict.json'}}],\n",
       " 'apiVersion': '0.2.0',\n",
       " 'success': 1,\n",
       " 'status': 200,\n",
       " 'method': 'predictions.post',\n",
       " 'params': {'collab_id': 'femnist_synbasic_collaboration',\n",
       "  'project_id': 'femnist_synbasic_project',\n",
       "  'expt_id': 'femnist_synbasic_experiment',\n",
       "  'run_id': 'femnist_synbasic_run',\n",
       "  'participant_id': 'worker_2'}}"
      ]
     },
     "execution_count": 15,
     "metadata": {},
     "output_type": "execute_result"
    }
   ],
   "source": [
    "# Worker 2 requests for inferences\n",
    "driver.predictions.create(\n",
    "    tags={\"femnist_synbasic_project\": [[\"femnist\", \"dataset\", \"data2\", \"predict\"]]},\n",
    "    participant_id=\"worker_2\",\n",
    "    collab_id='femnist_synbasic_collaboration',\n",
    "    project_id=\"femnist_synbasic_project\",\n",
    "    expt_id=\"femnist_synbasic_experiment\",\n",
    "    run_id=\"femnist_synbasic_run\"\n",
    ")"
   ]
  },
  {
   "cell_type": "code",
   "execution_count": null,
   "metadata": {},
   "outputs": [],
   "source": []
  }
 ],
 "metadata": {
  "kernelspec": {
   "display_name": "Python 3 (ipykernel)",
   "language": "python",
   "name": "python3"
  },
  "language_info": {
   "codemirror_mode": {
    "name": "ipython",
    "version": 3
   },
   "file_extension": ".py",
   "mimetype": "text/x-python",
   "name": "python",
   "nbconvert_exporter": "python",
   "pygments_lexer": "ipython3",
   "version": "3.7.11"
  }
 },
 "nbformat": 4,
 "nbformat_minor": 4
}
