{
 "cells": [
  {
   "cell_type": "markdown",
   "metadata": {},
   "source": [
    "# Running a Federated Cycle with Synergos\n",
    "\n",
    "In a federated learning system, there are many contributory participants, known as Worker nodes, which receive a global model to train on, with their own local dataset. The dataset does not leave the individual Worker nodes at any point, and remains private to the node.\n",
    "\n",
    "The job to synchronize, orchestrate and initiate an federated learning cycle, falls on a Trusted Third Party (TTP). The TTP pushes out the global model architecture and parameters for the individual nodes to train on, calling upon the required data, based on tags, e.g \"training\", which points to relevant data on the individual nodes. At no point does the TTP receive, copy or access the Worker nodes' local datasets.\n",
    "\n",
    "![Simulated Synergos Cluster Grid](../../docs/images/syncluster_setup.png \"A simple Synergos Cluster setup\")\n",
    "\n",
    "This tutorial aims to give you an understanding of how to use the synergos package to run a full federated learning cycle on a `Synergos Cluster` grid. \n",
    "\n",
    "In a `Synergos Cluster` Grid, with the inclusion of a new director and queue component, you will be able to parallelize your jobs, where the number of concurrent jobs possible is equal to the number of sub-grids. This is done alongside all quality-of-life components supported in a `Synergos Plus` grid.\n",
    "\n",
    "In this tutorial, you will go through the steps required by each participant (TTP and Worker), by simulating each of them locally with docker containers. Specifically, we will simulate a Director and 2 sub-grids, each of which has a TTP and 2 Workers, allowing us to perform 2 concurrent federated operations at any time.\n",
    "\n",
    "At the end of this, we will have:\n",
    "- Connected the participants\n",
    "- Trained the model\n",
    "- Evaluate the model\n",
    "\n",
    "\n",
    "## About the Dataset and Task\n",
    "\n",
    "The dataset used in this notebook is on leaf texture, comprising 64 predictor features, and 1 target feature for 16 classes. The dataset is available in the same directory as this notebook. Within the dataset directory, `data1` is for Worker 1 and `data2` is for Worker 2. The task to be carried out will be multi-classification.\n",
    "\n",
    "The dataset we have provided is a processed subset of the [original One-hundred plant species leaves dataset](https://archive.ics.uci.edu/ml/datasets/One-hundred+plant+species+leaves+data+set).\n",
    "\n",
    "**Reference:**\n",
    "- *Dua, D. and Graff, C. (2019). UCI Machine Learning Repository [http://archive.ics.uci.edu/ml]. Irvine, CA: University of California, School of Information and Computer Science.*\n",
    "- *Charles Mallah, James Cope, James Orwell. Plant Leaf Classification Using Probabilistic Integration of Shape, Texture and Margin Features. Signal Processing, Pattern Recognition and Applications, in press. 2013.*"
   ]
  },
  {
   "cell_type": "markdown",
   "metadata": {},
   "source": [
    "## Initiating the docker containers\n",
    "\n",
    "Before we begin, we have to start the docker containers."
   ]
  },
  {
   "cell_type": "markdown",
   "metadata": {},
   "source": [
    "### A. Initialization via `Synergos Simulator`\n",
    "\n",
    "In `Synergos Simulator`, a sandboxed environment has been created for you!\n",
    "\n",
    "By running:\n",
    "\n",
    "    `docker-compose -f docker-compose-syncluster.yml up --build`\n",
    "    \n",
    "the following components will be started:\n",
    "- Director\n",
    "- Sub-Grid 1\n",
    "  - TTP_1 (Cluster)\n",
    "  - Worker_1_n1\n",
    "  - Worker_2_n1\n",
    "- Sub-Grid 2\n",
    "  - TTP_2 (Cluster)\n",
    "  - Worker_1_n2\n",
    "  - Worker_2_n2\n",
    "- Synergos UI\n",
    "- Synergos Logger\n",
    "- Synergos MLOps\n",
    "- Synergos MQ\n",
    "\n",
    "Refer to [this](https://github.com/aimakerspace/synergos_simulator) for all the pre-allocated host & port mappings. "
   ]
  },
  {
   "cell_type": "markdown",
   "metadata": {},
   "source": [
    "### B. Manual Initialization\n",
    "\n",
    "Firstly, pull the required docker images with the following commands:\n",
    "\n",
    "1. Synergos Director:\n",
    "    \n",
    "    `docker pull gcr.io/synergos-aisg/synergos_director:v0.1.0`\n",
    "\n",
    "2. Synergos TTP (Cluster): \n",
    "\n",
    "    `docker pull gcr.io/synergos-aisg/synergos_ttp_cluster:v0.1.0`\n",
    "\n",
    "3. Synergos Worker: \n",
    "\n",
    "    `docker pull gcr.io/synergos-aisg/synergos_worker:v0.1.0`\n",
    "    \n",
    "4. Synergos MLOps:\n",
    "\n",
    "    `docker pull gcr.io/synergos-aisg/synergos_mlops:v0.1.0`\n",
    "    \n",
    "5. Synergos MQ:\n",
    "\n",
    "    `docker pull gcr.io/synergos-aisg/synergos_mq:v0.1.0`\n",
    "\n",
    "Next, in <u>separate</u> CLI terminals, run the following command(s):\n",
    "\n",
    "**Note: For Windows users, it is advisable to use powershell or command prompt based interfaces**\n",
    "\n",
    "#### Director\n",
    "\n",
    "```\n",
    "docker run --rm\n",
    "    -p 5000:5000 \n",
    "    -v <directory leaf_textures/orchestrator_data>:/orchestrator/data\n",
    "    -v <directory leaf_textures/orchestrator_outputs>:/orchestrator/outputs\n",
    "    -v <directory leaf_textures/mlflow>:/mlflow\n",
    "    --name director \n",
    "    gcr.io/synergos-aisg/synergos_director:v0.1.0 \n",
    "        --id ttp \n",
    "        --logging_variant graylog <IP Synergos Logger> <TTP port>\n",
    "        --queue rabbitmq <IP Synergos Logger> <AMQP port>\n",
    "```\n",
    "\n",
    "#### Sub-Grid 1\n",
    "\n",
    "- **TTP_1**\n",
    "```\n",
    "docker run --rm\n",
    "    -p 6000:5000 \n",
    "    -p 9020:8020\n",
    "    -v <directory leaf_textures/orchestrator_data>:/orchestrator/data\n",
    "    -v <directory leaf_textures/orchestrator_outputs>:/orchestrator/outputs\n",
    "    --name ttp_1 \n",
    "    gcr.io/synergos-aisg/synergos_ttp_cluster:v0.1.0 \n",
    "        --id ttp \n",
    "        --logging_variant graylog <IP Synergos Logger> <TTP port>\n",
    "        --queue rabbitmq <IP Synergos Logger> <AMQP port>\n",
    "```\n",
    "\n",
    "- **WORKER_1 Node 1**\n",
    "```\n",
    "docker run --rm\n",
    "    -p 5001:5000 \n",
    "    -p 8021:8020\n",
    "    -v <directory leaf_textures/data1>:/worker/data \n",
    "    -v <directory leaf_textures/outputs_1>:/worker/outputs \n",
    "    --name worker_1_n1 \n",
    "    gcr.io/synergos-aisg/synergos_worker:v0.1.0 \n",
    "        --id worker_1_n1 \n",
    "        --logging_variant graylog <IP Synergos Logger> <Worker port>\n",
    "        --queue rabbitmq <IP Synergos Logger> <AMQP port>\n",
    "```\n",
    "\n",
    "- **WORKER_2 Node 1**\n",
    "```\n",
    "docker run --rm\n",
    "    -p 5002:5000 \n",
    "    -p 8022:8020\n",
    "    -v <directory leaf_textures/data2>:/worker/data \n",
    "    -v <directory leaf_textures/outputs_2>:/worker/outputs \n",
    "    --name worker_2_n1\n",
    "    gcr.io/synergos-aisg/synergos_worker:v0.1.0\n",
    "        --id worker_2_n1 \n",
    "        --logging_variant graylog <IP Synergos Logger> <Worker port>\n",
    "        --queue rabbitmq <IP Synergos Logger> <AMQP port>\n",
    "```\n",
    "\n",
    "#### Sub-Grid 2\n",
    "\n",
    "- **TTP_2**\n",
    "```\n",
    "docker run --rm\n",
    "    -p 7000:5000 \n",
    "    -p 10020:8020\n",
    "    -v <directory leaf_textures/orchestrator_data>:/orchestrator/data\n",
    "    -v <directory leaf_textures/orchestrator_outputs>:/orchestrator/outputs\n",
    "    --name ttp_2 \n",
    "    gcr.io/synergos-aisg/synergos_ttp_cluster:v0.1.0 \n",
    "        --id ttp \n",
    "        --logging_variant graylog <IP Synergos Logger> <TTP port>\n",
    "        --queue rabbitmq <IP Synergos Logger> <AMQP port>\n",
    "```\n",
    "\n",
    "- **WORKER_1 Node 2**\n",
    "```\n",
    "docker run --rm\n",
    "    -p 5003:5000 \n",
    "    -p 8023:8020\n",
    "    -v <directory leaf_textures/data1>:/worker/data \n",
    "    -v <directory leaf_textures/outputs_1>:/worker/outputs \n",
    "    --name worker_1_n2 \n",
    "    gcr.io/synergos-aisg/synergos_worker:v0.1.0 \n",
    "        --id worker_1_n2 \n",
    "        --logging_variant graylog <IP Synergos Logger> <Worker port>\n",
    "        --queue rabbitmq <IP Synergos Logger> <AMQP port>\n",
    "```\n",
    "\n",
    "- **WORKER_2 Node 2**\n",
    "```\n",
    "docker run --rm\n",
    "    -p 5004:5000 \n",
    "    -p 8024:8020\n",
    "    -v <directory leaf_textures/data2>:/worker/data \n",
    "    -v <directory leaf_textures/outputs_2>:/worker/outputs \n",
    "    --name worker_2_n2\n",
    "    gcr.io/synergos-aisg/synergos_worker:v0.1.0\n",
    "        --id worker_2_n2 \n",
    "        --logging_variant graylog <IP Synergos Logger> <Worker port>\n",
    "        --queue rabbitmq <IP Synergos Logger> <AMQP port>\n",
    "```\n",
    "\n",
    "#### Synergos MLOps\n",
    "\n",
    "```\n",
    "docker run --rm \n",
    "    -p 5500:5500 \n",
    "    -v /path/to/mlflow_test/:/mlflow    # <-- IMPT! Same as orchestrator's\n",
    "    --name synmlops \n",
    "    gcr.io/synergos-aisg/synergos_mlops:v0.1.0\n",
    "```\n",
    "\n",
    "#### Synergos MQ\n",
    "\n",
    "```\n",
    "docker run --rm         \n",
    "    -p 15672:15672      # UI port\n",
    "    -p 5672:5672        # AMQP port\n",
    "    --name synergos_mq \n",
    "    gcr.io/synergos-aisg/synergos_mq:v0.1.0\n",
    "```\n",
    "\n",
    "#### Synergos UI\n",
    "\n",
    "- Refer to these [instructions](https://github.com/aimakerspace/synergos_ui) to deploy `Synergos UI`.\n",
    "\n",
    "#### Synergos Logger\n",
    "\n",
    "- Refer to these [instructions](https://github.com/aimakerspace/synergos_logger) to deploy `Synergos Logger`.\n"
   ]
  },
  {
   "cell_type": "markdown",
   "metadata": {},
   "source": [
    "Once ready, for each terminal, you should see a REST server running on http://0.0.0.0:5000 of the container.\n",
    "\n",
    "You are now ready for the next step."
   ]
  },
  {
   "cell_type": "markdown",
   "metadata": {},
   "source": [
    "## Configurations"
   ]
  },
  {
   "cell_type": "markdown",
   "metadata": {},
   "source": [
    "### A. Configuring `Synergos Simulator`\n",
    "\n",
    "All hosts & ports have already been pre-allocated!\n",
    "\n",
    "Refer to [this](https://github.com/aimakerspace/synergos_simulator) for all the pre-allocated host & port mappings."
   ]
  },
  {
   "cell_type": "markdown",
   "metadata": {},
   "source": [
    "### B. Configuring your manual setup\n",
    "\n",
    "In a new terminal, run `docker inspect bridge` and find the IPv4Address for each container. Ideally, the containers should have the following addresses:\n",
    "- director address: `172.17.0.2`\n",
    "- Sub-Grid 1\n",
    "  - ttp_1 address: `172.17.0.3`\n",
    "  - worker_1_n1 address: `172.17.0.4`\n",
    "  - worker_2_n1 address: `172.17.0.5`\n",
    "- Sub-Grid 2\n",
    "  - ttp_2 address: `172.17.0.6`\n",
    "  - worker_1_n2 address: `172.17.0.7`\n",
    "  - worker_2_n2 address: `172.17.0.8`\n",
    "- UI address: `172.17.0.9`\n",
    "- Logger address: `172.17.0.14`\n",
    "- MLOps address: `172.17.0.15`\n",
    "- MQ address: `172.17.0.16`\n",
    "\n",
    "If not, just note the relevant IP addresses for each docker container.\n",
    "\n",
    "Run the following cells below.\n",
    "\n",
    "**Note: For Windows users, `host` should be Docker Desktop VM's IP. Follow [this](https://stackoverflow.com/questions/58073936/how-to-get-ip-address-of-docker-desktop-vm) on instructions to find IP**"
   ]
  },
  {
   "cell_type": "code",
   "execution_count": 1,
   "metadata": {},
   "outputs": [],
   "source": [
    "from synergos import Driver\n",
    "\n",
    "host = \"172.20.0.2\" # Different for Windows users\n",
    "port = 5000\n",
    "\n",
    "# Initiate Driver\n",
    "driver = Driver(host=host, port=port)"
   ]
  },
  {
   "cell_type": "markdown",
   "metadata": {},
   "source": [
    "## Phase 1: Registration\n",
    "\n",
    "Submitting Orchestrator & Participant metadata"
   ]
  },
  {
   "cell_type": "markdown",
   "metadata": {},
   "source": [
    "#### 1A. TTP creates a collaboration"
   ]
  },
  {
   "cell_type": "code",
   "execution_count": null,
   "metadata": {},
   "outputs": [],
   "source": [
    "collab_task = driver.collaborations\n",
    "collab_task.create('test_collaboration')"
   ]
  },
  {
   "cell_type": "markdown",
   "metadata": {},
   "source": [
    "#### 1B. TTP controller creates a project"
   ]
  },
  {
   "cell_type": "code",
   "execution_count": null,
   "metadata": {},
   "outputs": [],
   "source": [
    "driver.projects.create(\n",
    "    collab_id=\"test_collaboration\",\n",
    "    project_id=\"test_project\",\n",
    "    action=\"classify\",\n",
    "    incentives={\n",
    "        'tier_1': [],\n",
    "        'tier_2': [],\n",
    "    }\n",
    ")"
   ]
  },
  {
   "cell_type": "markdown",
   "metadata": {},
   "source": [
    "#### 1C. TTP controller creates an experiment"
   ]
  },
  {
   "cell_type": "code",
   "execution_count": null,
   "metadata": {},
   "outputs": [],
   "source": [
    "driver.experiments.create(\n",
    "    collab_id=\"test_collaboration\",\n",
    "    project_id=\"test_project\",\n",
    "    expt_id=\"test_experiment\",\n",
    "    model=[\n",
    "        {\n",
    "            \"activation\": \"sigmoid\",\n",
    "            \"is_input\": True,\n",
    "            \"l_type\": \"Linear\",\n",
    "            \"structure\": {\n",
    "                \"bias\": True,\n",
    "                \"in_features\": 64,\n",
    "                \"out_features\": 32\n",
    "            }\n",
    "        },\n",
    "        {\n",
    "            \"activation\": \"softmax\",\n",
    "            \"is_input\": False,\n",
    "            \"l_type\": \"Linear\",\n",
    "            \"structure\": {\n",
    "                \"bias\": True,\n",
    "                \"in_features\": 32,\n",
    "                \"out_features\": 16\n",
    "            }\n",
    "        },\n",
    "    ]\n",
    ")"
   ]
  },
  {
   "cell_type": "markdown",
   "metadata": {},
   "source": [
    "#### 1D. TTP controller creates a run"
   ]
  },
  {
   "cell_type": "code",
   "execution_count": null,
   "metadata": {},
   "outputs": [],
   "source": [
    "driver.runs.create(\n",
    "    collab_id=\"test_collaboration\",\n",
    "    project_id=\"test_project\",\n",
    "    expt_id=\"test_experiment\",\n",
    "    run_id=\"test_run\",\n",
    "    rounds=2, \n",
    "    epochs=1,\n",
    "    base_lr=0.0005,\n",
    "    max_lr=0.005,\n",
    "    criterion=\"NLLLoss\"\n",
    ")"
   ]
  },
  {
   "cell_type": "markdown",
   "metadata": {},
   "source": [
    "#### 1E. Participants registers their servers' configurations and roles"
   ]
  },
  {
   "cell_type": "code",
   "execution_count": null,
   "metadata": {},
   "outputs": [],
   "source": [
    "participant_resp_1 = driver.participants.create(\n",
    "    participant_id=\"worker_1\",\n",
    ")\n",
    "\n",
    "display(participant_resp_1)\n",
    "\n",
    "participant_resp_2 = driver.participants.create(\n",
    "    participant_id=\"worker_2\",\n",
    ")\n",
    "\n",
    "display(participant_resp_2)"
   ]
  },
  {
   "cell_type": "code",
   "execution_count": null,
   "metadata": {},
   "outputs": [],
   "source": [
    "registration_task = driver.registrations\n",
    "\n",
    "# Add and register worker_1 node\n",
    "registration_task.add_node(\n",
    "    host='172.17.0.2',\n",
    "    port=8020,\n",
    "    f_port=5000,\n",
    "    log_msgs=True,\n",
    "    verbose=True\n",
    ")\n",
    "registration_task.list_nodes()\n",
    "\n",
    "registration_task.create(\n",
    "    collab_id=\"test_collaboration\",\n",
    "    project_id=\"test_project\",\n",
    "    participant_id=\"worker_1\",\n",
    "    role=\"host\"\n",
    ")"
   ]
  },
  {
   "cell_type": "code",
   "execution_count": null,
   "metadata": {},
   "outputs": [],
   "source": [
    "registration_task = driver.registrations\n",
    "registration_task.add_node(\n",
    "    host='172.17.0.3',\n",
    "    port=8020,\n",
    "    f_port=5000,\n",
    "    log_msgs=True,\n",
    "    verbose=True\n",
    ")\n",
    "registration_task.list_nodes()\n",
    "\n",
    "registration_task.create(\n",
    "    collab_id=\"test_collaboration\",\n",
    "    project_id=\"test_project\",\n",
    "    participant_id=\"worker_2\",\n",
    "    role=\"guest\"\n",
    ")"
   ]
  },
  {
   "cell_type": "markdown",
   "metadata": {},
   "source": [
    "#### 1F. Participants registers their tags for a specific project"
   ]
  },
  {
   "cell_type": "code",
   "execution_count": null,
   "metadata": {},
   "outputs": [],
   "source": [
    "driver.tags.create(\n",
    "    collab_id=\"test_collaboration\",\n",
    "    project_id=\"test_project\",\n",
    "    participant_id=\"worker_1\",\n",
    "    train=[[\"train\"]],\n",
    "    evaluate=[[\"evaluate\"]]\n",
    ")\n",
    "\n",
    "driver.tags.create(\n",
    "    collab_id=\"test_collaboration\",\n",
    "    project_id=\"test_project\",\n",
    "    participant_id=\"worker_2\",\n",
    "    train=[[\"train\"]],\n",
    "    evaluate=[[\"evaluate\"]]\n",
    ")"
   ]
  },
  {
   "cell_type": "markdown",
   "metadata": {},
   "source": [
    "## Phase 2: \n",
    "Alignment, Training & Optimisation"
   ]
  },
  {
   "cell_type": "markdown",
   "metadata": {},
   "source": [
    "#### 2A. Perform multiple feature alignment to dynamically configure datasets and models for cross-grid compatibility"
   ]
  },
  {
   "cell_type": "code",
   "execution_count": null,
   "metadata": {
    "scrolled": false
   },
   "outputs": [],
   "source": [
    "driver.alignments.create(collab_id='test_collaboration',\n",
    "                         project_id=\"test_project\",\n",
    "                         verbose=False,\n",
    "                         log_msg=False)"
   ]
  },
  {
   "cell_type": "markdown",
   "metadata": {},
   "source": [
    "#### 2B. Trigger training across the federated grid"
   ]
  },
  {
   "cell_type": "code",
   "execution_count": null,
   "metadata": {},
   "outputs": [],
   "source": [
    "model_resp = driver.models.create(\n",
    "    collab_id=\"test_collaboration\",\n",
    "    project_id=\"test_project\",\n",
    "    expt_id=\"test_experiment\",\n",
    "    run_id=\"test_run\",\n",
    "    log_msg=False,\n",
    "    verbose=False\n",
    ")\n",
    "display(model_resp)"
   ]
  },
  {
   "cell_type": "markdown",
   "metadata": {},
   "source": [
    "## Phase 3: EVALUATE \n",
    "Validation & Predictions"
   ]
  },
  {
   "cell_type": "markdown",
   "metadata": {},
   "source": [
    "#### 3A. Perform validation(s) of combination(s)"
   ]
  },
  {
   "cell_type": "code",
   "execution_count": null,
   "metadata": {},
   "outputs": [],
   "source": [
    "driver.validations.create(\n",
    "    collab_id='test_collaboration',\n",
    "    project_id=\"test_project\",\n",
    "    expt_id=\"test_experiment\",\n",
    "    run_id=\"test_run\",\n",
    "    log_msg=False,\n",
    "    verbose=False\n",
    ")"
   ]
  },
  {
   "cell_type": "markdown",
   "metadata": {},
   "source": [
    "#### 3B. Perform prediction(s) of combination(s)"
   ]
  },
  {
   "cell_type": "code",
   "execution_count": null,
   "metadata": {},
   "outputs": [],
   "source": [
    "driver.predictions.create(\n",
    "    collab_id=\"test_collaboration\",\n",
    "    tags={\"test_project\": [[\"predict\"]]},\n",
    "    participant_id=\"worker_1\",\n",
    "    project_id=\"test_project\",\n",
    "    expt_id=\"test_experiment\",\n",
    "    run_id=\"test_run\"\n",
    ")"
   ]
  }
 ],
 "metadata": {
  "kernelspec": {
   "display_name": "Python 3 (ipykernel)",
   "language": "python",
   "name": "python3"
  },
  "language_info": {
   "codemirror_mode": {
    "name": "ipython",
    "version": 3
   },
   "file_extension": ".py",
   "mimetype": "text/x-python",
   "name": "python",
   "nbconvert_exporter": "python",
   "pygments_lexer": "ipython3",
   "version": "3.7.11"
  }
 },
 "nbformat": 4,
 "nbformat_minor": 4
}
