{
 "cells": [
  {
   "cell_type": "markdown",
   "metadata": {},
   "source": [
    "# Running a Federated Cycle with Synergos\n",
    "\n",
    "In a federated learning system, there are many contributory participants, known as Worker nodes, which receive a global model to train on, with their own local dataset. The dataset does not leave the individual Worker nodes at any point, and remains private to the node.\n",
    "\n",
    "The job to synchronize, orchestrate and initiate an federated learning cycle, falls on a Trusted Third Party (TTP). The TTP pushes out the global model architecture and parameters for the individual nodes to train on, calling upon the required data, based on tags, e.g \"training\", which points to relevant data on the individual nodes. At no point does the TTP receive, copy or access the Worker nodes' local datasets.\n",
    "\n",
    "![Simulated Synergos Cluster Grid](../../docs/images/syncluster_setup.png \"A simple Synergos Cluster setup\")\n",
    "\n",
    "This tutorial aims to give you an understanding of how to use the synergos package to run a full federated learning cycle on a `Synergos Cluster` grid. \n",
    "\n",
    "In a `Synergos Cluster` Grid, with the inclusion of a new director and queue component, you will be able to parallelize your jobs, where the number of concurrent jobs possible is equal to the number of sub-grids. This is done alongside all quality-of-life components supported in a `Synergos Plus` grid.\n",
    "\n",
    "In this tutorial, you will go through the steps required by each participant (TTP and Worker), by simulating each of them locally with docker containers. Specifically, we will simulate a Director and 2 sub-grids, each of which has a TTP and 2 Workers, allowing us to perform 2 concurrent federated operations at any time.\n",
    "\n",
    "At the end of this, we will have:\n",
    "- Connected the participants\n",
    "- Trained the model\n",
    "- Evaluate the model\n",
    "\n",
    "## About the Dataset and Task\n",
    "\n",
    "The dataset used in this notebook is on abalone age tabular data, comprising 8 predictor features, and 1 target feature. The dataset is available in the same directory as this notebook. Within the dataset directory, `data1` is for Worker 1 and `data2` is for Worker 2. The task to be carried out will be regression.\n",
    "\n",
    "The dataset we have provided is a processed subset of the [original Abalone dataset](https://archive.ics.uci.edu/ml/datasets/Abalone).\n",
    "\n",
    "**Reference:**\n",
    "- *Dua, D. and Graff, C. (2019). UCI Machine Learning Repository [http://archive.ics.uci.edu/ml]. Irvine, CA: University of California, School of Information and Computer Science.*"
   ]
  },
  {
   "cell_type": "markdown",
   "metadata": {},
   "source": [
    "## Initiating the docker containers\n",
    "\n",
    "Before we begin, we have to start the docker containers."
   ]
  },
  {
   "cell_type": "markdown",
   "metadata": {},
   "source": [
    "### A. Initialization via `Synergos Simulator`\n",
    "\n",
    "In `Synergos Simulator`, a sandboxed environment has been created for you!\n",
    "\n",
    "By running:\n",
    "\n",
    "    `docker-compose -f docker-compose-syncluster.yml up --build`\n",
    "    \n",
    "the following components will be started:\n",
    "- Director\n",
    "- Sub-Grid 1\n",
    "  - TTP_1 (Cluster)\n",
    "  - Worker_1_n1\n",
    "  - Worker_2_n1\n",
    "- Sub-Grid 2\n",
    "  - TTP_2 (Cluster)\n",
    "  - Worker_1_n2\n",
    "  - Worker_2_n2\n",
    "- Synergos UI\n",
    "- Synergos Logger\n",
    "- Synergos MLOps\n",
    "- Synergos MQ\n",
    "\n",
    "Refer to [this](https://github.com/aimakerspace/synergos_simulator) for all the pre-allocated host & port mappings. "
   ]
  },
  {
   "cell_type": "markdown",
   "metadata": {},
   "source": [
    "### B. Manual Initialization\n",
    "\n",
    "Firstly, pull the required docker images with the following commands:\n",
    "\n",
    "1. Synergos Director:\n",
    "    \n",
    "    `docker pull gcr.io/synergos-aisg/synergos_director:v0.1.0`\n",
    "\n",
    "2. Synergos TTP (Cluster): \n",
    "\n",
    "    `docker pull gcr.io/synergos-aisg/synergos_ttp_cluster:v0.1.0`\n",
    "\n",
    "3. Synergos Worker: \n",
    "\n",
    "    `docker pull gcr.io/synergos-aisg/synergos_worker:v0.1.0`\n",
    "    \n",
    "4. Synergos MLOps:\n",
    "\n",
    "    `docker pull gcr.io/synergos-aisg/synergos_mlops:v0.1.0`\n",
    "    \n",
    "5. Synergos MQ:\n",
    "\n",
    "    `docker pull gcr.io/synergos-aisg/synergos_mq:v0.1.0`\n",
    "\n",
    "Next, in <u>separate</u> CLI terminals, run the following command(s):\n",
    "\n",
    "**Note: For Windows users, it is advisable to use powershell or command prompt based interfaces**\n",
    "\n",
    "#### Director\n",
    "\n",
    "```\n",
    "docker run --rm\n",
    "    -p 5000:5000 \n",
    "    -v <directory abalone/orchestrator_data>:/orchestrator/data\n",
    "    -v <directory abalone/orchestrator_outputs>:/orchestrator/outputs\n",
    "    -v <directory abalone/mlflow>:/mlflow\n",
    "    --name director \n",
    "    gcr.io/synergos-aisg/synergos_director:v0.1.0 \n",
    "        --id ttp \n",
    "        --logging_variant graylog <IP Synergos Logger> <TTP port>\n",
    "        --queue rabbitmq <IP Synergos Logger> <AMQP port>\n",
    "```\n",
    "\n",
    "#### Sub-Grid 1\n",
    "\n",
    "- **TTP_1**\n",
    "```\n",
    "docker run --rm\n",
    "    -p 6000:5000 \n",
    "    -p 9020:8020\n",
    "    -v <directory abalone/orchestrator_data>:/orchestrator/data\n",
    "    -v <directory abalone/orchestrator_outputs>:/orchestrator/outputs\n",
    "    --name ttp_1 \n",
    "    gcr.io/synergos-aisg/synergos_ttp_cluster:v0.1.0 \n",
    "        --id ttp \n",
    "        --logging_variant graylog <IP Synergos Logger> <TTP port>\n",
    "        --queue rabbitmq <IP Synergos Logger> <AMQP port>\n",
    "```\n",
    "\n",
    "- **WORKER_1 Node 1**\n",
    "```\n",
    "docker run --rm\n",
    "    -p 5001:5000 \n",
    "    -p 8021:8020\n",
    "    -v <directory abalone/data1>:/worker/data \n",
    "    -v <directory abalone/outputs_1>:/worker/outputs \n",
    "    --name worker_1_n1 \n",
    "    gcr.io/synergos-aisg/synergos_worker:v0.1.0 \n",
    "        --id worker_1_n1 \n",
    "        --logging_variant graylog <IP Synergos Logger> <Worker port>\n",
    "        --queue rabbitmq <IP Synergos Logger> <AMQP port>\n",
    "```\n",
    "\n",
    "- **WORKER_2 Node 1**\n",
    "```\n",
    "docker run --rm\n",
    "    -p 5002:5000 \n",
    "    -p 8022:8020\n",
    "    -v <directory abalone/data2>:/worker/data \n",
    "    -v <directory abalone/outputs_2>:/worker/outputs \n",
    "    --name worker_2_n1\n",
    "    gcr.io/synergos-aisg/synergos_worker:v0.1.0\n",
    "        --id worker_2_n1 \n",
    "        --logging_variant graylog <IP Synergos Logger> <Worker port>\n",
    "        --queue rabbitmq <IP Synergos Logger> <AMQP port>\n",
    "```\n",
    "\n",
    "#### Sub-Grid 2\n",
    "\n",
    "- **TTP_2**\n",
    "```\n",
    "docker run --rm\n",
    "    -p 7000:5000 \n",
    "    -p 10020:8020\n",
    "    -v <directory abalone/orchestrator_data>:/orchestrator/data\n",
    "    -v <directory abalone/orchestrator_outputs>:/orchestrator/outputs\n",
    "    --name ttp_2 \n",
    "    gcr.io/synergos-aisg/synergos_ttp_cluster:v0.1.0 \n",
    "        --id ttp \n",
    "        --logging_variant graylog <IP Synergos Logger> <TTP port>\n",
    "        --queue rabbitmq <IP Synergos Logger> <AMQP port>\n",
    "```\n",
    "\n",
    "- **WORKER_1 Node 2**\n",
    "```\n",
    "docker run --rm\n",
    "    -p 5003:5000 \n",
    "    -p 8023:8020\n",
    "    -v <directory abalone/data1>:/worker/data \n",
    "    -v <directory abalone/outputs_1>:/worker/outputs \n",
    "    --name worker_1_n2 \n",
    "    gcr.io/synergos-aisg/synergos_worker:v0.1.0 \n",
    "        --id worker_1_n2 \n",
    "        --logging_variant graylog <IP Synergos Logger> <Worker port>\n",
    "        --queue rabbitmq <IP Synergos Logger> <AMQP port>\n",
    "```\n",
    "\n",
    "- **WORKER_2 Node 2**\n",
    "```\n",
    "docker run --rm\n",
    "    -p 5004:5000 \n",
    "    -p 8024:8020\n",
    "    -v <directory abalone/data2>:/worker/data \n",
    "    -v <directory abalone/outputs_2>:/worker/outputs \n",
    "    --name worker_2_n2\n",
    "    gcr.io/synergos-aisg/synergos_worker:v0.1.0\n",
    "        --id worker_2_n2 \n",
    "        --logging_variant graylog <IP Synergos Logger> <Worker port>\n",
    "        --queue rabbitmq <IP Synergos Logger> <AMQP port>\n",
    "```\n",
    "\n",
    "#### Synergos MLOps\n",
    "\n",
    "```\n",
    "docker run --rm \n",
    "    -p 5500:5500 \n",
    "    -v /path/to/mlflow_test/:/mlflow    # <-- IMPT! Same as orchestrator's\n",
    "    --name synmlops \n",
    "    gcr.io/synergos-aisg/synergos_mlops:v0.1.0\n",
    "```\n",
    "\n",
    "#### Synergos MQ\n",
    "\n",
    "```\n",
    "docker run --rm         \n",
    "    -p 15672:15672      # UI port\n",
    "    -p 5672:5672        # AMQP port\n",
    "    --name synergos_mq \n",
    "    gcr.io/synergos-aisg/synergos_mq:v0.1.0\n",
    "```\n",
    "\n",
    "#### Synergos UI\n",
    "\n",
    "- Refer to these [instructions](https://github.com/aimakerspace/synergos_ui) to deploy `Synergos UI`.\n",
    "\n",
    "#### Synergos Logger\n",
    "\n",
    "- Refer to these [instructions](https://github.com/aimakerspace/synergos_logger) to deploy `Synergos Logger`.\n"
   ]
  },
  {
   "cell_type": "markdown",
   "metadata": {},
   "source": [
    "Once ready, for each terminal, you should see a REST server running on http://0.0.0.0:5000 of the container.\n",
    "\n",
    "You are now ready for the next step."
   ]
  },
  {
   "cell_type": "markdown",
   "metadata": {},
   "source": [
    "## Configurations"
   ]
  },
  {
   "cell_type": "markdown",
   "metadata": {},
   "source": [
    "### A. Configuring `Synergos Simulator`\n",
    "\n",
    "All hosts & ports have already been pre-allocated!\n",
    "\n",
    "Refer to [this](https://github.com/aimakerspace/synergos_simulator) for all the pre-allocated host & port mappings."
   ]
  },
  {
   "cell_type": "markdown",
   "metadata": {},
   "source": [
    "### B. Configuring your manual setup\n",
    "\n",
    "In a new terminal, run `docker inspect bridge` and find the IPv4Address for each container. Ideally, the containers should have the following addresses:\n",
    "- director address: `172.17.0.2`\n",
    "- Sub-Grid 1\n",
    "  - ttp_1 address: `172.17.0.3`\n",
    "  - worker_1_n1 address: `172.17.0.4`\n",
    "  - worker_2_n1 address: `172.17.0.5`\n",
    "- Sub-Grid 2\n",
    "  - ttp_2 address: `172.17.0.6`\n",
    "  - worker_1_n2 address: `172.17.0.7`\n",
    "  - worker_2_n2 address: `172.17.0.8`\n",
    "- UI address: `172.17.0.9`\n",
    "- Logger address: `172.17.0.14`\n",
    "- MLOps address: `172.17.0.15`\n",
    "- MQ address: `172.17.0.16`\n",
    "\n",
    "If not, just note the relevant IP addresses for each docker container.\n",
    "\n",
    "Run the following cells below.\n",
    "\n",
    "**Note: For Windows users, `host` should be Docker Desktop VM's IP. Follow [this](https://stackoverflow.com/questions/58073936/how-to-get-ip-address-of-docker-desktop-vm) on instructions to find IP**"
   ]
  },
  {
   "cell_type": "code",
   "execution_count": 1,
   "metadata": {},
   "outputs": [],
   "source": [
    "import time\n",
    "from synergos import Driver\n",
    "\n",
    "host = \"172.20.0.2\"\n",
    "port = 5000\n",
    "\n",
    "# Initiate Driver\n",
    "driver = Driver(host=host, port=port)"
   ]
  },
  {
   "cell_type": "markdown",
   "metadata": {},
   "source": [
    "## Phase 1: Registration\n",
    "\n",
    "Submitting Orchestrator & Participant metadata"
   ]
  },
  {
   "cell_type": "markdown",
   "metadata": {},
   "source": [
    "#### 1A. Orchestrator creates a collaboration"
   ]
  },
  {
   "cell_type": "code",
   "execution_count": 2,
   "metadata": {},
   "outputs": [
    {
     "data": {
      "text/plain": [
       "{'data': {'doc_id': '1',\n",
       "  'kind': 'Collaboration',\n",
       "  'key': {'collab_id': 'abalone_syncluster_collaboration'},\n",
       "  'relations': {'Project': [],\n",
       "   'Experiment': [],\n",
       "   'Run': [],\n",
       "   'Registration': [],\n",
       "   'Tag': [],\n",
       "   'Model': [],\n",
       "   'Validation': [],\n",
       "   'Prediction': []},\n",
       "  'logs': {'host': '172.20.0.14',\n",
       "   'ports': {'sysmetrics': 9100,\n",
       "    'director': 9200,\n",
       "    'ttp': 9300,\n",
       "    'worker': 9400,\n",
       "    'main': 9000,\n",
       "    'ui': 9000},\n",
       "   'secure': False},\n",
       "  'mlops': {'host': '172.20.0.15',\n",
       "   'ports': {'main': 5500, 'ui': 5500},\n",
       "   'secure': False},\n",
       "  'mq': {'host': '172.20.0.16',\n",
       "   'ports': {'main': 5672, 'ui': 15672},\n",
       "   'secure': False}},\n",
       " 'apiVersion': '0.1.0',\n",
       " 'success': 1,\n",
       " 'status': 201,\n",
       " 'method': 'collaborations.post',\n",
       " 'params': {}}"
      ]
     },
     "execution_count": 2,
     "metadata": {},
     "output_type": "execute_result"
    }
   ],
   "source": [
    "collab_task = driver.collaborations\n",
    "\n",
    "collab_task.configure_logger(\n",
    "    host=\"172.20.0.14\", \n",
    "    port=9000, \n",
    "    sysmetrics_port=9100, \n",
    "    director_port=9200, \n",
    "    ttp_port=9300, \n",
    "    worker_port=9400, \n",
    "    ui_port=9000, \n",
    "    secure=False\n",
    ")\n",
    "\n",
    "collab_task.configure_mlops( \n",
    "    host=\"172.20.0.15\", \n",
    "    port=5500, \n",
    "    ui_port=5500, \n",
    "    secure=False\n",
    ")\n",
    "\n",
    "collab_task.configure_mq( \n",
    "    host=\"172.20.0.16\", \n",
    "    port=5672, \n",
    "    ui_port=15672, \n",
    "    secure=False\n",
    ")\n",
    "\n",
    "collab_task.create('abalone_syncluster_collaboration')"
   ]
  },
  {
   "cell_type": "markdown",
   "metadata": {},
   "source": [
    "#### 1B. Orchestrator creates a project"
   ]
  },
  {
   "cell_type": "code",
   "execution_count": 3,
   "metadata": {},
   "outputs": [
    {
     "data": {
      "text/plain": [
       "{'data': {'doc_id': '1',\n",
       "  'kind': 'Project',\n",
       "  'key': {'collab_id': 'abalone_syncluster_collaboration',\n",
       "   'project_id': 'abalone_syncluster_project'},\n",
       "  'relations': {'Experiment': [],\n",
       "   'Run': [],\n",
       "   'Registration': [],\n",
       "   'Tag': [],\n",
       "   'Model': [],\n",
       "   'Validation': [],\n",
       "   'Prediction': []},\n",
       "  'action': 'regress',\n",
       "  'incentives': {'tier_2': [], 'tier_1': []}},\n",
       " 'apiVersion': '0.1.0',\n",
       " 'success': 1,\n",
       " 'status': 201,\n",
       " 'method': 'projects.post',\n",
       " 'params': {'collab_id': 'abalone_syncluster_collaboration'}}"
      ]
     },
     "execution_count": 3,
     "metadata": {},
     "output_type": "execute_result"
    }
   ],
   "source": [
    "driver.projects.create(\n",
    "    collab_id=\"abalone_syncluster_collaboration\",\n",
    "    project_id=\"abalone_syncluster_project\",\n",
    "    action=\"regress\",\n",
    "    incentives={\n",
    "        'tier_1': [],\n",
    "        'tier_2': [],\n",
    "    }\n",
    ")"
   ]
  },
  {
   "cell_type": "markdown",
   "metadata": {},
   "source": [
    "#### 1C. Orchestrator creates an experiment"
   ]
  },
  {
   "cell_type": "code",
   "execution_count": 4,
   "metadata": {},
   "outputs": [
    {
     "data": {
      "text/plain": [
       "{'apiVersion': '0.1.0',\n",
       " 'success': 1,\n",
       " 'status': 201,\n",
       " 'method': 'experiments.post',\n",
       " 'params': {'collab_id': 'abalone_syncluster_collaboration',\n",
       "  'project_id': 'abalone_syncluster_project'},\n",
       " 'data': {'created_at': '2021-09-16 05:11:48 N',\n",
       "  'key': {'collab_id': 'abalone_syncluster_collaboration',\n",
       "   'expt_id': 'abalone_syncluster_experiment',\n",
       "   'project_id': 'abalone_syncluster_project'},\n",
       "  'model': [{'activation': '',\n",
       "    'is_input': True,\n",
       "    'l_type': 'Linear',\n",
       "    'structure': {'bias': True, 'in_features': 28, 'out_features': 1}}],\n",
       "  'relations': {'Run': [], 'Model': [], 'Validation': [], 'Prediction': []},\n",
       "  'doc_id': 1,\n",
       "  'kind': 'Experiment'}}"
      ]
     },
     "execution_count": 4,
     "metadata": {},
     "output_type": "execute_result"
    }
   ],
   "source": [
    "driver.experiments.create(\n",
    "    collab_id=\"abalone_syncluster_collaboration\",\n",
    "    project_id=\"abalone_syncluster_project\",\n",
    "    expt_id=\"abalone_syncluster_experiment\",\n",
    "    model=[\n",
    "        {\n",
    "            \"activation\": \"\",\n",
    "            \"is_input\": True,\n",
    "            \"l_type\": \"Linear\",\n",
    "            \"structure\": {\n",
    "                \"bias\": True,\n",
    "                \"in_features\": 28,\n",
    "                \"out_features\": 1\n",
    "            }\n",
    "        }\n",
    "    ]\n",
    ")"
   ]
  },
  {
   "cell_type": "markdown",
   "metadata": {},
   "source": [
    "#### 1D. Orchestrator creates a run"
   ]
  },
  {
   "cell_type": "code",
   "execution_count": 5,
   "metadata": {},
   "outputs": [
    {
     "data": {
      "text/plain": [
       "{'data': {'doc_id': '1',\n",
       "  'kind': 'Run',\n",
       "  'key': {'collab_id': 'abalone_syncluster_collaboration',\n",
       "   'project_id': 'abalone_syncluster_project',\n",
       "   'expt_id': 'abalone_syncluster_experiment',\n",
       "   'run_id': 'abalone_syncluster_run'},\n",
       "  'relations': {'Model': [], 'Validation': [], 'Prediction': []},\n",
       "  'rounds': 2,\n",
       "  'epochs': 1,\n",
       "  'lr': 0.001,\n",
       "  'lr_decay': 0.1,\n",
       "  'weight_decay': 0.0,\n",
       "  'seed': 42,\n",
       "  'precision_fractional': 5,\n",
       "  'mu': 0.1,\n",
       "  'l1_lambda': 0.0,\n",
       "  'l2_lambda': 0.0,\n",
       "  'base_lr': 0.0005,\n",
       "  'max_lr': 0.005,\n",
       "  'patience': 10,\n",
       "  'delta': 0.0},\n",
       " 'apiVersion': '0.1.0',\n",
       " 'success': 1,\n",
       " 'status': 201,\n",
       " 'method': 'runs.post',\n",
       " 'params': {'collab_id': 'abalone_syncluster_collaboration',\n",
       "  'project_id': 'abalone_syncluster_project',\n",
       "  'expt_id': 'abalone_syncluster_experiment'}}"
      ]
     },
     "execution_count": 5,
     "metadata": {},
     "output_type": "execute_result"
    }
   ],
   "source": [
    "driver.runs.create(\n",
    "    collab_id=\"abalone_syncluster_collaboration\",\n",
    "    project_id=\"abalone_syncluster_project\",\n",
    "    expt_id=\"abalone_syncluster_experiment\",\n",
    "    run_id=\"abalone_syncluster_run\",\n",
    "    rounds=2, \n",
    "    epochs=1,\n",
    "    base_lr=0.0005,\n",
    "    max_lr=0.005,\n",
    "    criterion=\"MSELoss\"\n",
    ")"
   ]
  },
  {
   "cell_type": "markdown",
   "metadata": {},
   "source": [
    "#### 1E. Participants registers their servers' configurations and roles"
   ]
  },
  {
   "cell_type": "code",
   "execution_count": 6,
   "metadata": {},
   "outputs": [
    {
     "data": {
      "text/plain": [
       "{'data': {'doc_id': '1',\n",
       "  'kind': 'Participant',\n",
       "  'key': {'participant_id': 'worker_1'},\n",
       "  'relations': {'Registration': [], 'Tag': []},\n",
       "  'id': 'worker_1'},\n",
       " 'apiVersion': '0.1.0',\n",
       " 'success': 1,\n",
       " 'status': 201,\n",
       " 'method': 'participants.post',\n",
       " 'params': {}}"
      ]
     },
     "metadata": {},
     "output_type": "display_data"
    },
    {
     "data": {
      "text/plain": [
       "{'data': {'doc_id': '2',\n",
       "  'kind': 'Participant',\n",
       "  'key': {'participant_id': 'worker_2'},\n",
       "  'relations': {'Registration': [], 'Tag': []},\n",
       "  'id': 'worker_2'},\n",
       " 'apiVersion': '0.1.0',\n",
       " 'success': 1,\n",
       " 'status': 201,\n",
       " 'method': 'participants.post',\n",
       " 'params': {}}"
      ]
     },
     "metadata": {},
     "output_type": "display_data"
    }
   ],
   "source": [
    "participant_resp_1 = driver.participants.create(\n",
    "    participant_id=\"worker_1\",\n",
    ")\n",
    "\n",
    "display(participant_resp_1)\n",
    "\n",
    "participant_resp_2 = driver.participants.create(\n",
    "    participant_id=\"worker_2\",\n",
    ")\n",
    "\n",
    "display(participant_resp_2)"
   ]
  },
  {
   "cell_type": "code",
   "execution_count": 7,
   "metadata": {},
   "outputs": [
    {
     "data": {
      "text/plain": [
       "{'data': {'doc_id': '1',\n",
       "  'kind': 'Registration',\n",
       "  'key': {'collab_id': 'abalone_syncluster_collaboration',\n",
       "   'project_id': 'abalone_syncluster_project',\n",
       "   'participant_id': 'worker_1'},\n",
       "  'relations': {'Tag': []},\n",
       "  'collaboration': {'catalogue': {},\n",
       "   'logs': {'host': '172.20.0.14',\n",
       "    'ports': {'sysmetrics': 9100,\n",
       "     'director': 9200,\n",
       "     'ttp': 9300,\n",
       "     'worker': 9400,\n",
       "     'main': 9000,\n",
       "     'ui': 9000},\n",
       "    'secure': False},\n",
       "   'meter': {},\n",
       "   'mlops': {'host': '172.20.0.15',\n",
       "    'ports': {'main': 5500, 'ui': 5500},\n",
       "    'secure': False},\n",
       "   'mq': {'host': '172.20.0.16',\n",
       "    'ports': {'main': 5672, 'ui': 15672},\n",
       "    'secure': False}},\n",
       "  'project': {'action': 'regress',\n",
       "   'incentives': {'tier_2': [], 'tier_1': []},\n",
       "   'start_at': None},\n",
       "  'participant': {'id': 'worker_1',\n",
       "   'category': [],\n",
       "   'summary': None,\n",
       "   'phone': None,\n",
       "   'email': None,\n",
       "   'socials': {}},\n",
       "  'role': 'host',\n",
       "  'n_count': 2,\n",
       "  'node_1': {'host': '172.20.0.7',\n",
       "   'port': 8020,\n",
       "   'log_msgs': True,\n",
       "   'verbose': True,\n",
       "   'f_port': 5000},\n",
       "  'node_0': {'host': '172.20.0.4',\n",
       "   'port': 8020,\n",
       "   'log_msgs': True,\n",
       "   'verbose': True,\n",
       "   'f_port': 5000}},\n",
       " 'apiVersion': '0.1.0',\n",
       " 'success': 1,\n",
       " 'status': 201,\n",
       " 'method': 'registration.post',\n",
       " 'params': {'collab_id': 'abalone_syncluster_collaboration',\n",
       "  'project_id': 'abalone_syncluster_project',\n",
       "  'participant_id': 'worker_1'}}"
      ]
     },
     "execution_count": 7,
     "metadata": {},
     "output_type": "execute_result"
    }
   ],
   "source": [
    "registration_task = driver.registrations\n",
    "\n",
    "# Add and register worker_1 node\n",
    "registration_task.add_node(\n",
    "    host='172.20.0.4',\n",
    "    port=8020,\n",
    "    f_port=5000,\n",
    "    log_msgs=True,\n",
    "    verbose=True\n",
    ")\n",
    "\n",
    "registration_task.add_node(\n",
    "    host='172.20.0.7',\n",
    "    port=8020,\n",
    "    f_port=5000,\n",
    "    log_msgs=True,\n",
    "    verbose=True\n",
    ")\n",
    "\n",
    "registration_task.create(\n",
    "    collab_id=\"abalone_syncluster_collaboration\",\n",
    "    project_id=\"abalone_syncluster_project\",\n",
    "    participant_id=\"worker_1\",\n",
    "    role=\"host\"\n",
    ")"
   ]
  },
  {
   "cell_type": "code",
   "execution_count": 8,
   "metadata": {},
   "outputs": [
    {
     "data": {
      "text/plain": [
       "{'data': {'doc_id': '2',\n",
       "  'kind': 'Registration',\n",
       "  'key': {'collab_id': 'abalone_syncluster_collaboration',\n",
       "   'project_id': 'abalone_syncluster_project',\n",
       "   'participant_id': 'worker_2'},\n",
       "  'relations': {'Tag': []},\n",
       "  'collaboration': {'catalogue': {},\n",
       "   'logs': {'host': '172.20.0.14',\n",
       "    'ports': {'sysmetrics': 9100,\n",
       "     'director': 9200,\n",
       "     'ttp': 9300,\n",
       "     'worker': 9400,\n",
       "     'main': 9000,\n",
       "     'ui': 9000},\n",
       "    'secure': False},\n",
       "   'meter': {},\n",
       "   'mlops': {'host': '172.20.0.15',\n",
       "    'ports': {'main': 5500, 'ui': 5500},\n",
       "    'secure': False},\n",
       "   'mq': {'host': '172.20.0.16',\n",
       "    'ports': {'main': 5672, 'ui': 15672},\n",
       "    'secure': False}},\n",
       "  'project': {'action': 'regress',\n",
       "   'incentives': {'tier_2': [], 'tier_1': []},\n",
       "   'start_at': None},\n",
       "  'participant': {'id': 'worker_2',\n",
       "   'category': [],\n",
       "   'summary': None,\n",
       "   'phone': None,\n",
       "   'email': None,\n",
       "   'socials': {}},\n",
       "  'role': 'guest',\n",
       "  'n_count': 2,\n",
       "  'node_1': {'host': '172.20.0.8',\n",
       "   'port': 8020,\n",
       "   'log_msgs': True,\n",
       "   'verbose': True,\n",
       "   'f_port': 5000},\n",
       "  'node_0': {'host': '172.20.0.5',\n",
       "   'port': 8020,\n",
       "   'log_msgs': True,\n",
       "   'verbose': True,\n",
       "   'f_port': 5000}},\n",
       " 'apiVersion': '0.1.0',\n",
       " 'success': 1,\n",
       " 'status': 201,\n",
       " 'method': 'registration.post',\n",
       " 'params': {'collab_id': 'abalone_syncluster_collaboration',\n",
       "  'project_id': 'abalone_syncluster_project',\n",
       "  'participant_id': 'worker_2'}}"
      ]
     },
     "execution_count": 8,
     "metadata": {},
     "output_type": "execute_result"
    }
   ],
   "source": [
    "registration_task = driver.registrations\n",
    "\n",
    "# Add and register worker_2 node\n",
    "registration_task.add_node(\n",
    "    host='172.20.0.5',\n",
    "    port=8020,\n",
    "    f_port=5000,\n",
    "    log_msgs=True,\n",
    "    verbose=True\n",
    ")\n",
    "\n",
    "registration_task.add_node(\n",
    "    host='172.20.0.8',\n",
    "    port=8020,\n",
    "    f_port=5000,\n",
    "    log_msgs=True,\n",
    "    verbose=True\n",
    ")\n",
    "\n",
    "registration_task.create(\n",
    "    collab_id=\"abalone_syncluster_collaboration\",\n",
    "    project_id=\"abalone_syncluster_project\",\n",
    "    participant_id=\"worker_2\",\n",
    "    role=\"guest\"\n",
    ")"
   ]
  },
  {
   "cell_type": "markdown",
   "metadata": {},
   "source": [
    "#### 1F. Participants registers their tags for a specific project"
   ]
  },
  {
   "cell_type": "code",
   "execution_count": 9,
   "metadata": {},
   "outputs": [
    {
     "data": {
      "text/plain": [
       "{'data': {'doc_id': '1',\n",
       "  'kind': 'Tag',\n",
       "  'key': {'collab_id': 'abalone_syncluster_collaboration',\n",
       "   'project_id': 'abalone_syncluster_project',\n",
       "   'participant_id': 'worker_1'},\n",
       "  'train': [['abalone', 'dataset', 'data1', 'train']],\n",
       "  'evaluate': [['abalone', 'dataset', 'data1', 'evaluate']],\n",
       "  'predict': []},\n",
       " 'apiVersion': '0.1.0',\n",
       " 'success': 1,\n",
       " 'status': 201,\n",
       " 'method': 'tag.post',\n",
       " 'params': {'collab_id': 'abalone_syncluster_collaboration',\n",
       "  'project_id': 'abalone_syncluster_project',\n",
       "  'participant_id': 'worker_1'}}"
      ]
     },
     "execution_count": 9,
     "metadata": {},
     "output_type": "execute_result"
    }
   ],
   "source": [
    "# Worker 1 declares their data tags\n",
    "driver.tags.create(\n",
    "    collab_id=\"abalone_syncluster_collaboration\",\n",
    "    project_id=\"abalone_syncluster_project\",\n",
    "    participant_id=\"worker_1\",\n",
    "    train=[[\"abalone\", \"dataset\", \"data1\", \"train\"]],\n",
    "    evaluate=[[\"abalone\", \"dataset\", \"data1\", \"evaluate\"]]\n",
    ")"
   ]
  },
  {
   "cell_type": "code",
   "execution_count": 10,
   "metadata": {},
   "outputs": [
    {
     "data": {
      "text/plain": [
       "{'data': {'doc_id': '2',\n",
       "  'kind': 'Tag',\n",
       "  'key': {'collab_id': 'abalone_syncluster_collaboration',\n",
       "   'project_id': 'abalone_syncluster_project',\n",
       "   'participant_id': 'worker_2'},\n",
       "  'train': [['abalone', 'dataset', 'data2', 'train']],\n",
       "  'evaluate': [['abalone', 'dataset', 'data2', 'evaluate']],\n",
       "  'predict': []},\n",
       " 'apiVersion': '0.1.0',\n",
       " 'success': 1,\n",
       " 'status': 201,\n",
       " 'method': 'tag.post',\n",
       " 'params': {'collab_id': 'abalone_syncluster_collaboration',\n",
       "  'project_id': 'abalone_syncluster_project',\n",
       "  'participant_id': 'worker_2'}}"
      ]
     },
     "execution_count": 10,
     "metadata": {},
     "output_type": "execute_result"
    }
   ],
   "source": [
    "# Worker 2 declares their data tags\n",
    "driver.tags.create(\n",
    "    collab_id=\"abalone_syncluster_collaboration\",\n",
    "    project_id=\"abalone_syncluster_project\",\n",
    "    participant_id=\"worker_2\",\n",
    "    train=[[\"abalone\", \"dataset\", \"data2\", \"train\"]],\n",
    "    evaluate=[[\"abalone\", \"dataset\", \"data2\", \"evaluate\"]]\n",
    ")"
   ]
  },
  {
   "cell_type": "code",
   "execution_count": 11,
   "metadata": {},
   "outputs": [
    {
     "ename": "SyntaxError",
     "evalue": "invalid syntax (3319058519.py, line 1)",
     "output_type": "error",
     "traceback": [
      "\u001b[0;36m  File \u001b[0;32m\"/tmp/ipykernel_4267/3319058519.py\"\u001b[0;36m, line \u001b[0;32m1\u001b[0m\n\u001b[0;31m    stop!\u001b[0m\n\u001b[0m        ^\u001b[0m\n\u001b[0;31mSyntaxError\u001b[0m\u001b[0;31m:\u001b[0m invalid syntax\n"
     ]
    }
   ],
   "source": [
    "stop!"
   ]
  },
  {
   "cell_type": "markdown",
   "metadata": {},
   "source": [
    "## Phase 2: \n",
    "Alignment, Training & Optimisation"
   ]
  },
  {
   "cell_type": "markdown",
   "metadata": {},
   "source": [
    "#### 2A. Perform multiple feature alignment to dynamically configure datasets and models for cross-grid compatibility"
   ]
  },
  {
   "cell_type": "code",
   "execution_count": 12,
   "metadata": {
    "scrolled": false
   },
   "outputs": [
    {
     "data": {
      "text/plain": [
       "{'data': [],\n",
       " 'apiVersion': '0.1.0',\n",
       " 'success': 1,\n",
       " 'status': 201,\n",
       " 'method': 'alignments.post',\n",
       " 'params': {'collab_id': 'abalone_syncluster_collaboration',\n",
       "  'project_id': 'abalone_syncluster_project'}}"
      ]
     },
     "execution_count": 12,
     "metadata": {},
     "output_type": "execute_result"
    }
   ],
   "source": [
    "driver.alignments.create(\n",
    "    collab_id='abalone_syncluster_collaboration',\n",
    "    project_id=\"abalone_syncluster_project\",\n",
    "    verbose=False,\n",
    "    log_msg=False\n",
    ")"
   ]
  },
  {
   "cell_type": "code",
   "execution_count": 13,
   "metadata": {},
   "outputs": [
    {
     "data": {
      "text/plain": [
       "{'data': [{'doc_id': '1',\n",
       "   'kind': 'Alignment',\n",
       "   'key': {'collab_id': 'abalone_syncluster_collaboration',\n",
       "    'project_id': 'abalone_syncluster_project',\n",
       "    'participant_id': 'worker_1'},\n",
       "   'train': {'X': [], 'y': []},\n",
       "   'evaluate': {'X': [], 'y': []},\n",
       "   'predict': {'X': [], 'y': []}},\n",
       "  {'doc_id': '2',\n",
       "   'kind': 'Alignment',\n",
       "   'key': {'collab_id': 'abalone_syncluster_collaboration',\n",
       "    'project_id': 'abalone_syncluster_project',\n",
       "    'participant_id': 'worker_2'},\n",
       "   'train': {'X': [], 'y': []},\n",
       "   'evaluate': {'X': [], 'y': []},\n",
       "   'predict': {'X': [], 'y': []}}],\n",
       " 'apiVersion': '0.1.0',\n",
       " 'success': 1,\n",
       " 'status': 200,\n",
       " 'method': 'alignments.get',\n",
       " 'params': {'collab_id': 'abalone_syncluster_collaboration',\n",
       "  'project_id': 'abalone_syncluster_project'}}"
      ]
     },
     "metadata": {},
     "output_type": "display_data"
    }
   ],
   "source": [
    "# Important! MUST wait for alignment process to first complete before proceeding on\n",
    "while True:\n",
    "    \n",
    "    align_resp = driver.alignments.read(\n",
    "        collab_id='abalone_syncluster_collaboration',\n",
    "        project_id=\"abalone_syncluster_project\"\n",
    "    )\n",
    "    \n",
    "    align_data = align_resp.get('data')\n",
    "    if align_data:\n",
    "        display(align_resp)\n",
    "        break\n",
    "        \n",
    "    time.sleep(5)"
   ]
  },
  {
   "cell_type": "markdown",
   "metadata": {},
   "source": [
    "#### 2B. Trigger training across the federated grid"
   ]
  },
  {
   "cell_type": "code",
   "execution_count": 14,
   "metadata": {},
   "outputs": [
    {
     "data": {
      "text/plain": [
       "{'data': [],\n",
       " 'apiVersion': '0.1.0',\n",
       " 'success': 1,\n",
       " 'status': 200,\n",
       " 'method': 'models.post',\n",
       " 'params': {'collab_id': 'abalone_syncluster_collaboration',\n",
       "  'project_id': 'abalone_syncluster_project',\n",
       "  'expt_id': 'abalone_syncluster_experiment',\n",
       "  'run_id': 'abalone_syncluster_run'}}"
      ]
     },
     "metadata": {},
     "output_type": "display_data"
    }
   ],
   "source": [
    "model_resp = driver.models.create(\n",
    "    collab_id=\"abalone_syncluster_collaboration\",\n",
    "    project_id=\"abalone_syncluster_project\",\n",
    "    expt_id=\"abalone_syncluster_experiment\",\n",
    "    run_id=\"abalone_syncluster_run\",\n",
    "    log_msg=False,\n",
    "    verbose=False\n",
    ")\n",
    "display(model_resp)"
   ]
  },
  {
   "cell_type": "code",
   "execution_count": 15,
   "metadata": {},
   "outputs": [
    {
     "data": {
      "text/plain": [
       "[{'doc_id': '1',\n",
       "  'kind': 'Model',\n",
       "  'key': {'project_id': 'abalone_syncluster_project',\n",
       "   'expt_id': 'abalone_syncluster_experiment',\n",
       "   'run_id': 'abalone_syncluster_run'},\n",
       "  'global': {'origin': 'ttp',\n",
       "   'path': '/orchestrator/outputs/abalone_syncluster_collaboration/abalone_syncluster_project/abalone_syncluster_experiment/abalone_syncluster_run/global_model.pt',\n",
       "   'loss_history': '/orchestrator/outputs/abalone_syncluster_collaboration/abalone_syncluster_project/abalone_syncluster_experiment/abalone_syncluster_run/global_loss_history.json'},\n",
       "  'local_2': {'origin': 'worker_2',\n",
       "   'path': '/orchestrator/outputs/abalone_syncluster_collaboration/abalone_syncluster_project/abalone_syncluster_experiment/abalone_syncluster_run/local_model_worker_2.pt',\n",
       "   'loss_history': '/orchestrator/outputs/abalone_syncluster_collaboration/abalone_syncluster_project/abalone_syncluster_experiment/abalone_syncluster_run/local_loss_history_worker_2.json'},\n",
       "  'local_1': {'origin': 'worker_1',\n",
       "   'path': '/orchestrator/outputs/abalone_syncluster_collaboration/abalone_syncluster_project/abalone_syncluster_experiment/abalone_syncluster_run/local_model_worker_1.pt',\n",
       "   'loss_history': '/orchestrator/outputs/abalone_syncluster_collaboration/abalone_syncluster_project/abalone_syncluster_experiment/abalone_syncluster_run/local_loss_history_worker_1.json'}}]"
      ]
     },
     "metadata": {},
     "output_type": "display_data"
    }
   ],
   "source": [
    "# Important! MUST wait for training process to first complete before proceeding on\n",
    "while True:\n",
    "    \n",
    "    train_resp = driver.models.read(\n",
    "        collab_id=\"abalone_syncluster_collaboration\",\n",
    "        project_id=\"abalone_syncluster_project\",\n",
    "        expt_id=\"abalone_syncluster_experiment\",\n",
    "        run_id=\"abalone_syncluster_run\"\n",
    "    )\n",
    "    \n",
    "    train_data = train_resp.get('data')\n",
    "    if train_data:\n",
    "        display(train_data)\n",
    "        break\n",
    "        \n",
    "    time.sleep(5)"
   ]
  },
  {
   "cell_type": "markdown",
   "metadata": {},
   "source": [
    "#### 2C. Perform hyperparameter tuning once ideal model is found (experimental) "
   ]
  },
  {
   "cell_type": "code",
   "execution_count": 16,
   "metadata": {},
   "outputs": [
    {
     "data": {
      "text/plain": [
       "{'data': [{'doc_id': '2',\n",
       "   'kind': 'Optimization',\n",
       "   'key': {'participant_id': None,\n",
       "    'collab_id': 'abalone_syncluster_collaboration',\n",
       "    'project_id': 'abalone_syncluster_project',\n",
       "    'expt_id': 'abalone_syncluster_experiment',\n",
       "    'run_id': 'optim_run_b63c3ede-18be-4ff6-b749-fcf1d8ed46e1'},\n",
       "   'evaluate': {'statistics': {}, 'res_path': None}}],\n",
       " 'apiVersion': '0.1.0',\n",
       " 'success': 1,\n",
       " 'status': 200,\n",
       " 'method': 'optimizations.post',\n",
       " 'params': {'collab_id': 'abalone_syncluster_collaboration',\n",
       "  'project_id': 'abalone_syncluster_project',\n",
       "  'expt_id': 'abalone_syncluster_experiment'}}"
      ]
     },
     "execution_count": 16,
     "metadata": {},
     "output_type": "execute_result"
    }
   ],
   "source": [
    "optim_parameters = {\n",
    "    'search_space': {\n",
    "        \"rounds\": {\"_type\": \"choice\", \"_value\": [1, 2]},\n",
    "        \"epochs\": {\"_type\": \"choice\", \"_value\": [1, 2]},\n",
    "        \"batch_size\": {\"_type\": \"choice\", \"_value\": [450, 512]},\n",
    "        \"lr\": {\"_type\": \"choice\", \"_value\": [0.0001, 0.1]},\n",
    "        \"criterion\": {\"_type\": \"choice\", \"_value\": [\"MSELoss\"]},\n",
    "        \"mu\": {\"_type\": \"uniform\", \"_value\": [0.0, 1.0]},\n",
    "        \"base_lr\": {\"_type\": \"choice\", \"_value\": [0.00005]},\n",
    "        \"max_lr\": {\"_type\": \"choice\", \"_value\": [0.2]}\n",
    "    },\n",
    "    'backend': \"tune\",\n",
    "    'optimize_mode': \"max\",\n",
    "    'metric': \"accuracy\",\n",
    "    'trial_concurrency': 1,\n",
    "    'max_exec_duration': \"1h\",\n",
    "    'max_trial_num': 2,\n",
    "    'max_concurrent': 1,\n",
    "    'is_remote': True,\n",
    "    'use_annotation': True,\n",
    "    'auto_align': True,\n",
    "    'dockerised': True,\n",
    "    'verbose': True,\n",
    "    'log_msgs': True\n",
    "}\n",
    "driver.optimizations.create(\n",
    "    collab_id=\"abalone_syncluster_collaboration\",\n",
    "    project_id=\"abalone_syncluster_project\",\n",
    "    expt_id=\"abalone_syncluster_experiment\",\n",
    "    **optim_parameters\n",
    ")"
   ]
  },
  {
   "cell_type": "code",
   "execution_count": 18,
   "metadata": {},
   "outputs": [
    {
     "data": {
      "text/plain": [
       "{'data': [{'doc_id': '1',\n",
       "   'kind': 'Optimization',\n",
       "   'key': {'participant_id': 'worker_1',\n",
       "    'collab_id': 'abalone_syncluster_collaboration',\n",
       "    'project_id': 'abalone_syncluster_project',\n",
       "    'expt_id': 'abalone_syncluster_experiment',\n",
       "    'run_id': 'optim_run_b63c3ede-18be-4ff6-b749-fcf1d8ed46e1'},\n",
       "   'evaluate': {'statistics': {'R2': -9.04409447509626,\n",
       "     'MSE': 110.271156697211,\n",
       "     'MAE': 9.961416566351412},\n",
       "    'res_path': '/worker/outputs/abalone_syncluster_collaboration/abalone_syncluster_project/abalone_syncluster_experiment/optim_run_b63c3ede-18be-4ff6-b749-fcf1d8ed46e1/evaluate/inference_statistics_evaluate.json'}},\n",
       "  {'doc_id': '2',\n",
       "   'kind': 'Optimization',\n",
       "   'key': {'participant_id': 'worker_2',\n",
       "    'collab_id': 'abalone_syncluster_collaboration',\n",
       "    'project_id': 'abalone_syncluster_project',\n",
       "    'expt_id': 'abalone_syncluster_experiment',\n",
       "    'run_id': 'optim_run_b63c3ede-18be-4ff6-b749-fcf1d8ed46e1'},\n",
       "   'evaluate': {'statistics': {'R2': -10.325331633621756,\n",
       "     'MSE': 106.81001230909406,\n",
       "     'MAE': 9.868281572347595},\n",
       "    'res_path': '/worker/outputs/abalone_syncluster_collaboration/abalone_syncluster_project/abalone_syncluster_experiment/optim_run_b63c3ede-18be-4ff6-b749-fcf1d8ed46e1/evaluate/inference_statistics_evaluate.json'}},\n",
       "  {'doc_id': '3',\n",
       "   'kind': 'Optimization',\n",
       "   'key': {'participant_id': 'worker_1',\n",
       "    'collab_id': 'abalone_syncluster_collaboration',\n",
       "    'project_id': 'abalone_syncluster_project',\n",
       "    'expt_id': 'abalone_syncluster_experiment',\n",
       "    'run_id': 'optim_run_d6fe167f-bdc0-4905-bd95-be5855c8cfe8'},\n",
       "   'evaluate': {'statistics': {'R2': -9.399608989663783,\n",
       "     'MSE': 114.17424590462632,\n",
       "     'MAE': 10.144296762225894},\n",
       "    'res_path': '/worker/outputs/abalone_syncluster_collaboration/abalone_syncluster_project/abalone_syncluster_experiment/optim_run_d6fe167f-bdc0-4905-bd95-be5855c8cfe8/evaluate/inference_statistics_evaluate.json'}},\n",
       "  {'doc_id': '4',\n",
       "   'kind': 'Optimization',\n",
       "   'key': {'participant_id': 'worker_2',\n",
       "    'collab_id': 'abalone_syncluster_collaboration',\n",
       "    'project_id': 'abalone_syncluster_project',\n",
       "    'expt_id': 'abalone_syncluster_experiment',\n",
       "    'run_id': 'optim_run_d6fe167f-bdc0-4905-bd95-be5855c8cfe8'},\n",
       "   'evaluate': {'statistics': {'R2': -10.839803238148436,\n",
       "     'MSE': 111.66203079207081,\n",
       "     'MAE': 10.093944761799392},\n",
       "    'res_path': '/worker/outputs/abalone_syncluster_collaboration/abalone_syncluster_project/abalone_syncluster_experiment/optim_run_d6fe167f-bdc0-4905-bd95-be5855c8cfe8/evaluate/inference_statistics_evaluate.json'}}],\n",
       " 'apiVersion': '0.1.0',\n",
       " 'success': 1,\n",
       " 'status': 200,\n",
       " 'method': 'optimizations.get',\n",
       " 'params': {'collab_id': 'abalone_syncluster_collaboration',\n",
       "  'project_id': 'abalone_syncluster_project',\n",
       "  'expt_id': 'abalone_syncluster_experiment'}}"
      ]
     },
     "execution_count": 18,
     "metadata": {},
     "output_type": "execute_result"
    }
   ],
   "source": [
    "driver.optimizations.read(\n",
    "    collab_id=\"abalone_syncluster_collaboration\",\n",
    "    project_id=\"abalone_syncluster_project\",\n",
    "    expt_id=\"abalone_syncluster_experiment\"\n",
    ")"
   ]
  },
  {
   "cell_type": "markdown",
   "metadata": {},
   "source": [
    "## Phase 3: EVALUATE \n",
    "Validation & Predictions"
   ]
  },
  {
   "cell_type": "markdown",
   "metadata": {},
   "source": [
    "#### 3A. Perform validation(s) of combination(s)"
   ]
  },
  {
   "cell_type": "code",
   "execution_count": 19,
   "metadata": {},
   "outputs": [
    {
     "data": {
      "text/plain": [
       "{'data': [],\n",
       " 'apiVersion': '0.1.0',\n",
       " 'success': 1,\n",
       " 'status': 200,\n",
       " 'method': 'validations.post',\n",
       " 'params': {'collab_id': 'abalone_syncluster_collaboration',\n",
       "  'project_id': 'abalone_syncluster_project',\n",
       "  'expt_id': 'abalone_syncluster_experiment',\n",
       "  'run_id': 'abalone_syncluster_run'}}"
      ]
     },
     "execution_count": 19,
     "metadata": {},
     "output_type": "execute_result"
    }
   ],
   "source": [
    "# Orchestrator performs post-mortem validation\n",
    "driver.validations.create(\n",
    "    collab_id=\"abalone_syncluster_collaboration\",\n",
    "    project_id=\"abalone_syncluster_project\",\n",
    "    expt_id=\"abalone_syncluster_experiment\",\n",
    "    run_id=\"abalone_syncluster_run\",\n",
    "    log_msg=False,\n",
    "    verbose=False\n",
    ")"
   ]
  },
  {
   "cell_type": "code",
   "execution_count": 20,
   "metadata": {},
   "outputs": [
    {
     "data": {
      "text/plain": [
       "{'data': [{'doc_id': '5',\n",
       "   'kind': 'Validation',\n",
       "   'key': {'participant_id': 'worker_1',\n",
       "    'collab_id': 'abalone_syncluster_collaboration',\n",
       "    'project_id': 'abalone_syncluster_project',\n",
       "    'expt_id': 'abalone_syncluster_experiment',\n",
       "    'run_id': 'abalone_syncluster_run'},\n",
       "   'evaluate': {'statistics': {'R2': -8.719766319066903,\n",
       "     'MSE': 106.71045334027765,\n",
       "     'MAE': 9.793716852237052},\n",
       "    'res_path': '/worker/outputs/abalone_syncluster_collaboration/abalone_syncluster_project/abalone_syncluster_experiment/abalone_syncluster_run/evaluate/inference_statistics_evaluate.json'}},\n",
       "  {'doc_id': '6',\n",
       "   'kind': 'Validation',\n",
       "   'key': {'participant_id': 'worker_2',\n",
       "    'collab_id': 'abalone_syncluster_collaboration',\n",
       "    'project_id': 'abalone_syncluster_project',\n",
       "    'expt_id': 'abalone_syncluster_experiment',\n",
       "    'run_id': 'abalone_syncluster_run'},\n",
       "   'evaluate': {'statistics': {'R2': -9.999662578672568,\n",
       "     'MSE': 103.73860416908448,\n",
       "     'MAE': 9.718759146698734},\n",
       "    'res_path': '/worker/outputs/abalone_syncluster_collaboration/abalone_syncluster_project/abalone_syncluster_experiment/abalone_syncluster_run/evaluate/inference_statistics_evaluate.json'}}],\n",
       " 'apiVersion': '0.1.0',\n",
       " 'success': 1,\n",
       " 'status': 200,\n",
       " 'method': 'validations.get',\n",
       " 'params': {'collab_id': 'abalone_syncluster_collaboration',\n",
       "  'project_id': 'abalone_syncluster_project',\n",
       "  'expt_id': 'abalone_syncluster_experiment',\n",
       "  'run_id': 'abalone_syncluster_run'}}"
      ]
     },
     "execution_count": 20,
     "metadata": {},
     "output_type": "execute_result"
    }
   ],
   "source": [
    "# Run this cell again after validation has completed to retrieve your validation statistics\n",
    "# NOTE: You do not need to wait for validation/prediction requests to complete to proceed\n",
    "driver.validations.read(\n",
    "    collab_id=\"abalone_syncluster_collaboration\",\n",
    "    project_id=\"abalone_syncluster_project\",\n",
    "    expt_id=\"abalone_syncluster_experiment\",\n",
    "    run_id=\"abalone_syncluster_run\",\n",
    ")"
   ]
  },
  {
   "cell_type": "markdown",
   "metadata": {},
   "source": [
    "#### 3B. Perform prediction(s) of combination(s)"
   ]
  },
  {
   "cell_type": "code",
   "execution_count": 21,
   "metadata": {},
   "outputs": [
    {
     "data": {
      "text/plain": [
       "{'data': [],\n",
       " 'apiVersion': '0.1.0',\n",
       " 'success': 1,\n",
       " 'status': 200,\n",
       " 'method': 'predictions.post',\n",
       " 'params': {'collab_id': 'abalone_syncluster_collaboration',\n",
       "  'project_id': 'abalone_syncluster_project',\n",
       "  'expt_id': 'abalone_syncluster_experiment',\n",
       "  'run_id': 'abalone_syncluster_run',\n",
       "  'participant_id': 'worker_1'}}"
      ]
     },
     "execution_count": 21,
     "metadata": {},
     "output_type": "execute_result"
    }
   ],
   "source": [
    "# Worker 1 requests for inferences\n",
    "driver.predictions.create(\n",
    "    tags={\"abalone_syncluster_project\": [[\"abalone\", \"dataset\", \"data1\", \"predict\"]]},\n",
    "    participant_id=\"worker_1\",\n",
    "    collab_id=\"abalone_syncluster_collaboration\",\n",
    "    project_id=\"abalone_syncluster_project\",\n",
    "    expt_id=\"abalone_syncluster_experiment\",\n",
    "    run_id=\"abalone_syncluster_run\",\n",
    "    log_msg=False,\n",
    "    verbose=False\n",
    ")"
   ]
  },
  {
   "cell_type": "code",
   "execution_count": 22,
   "metadata": {},
   "outputs": [
    {
     "data": {
      "text/plain": [
       "{'data': [{'doc_id': '1',\n",
       "   'kind': 'Prediction',\n",
       "   'key': {'participant_id': 'worker_1',\n",
       "    'project_id': 'abalone_syncluster_project',\n",
       "    'expt_id': 'abalone_syncluster_experiment',\n",
       "    'run_id': 'abalone_syncluster_run'},\n",
       "   'predict': {'statistics': {'R2': -9.077475524853943,\n",
       "     'MSE': 99.229334453929,\n",
       "     'MAE': 9.458385023843805},\n",
       "    'res_path': '/worker/outputs/abalone_syncluster_collaboration/abalone_syncluster_project/abalone_syncluster_experiment/abalone_syncluster_run/predict/inference_statistics_predict.json'}}],\n",
       " 'apiVersion': '0.1.0',\n",
       " 'success': 1,\n",
       " 'status': 200,\n",
       " 'method': 'predictions.get',\n",
       " 'params': {'collab_id': 'abalone_syncluster_collaboration',\n",
       "  'project_id': 'abalone_syncluster_project',\n",
       "  'expt_id': 'abalone_syncluster_experiment',\n",
       "  'run_id': 'abalone_syncluster_run',\n",
       "  'participant_id': 'worker_1'}}"
      ]
     },
     "execution_count": 22,
     "metadata": {},
     "output_type": "execute_result"
    }
   ],
   "source": [
    "# Run this cell again after prediction has completed to retrieve your predictions for worker 1\n",
    "# NOTE: You do not need to wait for validation/prediction requests to complete to proceed\n",
    "driver.predictions.read(\n",
    "    participant_id=\"worker_1\",\n",
    "    collab_id=\"abalone_syncluster_collaboration\",\n",
    "    project_id=\"abalone_syncluster_project\",\n",
    "    expt_id=\"abalone_syncluster_experiment\",\n",
    "    run_id=\"abalone_syncluster_run\",\n",
    ")"
   ]
  },
  {
   "cell_type": "code",
   "execution_count": 23,
   "metadata": {},
   "outputs": [
    {
     "data": {
      "text/plain": [
       "{'data': [],\n",
       " 'apiVersion': '0.1.0',\n",
       " 'success': 1,\n",
       " 'status': 200,\n",
       " 'method': 'predictions.post',\n",
       " 'params': {'collab_id': 'abalone_syncluster_collaboration',\n",
       "  'project_id': 'abalone_syncluster_project',\n",
       "  'expt_id': 'abalone_syncluster_experiment',\n",
       "  'run_id': 'abalone_syncluster_run',\n",
       "  'participant_id': 'worker_2'}}"
      ]
     },
     "execution_count": 23,
     "metadata": {},
     "output_type": "execute_result"
    }
   ],
   "source": [
    "# Worker 2 requests for inferences\n",
    "driver.predictions.create(\n",
    "    tags={\"abalone_syncluster_project\": [[\"abalone\", \"dataset\", \"data2\", \"predict\"]]},\n",
    "    participant_id=\"worker_2\",\n",
    "    collab_id=\"abalone_syncluster_collaboration\",\n",
    "    project_id=\"abalone_syncluster_project\",\n",
    "    expt_id=\"abalone_syncluster_experiment\",\n",
    "    run_id=\"abalone_syncluster_run\",\n",
    "    log_msg=False,\n",
    "    verbose=False\n",
    ")"
   ]
  },
  {
   "cell_type": "code",
   "execution_count": 24,
   "metadata": {},
   "outputs": [
    {
     "data": {
      "text/plain": [
       "{'data': [{'doc_id': '2',\n",
       "   'kind': 'Prediction',\n",
       "   'key': {'participant_id': 'worker_2',\n",
       "    'project_id': 'abalone_syncluster_project',\n",
       "    'expt_id': 'abalone_syncluster_experiment',\n",
       "    'run_id': 'abalone_syncluster_run'},\n",
       "   'predict': {'statistics': {'R2': -9.962666297718991,\n",
       "     'MSE': 110.16136690573698,\n",
       "     'MAE': 10.011821621619164},\n",
       "    'res_path': '/worker/outputs/abalone_syncluster_collaboration/abalone_syncluster_project/abalone_syncluster_experiment/abalone_syncluster_run/predict/inference_statistics_predict.json'}}],\n",
       " 'apiVersion': '0.1.0',\n",
       " 'success': 1,\n",
       " 'status': 200,\n",
       " 'method': 'predictions.get',\n",
       " 'params': {'collab_id': 'abalone_syncluster_collaboration',\n",
       "  'project_id': 'abalone_syncluster_project',\n",
       "  'expt_id': 'abalone_syncluster_experiment',\n",
       "  'run_id': 'abalone_syncluster_run',\n",
       "  'participant_id': 'worker_2'}}"
      ]
     },
     "execution_count": 24,
     "metadata": {},
     "output_type": "execute_result"
    }
   ],
   "source": [
    "# Run this cell again after prediction has completed to retrieve your predictions for worker 2\n",
    "# NOTE: You do not need to wait for validation/prediction requests to complete to proceed\n",
    "driver.predictions.read(\n",
    "    participant_id=\"worker_2\",\n",
    "    collab_id=\"abalone_syncluster_collaboration\",\n",
    "    project_id=\"abalone_syncluster_project\",\n",
    "    expt_id=\"abalone_syncluster_experiment\",\n",
    "    run_id=\"abalone_syncluster_run\",\n",
    ")"
   ]
  },
  {
   "cell_type": "code",
   "execution_count": null,
   "metadata": {},
   "outputs": [],
   "source": []
  }
 ],
 "metadata": {
  "kernelspec": {
   "display_name": "Python 3 (ipykernel)",
   "language": "python",
   "name": "python3"
  },
  "language_info": {
   "codemirror_mode": {
    "name": "ipython",
    "version": 3
   },
   "file_extension": ".py",
   "mimetype": "text/x-python",
   "name": "python",
   "nbconvert_exporter": "python",
   "pygments_lexer": "ipython3",
   "version": "3.7.11"
  }
 },
 "nbformat": 4,
 "nbformat_minor": 4
}
