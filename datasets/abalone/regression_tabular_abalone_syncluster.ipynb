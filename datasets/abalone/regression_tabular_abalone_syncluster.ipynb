{
 "cells": [
  {
   "cell_type": "markdown",
   "metadata": {},
   "source": [
    "# Running a Federated Cycle with Synergos\n",
    "\n",
    "This tutorial aims to give you an understanding of how to use the synergos package to run a full federated learning cycle. \n",
    "\n",
    "In a federated learning system, there are many contributory participants, known as Worker nodes, which receive a global model to train on, with their own local dataset. The dataset does not leave the individual Worker nodes at any point, and remains private to the node.\n",
    "\n",
    "The job to synchronize, orchestrate and initiate an federated learning cycle, falls on a Trusted Third Party (TTP). The TTP pushes out the global model architecture and parameters for the individual nodes to train on, calling upon the required data, based on tags, e.g \"training\", which points to relevant data on the individual nodes. At no point does the TTP receive, copy or access the Worker nodes' local datasets.\n",
    "\n",
    "In this tutorial, you will go through the steps required by each participant (TTP and Worker), by simulating each of them locally with docker containers. Specifically, we will simulate a TTP and 2 Workers. \n",
    "\n",
    "At the end of this, we will have:\n",
    "- Connected the participants\n",
    "- Trained the model\n",
    "- Evaluate the model\n",
    "\n",
    "## About the Dataset and Task\n",
    "\n",
    "The dataset used in this notebook is on abalone age tabular data, comprising 8 predictor features, and 1 target feature. The dataset is available in the same directory as this notebook. Within the dataset directory, `data1` is for Worker 1 and `data2` is for Worker 2. The task to be carried out will be regression.\n",
    "\n",
    "The dataset we have provided is a processed subset of the [original Abalone dataset](https://archive.ics.uci.edu/ml/datasets/Abalone).\n",
    "\n",
    "**Reference:**\n",
    "- *Dua, D. and Graff, C. (2019). UCI Machine Learning Repository [http://archive.ics.uci.edu/ml]. Irvine, CA: University of California, School of Information and Computer Science.*"
   ]
  },
  {
   "cell_type": "markdown",
   "metadata": {},
   "source": [
    "## Initiating the docker containers"
   ]
  },
  {
   "cell_type": "markdown",
   "metadata": {},
   "source": [
    "Before we begin, we have to start the docker containers.\n",
    "\n",
    "Firstly, pull the required docker images with the following commands:\n",
    "1. Synergos TTP (Basic):\n",
    "\n",
    "`docker pull synergos_ttp:v0.1.0`\n",
    "\n",
    "2. Synergos Worker:\n",
    "\n",
    "`docker pull synergos_worker:v0.1.0`\n",
    "\n",
    "Next, in <u>separate</u> CLI terminals, run the following command:\n",
    "\n",
    "**Note: For Windows users, it is advisable to use powershell or command prompt based interfaces**\n",
    "\n",
    "**Worker 1**\n",
    "\n",
    "```docker run -v <directory abalone/data1>:/worker/data -v <directory abalone/outputs_1>:/worker/outputs --name worker_1 synergos_worker:v0.1.0 --id worker_1 --logging_variant basic```\n",
    "\n",
    "**Worker 2**\n",
    "\n",
    "```docker run -v <directory abalone/data2>:/worker/data -v <directory abalone/outputs_2>:/worker/outputs --name worker_2 synergos_worker:v0.1.0 --id worker_2 --logging_variant basic```\n",
    "\n",
    "**TTP**\n",
    "\n",
    "```docker run -p 0.0.0.0:5000:5000 -p 5678:5678 -p 8020:8020 -p 8080:8080 -v <directory abalone/mlflow_test>:/ttp/mlflow -v <directory abalone/ttp_data>:/ttp/data --name ttp --link worker_1 --link worker_2 synergos_ttp:v0.1.0 --id ttp --logging_variant basic -c```\n"
   ]
  },
  {
   "cell_type": "markdown",
   "metadata": {},
   "source": [
    "Once ready, for each terminal, you should see that a Flask app is running on http://0.0.0.0:5000 of the container.\n",
    "\n",
    "You are now ready for the next step."
   ]
  },
  {
   "cell_type": "markdown",
   "metadata": {},
   "source": [
    "## Configuration\n",
    "\n",
    "In a new terminal, run `docker inspect bridge` and find the IPv4Address for each container. Ideally, the containers should have the following addresses:\n",
    "- worker_1 address: 172.17.0.2\n",
    "- worker_2 address: 172.17.0.3\n",
    "- ttp address: 172.17.0.4\n",
    "\n",
    "If not, just note the relevant IP addresses for each docker container.\n",
    "\n",
    "Run the following cells below.\n",
    "\n",
    "**Note: For Windows users, `host` should be Docker Desktop VM's IP. Follow [this](https://stackoverflow.com/questions/58073936/how-to-get-ip-address-of-docker-desktop-vm) on instructions to find IP**"
   ]
  },
  {
   "cell_type": "code",
   "execution_count": 1,
   "metadata": {},
   "outputs": [],
   "source": [
    "import time\n",
    "from synergos import Driver\n",
    "\n",
    "host = \"172.20.0.2\"\n",
    "port = 5000\n",
    "\n",
    "# Initiate Driver\n",
    "driver = Driver(host=host, port=port)"
   ]
  },
  {
   "cell_type": "markdown",
   "metadata": {},
   "source": [
    "## Phase 1: Registration\n",
    "\n",
    "Submitting TTP & Participant metadata"
   ]
  },
  {
   "cell_type": "markdown",
   "metadata": {},
   "source": [
    "#### 1A. Orchestrator creates a collaboration"
   ]
  },
  {
   "cell_type": "code",
   "execution_count": 2,
   "metadata": {},
   "outputs": [
    {
     "data": {
      "text/plain": [
       "{'data': {'doc_id': '1',\n",
       "  'kind': 'Collaboration',\n",
       "  'key': {'collab_id': 'abalone_syncluster_collaboration'},\n",
       "  'relations': {'Project': [],\n",
       "   'Experiment': [],\n",
       "   'Run': [],\n",
       "   'Registration': [],\n",
       "   'Tag': [],\n",
       "   'Model': [],\n",
       "   'Validation': [],\n",
       "   'Prediction': []},\n",
       "  'logs': {'host': '172.20.0.14',\n",
       "   'ports': {'sysmetrics': 9100,\n",
       "    'director': 9200,\n",
       "    'ttp': 9300,\n",
       "    'worker': 9400,\n",
       "    'main': 9000,\n",
       "    'ui': 9000},\n",
       "   'secure': False},\n",
       "  'mlops': {'host': '172.20.0.15',\n",
       "   'ports': {'main': 5500, 'ui': 5500},\n",
       "   'secure': False},\n",
       "  'mq': {'host': '172.20.0.16',\n",
       "   'ports': {'main': 5672, 'ui': 15672},\n",
       "   'secure': False}},\n",
       " 'apiVersion': '0.1.0',\n",
       " 'success': 1,\n",
       " 'status': 201,\n",
       " 'method': 'collaborations.post',\n",
       " 'params': {}}"
      ]
     },
     "execution_count": 2,
     "metadata": {},
     "output_type": "execute_result"
    }
   ],
   "source": [
    "collab_task = driver.collaborations\n",
    "\n",
    "collab_task.configure_logger(\n",
    "    host=\"172.20.0.14\", \n",
    "    port=9000, \n",
    "    sysmetrics_port=9100, \n",
    "    director_port=9200, \n",
    "    ttp_port=9300, \n",
    "    worker_port=9400, \n",
    "    ui_port=9000, \n",
    "    secure=False\n",
    ")\n",
    "\n",
    "collab_task.configure_mlops( \n",
    "    host=\"172.20.0.15\", \n",
    "    port=5500, \n",
    "    ui_port=5500, \n",
    "    secure=False\n",
    ")\n",
    "\n",
    "collab_task.configure_mq( \n",
    "    host=\"172.20.0.16\", \n",
    "    port=5672, \n",
    "    ui_port=15672, \n",
    "    secure=False\n",
    ")\n",
    "\n",
    "collab_task.create('abalone_syncluster_collaboration')"
   ]
  },
  {
   "cell_type": "markdown",
   "metadata": {},
   "source": [
    "#### 1B. Orchestrator creates a project"
   ]
  },
  {
   "cell_type": "code",
   "execution_count": 3,
   "metadata": {},
   "outputs": [
    {
     "data": {
      "text/plain": [
       "{'data': {'doc_id': '1',\n",
       "  'kind': 'Project',\n",
       "  'key': {'collab_id': 'abalone_syncluster_collaboration',\n",
       "   'project_id': 'abalone_syncluster_project'},\n",
       "  'relations': {'Experiment': [],\n",
       "   'Run': [],\n",
       "   'Registration': [],\n",
       "   'Tag': [],\n",
       "   'Model': [],\n",
       "   'Validation': [],\n",
       "   'Prediction': []},\n",
       "  'action': 'regress',\n",
       "  'incentives': {'tier_2': [], 'tier_1': []}},\n",
       " 'apiVersion': '0.1.0',\n",
       " 'success': 1,\n",
       " 'status': 201,\n",
       " 'method': 'projects.post',\n",
       " 'params': {'collab_id': 'abalone_syncluster_collaboration'}}"
      ]
     },
     "execution_count": 3,
     "metadata": {},
     "output_type": "execute_result"
    }
   ],
   "source": [
    "driver.projects.create(\n",
    "    collab_id=\"abalone_syncluster_collaboration\",\n",
    "    project_id=\"abalone_syncluster_project\",\n",
    "    action=\"regress\",\n",
    "    incentives={\n",
    "        'tier_1': [],\n",
    "        'tier_2': [],\n",
    "    }\n",
    ")"
   ]
  },
  {
   "cell_type": "markdown",
   "metadata": {},
   "source": [
    "#### 1C. Orchestrator creates an experiment"
   ]
  },
  {
   "cell_type": "code",
   "execution_count": 4,
   "metadata": {},
   "outputs": [
    {
     "data": {
      "text/plain": [
       "{'apiVersion': '0.1.0',\n",
       " 'success': 1,\n",
       " 'status': 201,\n",
       " 'method': 'experiments.post',\n",
       " 'params': {'collab_id': 'abalone_syncluster_collaboration',\n",
       "  'project_id': 'abalone_syncluster_project'},\n",
       " 'data': {'created_at': '2021-09-09 00:24:07 N',\n",
       "  'key': {'collab_id': 'abalone_syncluster_collaboration',\n",
       "   'expt_id': 'abalone_syncluster_experiment',\n",
       "   'project_id': 'abalone_syncluster_project'},\n",
       "  'model': [{'activation': '',\n",
       "    'is_input': True,\n",
       "    'l_type': 'Linear',\n",
       "    'structure': {'bias': True, 'in_features': 28, 'out_features': 1}}],\n",
       "  'relations': {'Run': [], 'Model': [], 'Validation': [], 'Prediction': []},\n",
       "  'doc_id': 1,\n",
       "  'kind': 'Experiment'}}"
      ]
     },
     "execution_count": 4,
     "metadata": {},
     "output_type": "execute_result"
    }
   ],
   "source": [
    "driver.experiments.create(\n",
    "    collab_id=\"abalone_syncluster_collaboration\",\n",
    "    project_id=\"abalone_syncluster_project\",\n",
    "    expt_id=\"abalone_syncluster_experiment\",\n",
    "    model=[\n",
    "        {\n",
    "            \"activation\": \"\",\n",
    "            \"is_input\": True,\n",
    "            \"l_type\": \"Linear\",\n",
    "            \"structure\": {\n",
    "                \"bias\": True,\n",
    "                \"in_features\": 28,\n",
    "                \"out_features\": 1\n",
    "            }\n",
    "        }\n",
    "    ]\n",
    ")"
   ]
  },
  {
   "cell_type": "markdown",
   "metadata": {},
   "source": [
    "#### 1D. Orchestrator creates a run"
   ]
  },
  {
   "cell_type": "code",
   "execution_count": 5,
   "metadata": {},
   "outputs": [
    {
     "data": {
      "text/plain": [
       "{'data': {'doc_id': '1',\n",
       "  'kind': 'Run',\n",
       "  'key': {'collab_id': 'abalone_syncluster_collaboration',\n",
       "   'project_id': 'abalone_syncluster_project',\n",
       "   'expt_id': 'abalone_syncluster_experiment',\n",
       "   'run_id': 'abalone_syncluster_run'},\n",
       "  'relations': {'Model': [], 'Validation': [], 'Prediction': []},\n",
       "  'rounds': 2,\n",
       "  'epochs': 1,\n",
       "  'lr': 0.001,\n",
       "  'lr_decay': 0.1,\n",
       "  'weight_decay': 0.0,\n",
       "  'seed': 42,\n",
       "  'precision_fractional': 5,\n",
       "  'mu': 0.1,\n",
       "  'l1_lambda': 0.0,\n",
       "  'l2_lambda': 0.0,\n",
       "  'base_lr': 0.0005,\n",
       "  'max_lr': 0.005,\n",
       "  'patience': 10,\n",
       "  'delta': 0.0},\n",
       " 'apiVersion': '0.1.0',\n",
       " 'success': 1,\n",
       " 'status': 201,\n",
       " 'method': 'runs.post',\n",
       " 'params': {'collab_id': 'abalone_syncluster_collaboration',\n",
       "  'project_id': 'abalone_syncluster_project',\n",
       "  'expt_id': 'abalone_syncluster_experiment'}}"
      ]
     },
     "execution_count": 5,
     "metadata": {},
     "output_type": "execute_result"
    }
   ],
   "source": [
    "driver.runs.create(\n",
    "    collab_id=\"abalone_syncluster_collaboration\",\n",
    "    project_id=\"abalone_syncluster_project\",\n",
    "    expt_id=\"abalone_syncluster_experiment\",\n",
    "    run_id=\"abalone_syncluster_run\",\n",
    "    rounds=2, \n",
    "    epochs=1,\n",
    "    base_lr=0.0005,\n",
    "    max_lr=0.005,\n",
    "    criterion=\"MSELoss\"\n",
    ")"
   ]
  },
  {
   "cell_type": "markdown",
   "metadata": {},
   "source": [
    "#### 1E. Participants registers their servers' configurations and roles"
   ]
  },
  {
   "cell_type": "code",
   "execution_count": 6,
   "metadata": {},
   "outputs": [
    {
     "data": {
      "text/plain": [
       "{'data': {'doc_id': '1',\n",
       "  'kind': 'Participant',\n",
       "  'key': {'participant_id': 'worker_1'},\n",
       "  'relations': {'Registration': [], 'Tag': []},\n",
       "  'id': 'worker_1'},\n",
       " 'apiVersion': '0.1.0',\n",
       " 'success': 1,\n",
       " 'status': 201,\n",
       " 'method': 'participants.post',\n",
       " 'params': {}}"
      ]
     },
     "metadata": {},
     "output_type": "display_data"
    },
    {
     "data": {
      "text/plain": [
       "{'data': {'doc_id': '2',\n",
       "  'kind': 'Participant',\n",
       "  'key': {'participant_id': 'worker_2'},\n",
       "  'relations': {'Registration': [], 'Tag': []},\n",
       "  'id': 'worker_2'},\n",
       " 'apiVersion': '0.1.0',\n",
       " 'success': 1,\n",
       " 'status': 201,\n",
       " 'method': 'participants.post',\n",
       " 'params': {}}"
      ]
     },
     "metadata": {},
     "output_type": "display_data"
    }
   ],
   "source": [
    "participant_resp_1 = driver.participants.create(\n",
    "    participant_id=\"worker_1\",\n",
    ")\n",
    "\n",
    "display(participant_resp_1)\n",
    "\n",
    "participant_resp_2 = driver.participants.create(\n",
    "    participant_id=\"worker_2\",\n",
    ")\n",
    "\n",
    "display(participant_resp_2)"
   ]
  },
  {
   "cell_type": "code",
   "execution_count": 7,
   "metadata": {},
   "outputs": [
    {
     "data": {
      "text/plain": [
       "{'data': {'doc_id': '1',\n",
       "  'kind': 'Registration',\n",
       "  'key': {'collab_id': 'abalone_syncluster_collaboration',\n",
       "   'project_id': 'abalone_syncluster_project',\n",
       "   'participant_id': 'worker_1'},\n",
       "  'relations': {'Tag': []},\n",
       "  'collaboration': {'catalogue': {},\n",
       "   'logs': {'host': '172.20.0.14',\n",
       "    'ports': {'sysmetrics': 9100,\n",
       "     'director': 9200,\n",
       "     'ttp': 9300,\n",
       "     'worker': 9400,\n",
       "     'main': 9000,\n",
       "     'ui': 9000},\n",
       "    'secure': False},\n",
       "   'meter': {},\n",
       "   'mlops': {'host': '172.20.0.15',\n",
       "    'ports': {'main': 5500, 'ui': 5500},\n",
       "    'secure': False},\n",
       "   'mq': {'host': '172.20.0.16',\n",
       "    'ports': {'main': 5672, 'ui': 15672},\n",
       "    'secure': False}},\n",
       "  'project': {'action': 'regress',\n",
       "   'incentives': {'tier_2': [], 'tier_1': []},\n",
       "   'start_at': None},\n",
       "  'participant': {'id': 'worker_1',\n",
       "   'category': [],\n",
       "   'summary': None,\n",
       "   'phone': None,\n",
       "   'email': None,\n",
       "   'socials': {}},\n",
       "  'role': 'host',\n",
       "  'n_count': 2,\n",
       "  'node_1': {'host': '172.20.0.7',\n",
       "   'port': 8020,\n",
       "   'log_msgs': True,\n",
       "   'verbose': True,\n",
       "   'f_port': 5000},\n",
       "  'node_0': {'host': '172.20.0.4',\n",
       "   'port': 8020,\n",
       "   'log_msgs': True,\n",
       "   'verbose': True,\n",
       "   'f_port': 5000}},\n",
       " 'apiVersion': '0.1.0',\n",
       " 'success': 1,\n",
       " 'status': 201,\n",
       " 'method': 'registration.post',\n",
       " 'params': {'collab_id': 'abalone_syncluster_collaboration',\n",
       "  'project_id': 'abalone_syncluster_project',\n",
       "  'participant_id': 'worker_1'}}"
      ]
     },
     "execution_count": 7,
     "metadata": {},
     "output_type": "execute_result"
    }
   ],
   "source": [
    "registration_task = driver.registrations\n",
    "\n",
    "# Add and register worker_1 node\n",
    "registration_task.add_node(\n",
    "    host='172.20.0.4',\n",
    "    port=8020,\n",
    "    f_port=5000,\n",
    "    log_msgs=True,\n",
    "    verbose=True\n",
    ")\n",
    "\n",
    "registration_task.add_node(\n",
    "    host='172.20.0.7',\n",
    "    port=8020,\n",
    "    f_port=5000,\n",
    "    log_msgs=True,\n",
    "    verbose=True\n",
    ")\n",
    "\n",
    "registration_task.create(\n",
    "    collab_id=\"abalone_syncluster_collaboration\",\n",
    "    project_id=\"abalone_syncluster_project\",\n",
    "    participant_id=\"worker_1\",\n",
    "    role=\"host\"\n",
    ")"
   ]
  },
  {
   "cell_type": "code",
   "execution_count": 8,
   "metadata": {},
   "outputs": [
    {
     "data": {
      "text/plain": [
       "{'data': {'doc_id': '2',\n",
       "  'kind': 'Registration',\n",
       "  'key': {'collab_id': 'abalone_syncluster_collaboration',\n",
       "   'project_id': 'abalone_syncluster_project',\n",
       "   'participant_id': 'worker_2'},\n",
       "  'relations': {'Tag': []},\n",
       "  'collaboration': {'catalogue': {},\n",
       "   'logs': {'host': '172.20.0.14',\n",
       "    'ports': {'sysmetrics': 9100,\n",
       "     'director': 9200,\n",
       "     'ttp': 9300,\n",
       "     'worker': 9400,\n",
       "     'main': 9000,\n",
       "     'ui': 9000},\n",
       "    'secure': False},\n",
       "   'meter': {},\n",
       "   'mlops': {'host': '172.20.0.15',\n",
       "    'ports': {'main': 5500, 'ui': 5500},\n",
       "    'secure': False},\n",
       "   'mq': {'host': '172.20.0.16',\n",
       "    'ports': {'main': 5672, 'ui': 15672},\n",
       "    'secure': False}},\n",
       "  'project': {'action': 'regress',\n",
       "   'incentives': {'tier_2': [], 'tier_1': []},\n",
       "   'start_at': None},\n",
       "  'participant': {'id': 'worker_2',\n",
       "   'category': [],\n",
       "   'summary': None,\n",
       "   'phone': None,\n",
       "   'email': None,\n",
       "   'socials': {}},\n",
       "  'role': 'guest',\n",
       "  'n_count': 2,\n",
       "  'node_1': {'host': '172.20.0.8',\n",
       "   'port': 8020,\n",
       "   'log_msgs': True,\n",
       "   'verbose': True,\n",
       "   'f_port': 5000},\n",
       "  'node_0': {'host': '172.20.0.5',\n",
       "   'port': 8020,\n",
       "   'log_msgs': True,\n",
       "   'verbose': True,\n",
       "   'f_port': 5000}},\n",
       " 'apiVersion': '0.1.0',\n",
       " 'success': 1,\n",
       " 'status': 201,\n",
       " 'method': 'registration.post',\n",
       " 'params': {'collab_id': 'abalone_syncluster_collaboration',\n",
       "  'project_id': 'abalone_syncluster_project',\n",
       "  'participant_id': 'worker_2'}}"
      ]
     },
     "execution_count": 8,
     "metadata": {},
     "output_type": "execute_result"
    }
   ],
   "source": [
    "registration_task = driver.registrations\n",
    "\n",
    "# Add and register worker_2 node\n",
    "registration_task.add_node(\n",
    "    host='172.20.0.5',\n",
    "    port=8020,\n",
    "    f_port=5000,\n",
    "    log_msgs=True,\n",
    "    verbose=True\n",
    ")\n",
    "\n",
    "registration_task.add_node(\n",
    "    host='172.20.0.8',\n",
    "    port=8020,\n",
    "    f_port=5000,\n",
    "    log_msgs=True,\n",
    "    verbose=True\n",
    ")\n",
    "\n",
    "registration_task.create(\n",
    "    collab_id=\"abalone_syncluster_collaboration\",\n",
    "    project_id=\"abalone_syncluster_project\",\n",
    "    participant_id=\"worker_2\",\n",
    "    role=\"guest\"\n",
    ")"
   ]
  },
  {
   "cell_type": "markdown",
   "metadata": {},
   "source": [
    "#### 1F. Participants registers their tags for a specific project"
   ]
  },
  {
   "cell_type": "code",
   "execution_count": 9,
   "metadata": {},
   "outputs": [
    {
     "data": {
      "text/plain": [
       "{'data': {'doc_id': '1',\n",
       "  'kind': 'Tag',\n",
       "  'key': {'collab_id': 'abalone_syncluster_collaboration',\n",
       "   'project_id': 'abalone_syncluster_project',\n",
       "   'participant_id': 'worker_1'},\n",
       "  'train': [['abalone', 'dataset', 'data1', 'train']],\n",
       "  'evaluate': [['abalone', 'dataset', 'data1', 'evaluate']],\n",
       "  'predict': []},\n",
       " 'apiVersion': '0.1.0',\n",
       " 'success': 1,\n",
       " 'status': 201,\n",
       " 'method': 'tag.post',\n",
       " 'params': {'collab_id': 'abalone_syncluster_collaboration',\n",
       "  'project_id': 'abalone_syncluster_project',\n",
       "  'participant_id': 'worker_1'}}"
      ]
     },
     "execution_count": 9,
     "metadata": {},
     "output_type": "execute_result"
    }
   ],
   "source": [
    "# Worker 1 declares their data tags\n",
    "driver.tags.create(\n",
    "    collab_id=\"abalone_syncluster_collaboration\",\n",
    "    project_id=\"abalone_syncluster_project\",\n",
    "    participant_id=\"worker_1\",\n",
    "    train=[[\"abalone\", \"dataset\", \"data1\", \"train\"]],\n",
    "    evaluate=[[\"abalone\", \"dataset\", \"data1\", \"evaluate\"]]\n",
    ")"
   ]
  },
  {
   "cell_type": "code",
   "execution_count": 10,
   "metadata": {},
   "outputs": [
    {
     "data": {
      "text/plain": [
       "{'data': {'doc_id': '2',\n",
       "  'kind': 'Tag',\n",
       "  'key': {'collab_id': 'abalone_syncluster_collaboration',\n",
       "   'project_id': 'abalone_syncluster_project',\n",
       "   'participant_id': 'worker_2'},\n",
       "  'train': [['abalone', 'dataset', 'data2', 'train']],\n",
       "  'evaluate': [['abalone', 'dataset', 'data2', 'evaluate']],\n",
       "  'predict': []},\n",
       " 'apiVersion': '0.1.0',\n",
       " 'success': 1,\n",
       " 'status': 201,\n",
       " 'method': 'tag.post',\n",
       " 'params': {'collab_id': 'abalone_syncluster_collaboration',\n",
       "  'project_id': 'abalone_syncluster_project',\n",
       "  'participant_id': 'worker_2'}}"
      ]
     },
     "execution_count": 10,
     "metadata": {},
     "output_type": "execute_result"
    }
   ],
   "source": [
    "# Worker 2 declares their data tags\n",
    "driver.tags.create(\n",
    "    collab_id=\"abalone_syncluster_collaboration\",\n",
    "    project_id=\"abalone_syncluster_project\",\n",
    "    participant_id=\"worker_2\",\n",
    "    train=[[\"abalone\", \"dataset\", \"data2\", \"train\"]],\n",
    "    evaluate=[[\"abalone\", \"dataset\", \"data2\", \"evaluate\"]]\n",
    ")"
   ]
  },
  {
   "cell_type": "code",
   "execution_count": 11,
   "metadata": {},
   "outputs": [
    {
     "ename": "SyntaxError",
     "evalue": "invalid syntax (3319058519.py, line 1)",
     "output_type": "error",
     "traceback": [
      "\u001b[0;36m  File \u001b[0;32m\"/tmp/ipykernel_14445/3319058519.py\"\u001b[0;36m, line \u001b[0;32m1\u001b[0m\n\u001b[0;31m    stop!\u001b[0m\n\u001b[0m        ^\u001b[0m\n\u001b[0;31mSyntaxError\u001b[0m\u001b[0;31m:\u001b[0m invalid syntax\n"
     ]
    }
   ],
   "source": [
    "stop!"
   ]
  },
  {
   "cell_type": "markdown",
   "metadata": {},
   "source": [
    "## Phase 2: \n",
    "Alignment, Training & Optimisation"
   ]
  },
  {
   "cell_type": "markdown",
   "metadata": {},
   "source": [
    "#### 2A. Perform multiple feature alignment to dynamically configure datasets and models for cross-grid compatibility"
   ]
  },
  {
   "cell_type": "code",
   "execution_count": 12,
   "metadata": {
    "scrolled": false
   },
   "outputs": [
    {
     "data": {
      "text/plain": [
       "{'data': [],\n",
       " 'apiVersion': '0.1.0',\n",
       " 'success': 1,\n",
       " 'status': 201,\n",
       " 'method': 'alignments.post',\n",
       " 'params': {'collab_id': 'abalone_syncluster_collaboration',\n",
       "  'project_id': 'abalone_syncluster_project'}}"
      ]
     },
     "execution_count": 12,
     "metadata": {},
     "output_type": "execute_result"
    }
   ],
   "source": [
    "driver.alignments.create(\n",
    "    collab_id='abalone_syncluster_collaboration',\n",
    "    project_id=\"abalone_syncluster_project\",\n",
    "    verbose=False,\n",
    "    log_msg=False\n",
    ")"
   ]
  },
  {
   "cell_type": "code",
   "execution_count": 13,
   "metadata": {},
   "outputs": [
    {
     "data": {
      "text/plain": [
       "{'data': [{'doc_id': '1',\n",
       "   'kind': 'Alignment',\n",
       "   'key': {'collab_id': 'abalone_syncluster_collaboration',\n",
       "    'project_id': 'abalone_syncluster_project',\n",
       "    'participant_id': 'worker_1'},\n",
       "   'train': {'X': [], 'y': []},\n",
       "   'evaluate': {'X': [], 'y': []},\n",
       "   'predict': {'X': [], 'y': []}},\n",
       "  {'doc_id': '2',\n",
       "   'kind': 'Alignment',\n",
       "   'key': {'collab_id': 'abalone_syncluster_collaboration',\n",
       "    'project_id': 'abalone_syncluster_project',\n",
       "    'participant_id': 'worker_2'},\n",
       "   'train': {'X': [], 'y': []},\n",
       "   'evaluate': {'X': [], 'y': []},\n",
       "   'predict': {'X': [], 'y': []}}],\n",
       " 'apiVersion': '0.1.0',\n",
       " 'success': 1,\n",
       " 'status': 200,\n",
       " 'method': 'alignments.get',\n",
       " 'params': {'collab_id': 'abalone_syncluster_collaboration',\n",
       "  'project_id': 'abalone_syncluster_project'}}"
      ]
     },
     "metadata": {},
     "output_type": "display_data"
    }
   ],
   "source": [
    "# Important! MUST wait for alignment process to first complete before proceeding on\n",
    "while True:\n",
    "    \n",
    "    align_resp = driver.alignments.read(\n",
    "        collab_id='abalone_syncluster_collaboration',\n",
    "        project_id=\"abalone_syncluster_project\"\n",
    "    )\n",
    "    \n",
    "    align_data = align_resp.get('data')\n",
    "    if align_data:\n",
    "        display(align_resp)\n",
    "        break\n",
    "        \n",
    "    time.sleep(5)"
   ]
  },
  {
   "cell_type": "markdown",
   "metadata": {},
   "source": [
    "#### 2B. Trigger training across the federated grid"
   ]
  },
  {
   "cell_type": "code",
   "execution_count": 14,
   "metadata": {},
   "outputs": [
    {
     "data": {
      "text/plain": [
       "{'data': [],\n",
       " 'apiVersion': '0.1.0',\n",
       " 'success': 1,\n",
       " 'status': 200,\n",
       " 'method': 'models.post',\n",
       " 'params': {'collab_id': 'abalone_syncluster_collaboration',\n",
       "  'project_id': 'abalone_syncluster_project',\n",
       "  'expt_id': 'abalone_syncluster_experiment',\n",
       "  'run_id': 'abalone_syncluster_run'}}"
      ]
     },
     "metadata": {},
     "output_type": "display_data"
    }
   ],
   "source": [
    "model_resp = driver.models.create(\n",
    "    collab_id=\"abalone_syncluster_collaboration\",\n",
    "    project_id=\"abalone_syncluster_project\",\n",
    "    expt_id=\"abalone_syncluster_experiment\",\n",
    "    run_id=\"abalone_syncluster_run\",\n",
    "    log_msg=False,\n",
    "    verbose=False\n",
    ")\n",
    "display(model_resp)"
   ]
  },
  {
   "cell_type": "code",
   "execution_count": 15,
   "metadata": {},
   "outputs": [
    {
     "data": {
      "text/plain": [
       "[{'doc_id': '1',\n",
       "  'kind': 'Model',\n",
       "  'key': {'project_id': 'abalone_syncluster_project',\n",
       "   'expt_id': 'abalone_syncluster_experiment',\n",
       "   'run_id': 'abalone_syncluster_run'},\n",
       "  'global': {'origin': 'ttp',\n",
       "   'path': '/orchestrator/outputs/abalone_syncluster_collaboration/abalone_syncluster_project/abalone_syncluster_experiment/abalone_syncluster_run/global_model.pt',\n",
       "   'loss_history': '/orchestrator/outputs/abalone_syncluster_collaboration/abalone_syncluster_project/abalone_syncluster_experiment/abalone_syncluster_run/global_loss_history.json'},\n",
       "  'local_2': {'origin': 'worker_2',\n",
       "   'path': '/orchestrator/outputs/abalone_syncluster_collaboration/abalone_syncluster_project/abalone_syncluster_experiment/abalone_syncluster_run/local_model_worker_2.pt',\n",
       "   'loss_history': '/orchestrator/outputs/abalone_syncluster_collaboration/abalone_syncluster_project/abalone_syncluster_experiment/abalone_syncluster_run/local_loss_history_worker_2.json'},\n",
       "  'local_1': {'origin': 'worker_1',\n",
       "   'path': '/orchestrator/outputs/abalone_syncluster_collaboration/abalone_syncluster_project/abalone_syncluster_experiment/abalone_syncluster_run/local_model_worker_1.pt',\n",
       "   'loss_history': '/orchestrator/outputs/abalone_syncluster_collaboration/abalone_syncluster_project/abalone_syncluster_experiment/abalone_syncluster_run/local_loss_history_worker_1.json'}}]"
      ]
     },
     "metadata": {},
     "output_type": "display_data"
    }
   ],
   "source": [
    "# Important! MUST wait for training process to first complete before proceeding on\n",
    "while True:\n",
    "    \n",
    "    train_resp = driver.models.read(\n",
    "        collab_id=\"abalone_syncluster_collaboration\",\n",
    "        project_id=\"abalone_syncluster_project\",\n",
    "        expt_id=\"abalone_syncluster_experiment\",\n",
    "        run_id=\"abalone_syncluster_run\"\n",
    "    )\n",
    "    \n",
    "    train_data = train_resp.get('data')\n",
    "    if train_data:\n",
    "        display(train_data)\n",
    "        break\n",
    "        \n",
    "    time.sleep(5)"
   ]
  },
  {
   "cell_type": "markdown",
   "metadata": {},
   "source": [
    "#### 2C. Perform hyperparameter tuning once ideal model is found (experimental) "
   ]
  },
  {
   "cell_type": "code",
   "execution_count": 27,
   "metadata": {},
   "outputs": [
    {
     "data": {
      "text/plain": [
       "{'data': [{'doc_id': '2',\n",
       "   'kind': 'Optimization',\n",
       "   'key': {'participant_id': None,\n",
       "    'collab_id': 'abalone_syncluster_collaboration',\n",
       "    'project_id': 'abalone_syncluster_project',\n",
       "    'expt_id': 'abalone_syncluster_experiment',\n",
       "    'run_id': 'optim_run_65b4046b-e666-44e4-8b3f-134c016217b2'},\n",
       "   'evaluate': {'statistics': {}, 'res_path': None}},\n",
       "  {'doc_id': '3',\n",
       "   'kind': 'Optimization',\n",
       "   'key': {'participant_id': None,\n",
       "    'collab_id': 'abalone_syncluster_collaboration',\n",
       "    'project_id': 'abalone_syncluster_project',\n",
       "    'expt_id': 'abalone_syncluster_experiment',\n",
       "    'run_id': 'optim_run_5b518f6f-8a49-41d7-aa50-8f108505f2af'},\n",
       "   'evaluate': {'statistics': {}, 'res_path': None}},\n",
       "  {'doc_id': '4',\n",
       "   'kind': 'Optimization',\n",
       "   'key': {'participant_id': None,\n",
       "    'collab_id': 'abalone_syncluster_collaboration',\n",
       "    'project_id': 'abalone_syncluster_project',\n",
       "    'expt_id': 'abalone_syncluster_experiment',\n",
       "    'run_id': 'optim_run_1304202e-7bef-4530-81a7-a9fbb9f57bbe'},\n",
       "   'evaluate': {'statistics': {}, 'res_path': None}}],\n",
       " 'apiVersion': '0.1.0',\n",
       " 'success': 1,\n",
       " 'status': 200,\n",
       " 'method': 'optimizations.post',\n",
       " 'params': {'collab_id': 'abalone_syncluster_collaboration',\n",
       "  'project_id': 'abalone_syncluster_project',\n",
       "  'expt_id': 'abalone_syncluster_experiment'}}"
      ]
     },
     "execution_count": 27,
     "metadata": {},
     "output_type": "execute_result"
    }
   ],
   "source": [
    "optim_parameters = {\n",
    "    'search_space': {\n",
    "        \"rounds\": {\"_type\": \"choice\", \"_value\": [1, 2]},\n",
    "        \"epochs\": {\"_type\": \"choice\", \"_value\": [1, 2]},\n",
    "        \"batch_size\": {\"_type\": \"choice\", \"_value\": [450, 512]},\n",
    "        \"lr\": {\"_type\": \"choice\", \"_value\": [0.0001, 0.1]},\n",
    "        \"criterion\": {\"_type\": \"choice\", \"_value\": [\"MSELoss\"]},\n",
    "        \"mu\": {\"_type\": \"uniform\", \"_value\": [0.0, 1.0]},\n",
    "        \"base_lr\": {\"_type\": \"choice\", \"_value\": [0.00005]},\n",
    "        \"max_lr\": {\"_type\": \"choice\", \"_value\": [0.2]}\n",
    "    },\n",
    "    'backend': \"tune\",\n",
    "    'optimize_mode': \"max\",\n",
    "    'metric': \"accuracy\",\n",
    "    'trial_concurrency': 1,\n",
    "    'max_exec_duration': \"1h\",\n",
    "    'max_trial_num': 2,\n",
    "    'max_concurrent': 1,\n",
    "    'is_remote': True,\n",
    "    'use_annotation': True,\n",
    "    'auto_align': True,\n",
    "    'dockerised': True,\n",
    "    'verbose': True,\n",
    "    'log_msgs': True\n",
    "}\n",
    "driver.optimizations.create(\n",
    "    collab_id=\"abalone_syncluster_collaboration\",\n",
    "    project_id=\"abalone_syncluster_project\",\n",
    "    expt_id=\"abalone_syncluster_experiment\",\n",
    "    **optim_parameters\n",
    ")"
   ]
  },
  {
   "cell_type": "code",
   "execution_count": null,
   "metadata": {},
   "outputs": [],
   "source": [
    "driver.optimizations.read(\n",
    "    collab_id=\"abalone_syncluster_collaboration\",\n",
    "    project_id=\"abalone_syncluster_project\",\n",
    "    expt_id=\"abalone_syncluster_experiment\"\n",
    ")"
   ]
  },
  {
   "cell_type": "markdown",
   "metadata": {},
   "source": [
    "## Phase 3: EVALUATE \n",
    "Validation & Predictions"
   ]
  },
  {
   "cell_type": "markdown",
   "metadata": {},
   "source": [
    "#### 3A. Perform validation(s) of combination(s)"
   ]
  },
  {
   "cell_type": "code",
   "execution_count": 16,
   "metadata": {},
   "outputs": [
    {
     "data": {
      "text/plain": [
       "{'data': [],\n",
       " 'apiVersion': '0.1.0',\n",
       " 'success': 1,\n",
       " 'status': 200,\n",
       " 'method': 'validations.post',\n",
       " 'params': {'collab_id': 'abalone_syncluster_collaboration',\n",
       "  'project_id': 'abalone_syncluster_project',\n",
       "  'expt_id': 'abalone_syncluster_experiment',\n",
       "  'run_id': 'abalone_syncluster_run'}}"
      ]
     },
     "execution_count": 16,
     "metadata": {},
     "output_type": "execute_result"
    }
   ],
   "source": [
    "# Orchestrator performs post-mortem validation\n",
    "driver.validations.create(\n",
    "    collab_id=\"abalone_syncluster_collaboration\",\n",
    "    project_id=\"abalone_syncluster_project\",\n",
    "    expt_id=\"abalone_syncluster_experiment\",\n",
    "    run_id=\"abalone_syncluster_run\",\n",
    "    log_msg=False,\n",
    "    verbose=False\n",
    ")"
   ]
  },
  {
   "cell_type": "code",
   "execution_count": 17,
   "metadata": {},
   "outputs": [
    {
     "data": {
      "text/plain": [
       "{'data': [{'doc_id': '1',\n",
       "   'kind': 'Validation',\n",
       "   'key': {'participant_id': 'worker_1',\n",
       "    'collab_id': 'abalone_syncluster_collaboration',\n",
       "    'project_id': 'abalone_syncluster_project',\n",
       "    'expt_id': 'abalone_syncluster_experiment',\n",
       "    'run_id': 'abalone_syncluster_run'},\n",
       "   'evaluate': {'statistics': {'R2': -9.002734939882743,\n",
       "     'MSE': 109.81708253455135,\n",
       "     'MAE': 9.922444420020788},\n",
       "    'res_path': '/worker/outputs/abalone_syncluster_collaboration/abalone_syncluster_project/abalone_syncluster_experiment/abalone_syncluster_run/evaluate/inference_statistics_evaluate.json'}},\n",
       "  {'doc_id': '2',\n",
       "   'kind': 'Validation',\n",
       "   'key': {'participant_id': 'worker_2',\n",
       "    'collab_id': 'abalone_syncluster_collaboration',\n",
       "    'project_id': 'abalone_syncluster_project',\n",
       "    'expt_id': 'abalone_syncluster_experiment',\n",
       "    'run_id': 'abalone_syncluster_run'},\n",
       "   'evaluate': {'statistics': {'R2': -10.53848373977545,\n",
       "     'MSE': 108.82026506093375,\n",
       "     'MAE': 9.944248265248342},\n",
       "    'res_path': '/worker/outputs/abalone_syncluster_collaboration/abalone_syncluster_project/abalone_syncluster_experiment/abalone_syncluster_run/evaluate/inference_statistics_evaluate.json'}}],\n",
       " 'apiVersion': '0.1.0',\n",
       " 'success': 1,\n",
       " 'status': 200,\n",
       " 'method': 'validations.get',\n",
       " 'params': {'collab_id': 'abalone_syncluster_collaboration',\n",
       "  'project_id': 'abalone_syncluster_project',\n",
       "  'expt_id': 'abalone_syncluster_experiment',\n",
       "  'run_id': 'abalone_syncluster_run'}}"
      ]
     },
     "execution_count": 17,
     "metadata": {},
     "output_type": "execute_result"
    }
   ],
   "source": [
    "# Run this cell again after validation has completed to retrieve your validation statistics\n",
    "# NOTE: You do not need to wait for validation/prediction requests to complete to proceed\n",
    "driver.validations.read(\n",
    "    collab_id=\"abalone_syncluster_collaboration\",\n",
    "    project_id=\"abalone_syncluster_project\",\n",
    "    expt_id=\"abalone_syncluster_experiment\",\n",
    "    run_id=\"abalone_syncluster_run\",\n",
    ")"
   ]
  },
  {
   "cell_type": "markdown",
   "metadata": {},
   "source": [
    "#### 3B. Perform prediction(s) of combination(s)"
   ]
  },
  {
   "cell_type": "code",
   "execution_count": 21,
   "metadata": {},
   "outputs": [
    {
     "data": {
      "text/plain": [
       "{'data': [],\n",
       " 'apiVersion': '0.1.0',\n",
       " 'success': 1,\n",
       " 'status': 200,\n",
       " 'method': 'predictions.post',\n",
       " 'params': {'collab_id': 'abalone_syncluster_collaboration',\n",
       "  'project_id': 'abalone_syncluster_project',\n",
       "  'expt_id': 'abalone_syncluster_experiment',\n",
       "  'run_id': 'abalone_syncluster_run',\n",
       "  'participant_id': 'worker_1'}}"
      ]
     },
     "execution_count": 21,
     "metadata": {},
     "output_type": "execute_result"
    }
   ],
   "source": [
    "# Worker 1 requests for inferences\n",
    "driver.predictions.create(\n",
    "    tags={\"abalone_syncluster_project\": [[\"abalone\", \"dataset\", \"data1\", \"predict\"]]},\n",
    "    participant_id=\"worker_1\",\n",
    "    collab_id=\"abalone_syncluster_collaboration\",\n",
    "    project_id=\"abalone_syncluster_project\",\n",
    "    expt_id=\"abalone_syncluster_experiment\",\n",
    "    run_id=\"abalone_syncluster_run\",\n",
    "    log_msg=False,\n",
    "    verbose=False\n",
    ")"
   ]
  },
  {
   "cell_type": "code",
   "execution_count": 22,
   "metadata": {},
   "outputs": [
    {
     "data": {
      "text/plain": [
       "{'data': [{'doc_id': '1',\n",
       "   'kind': 'Prediction',\n",
       "   'key': {'participant_id': 'worker_1',\n",
       "    'project_id': 'abalone_syncluster_project',\n",
       "    'expt_id': 'abalone_syncluster_experiment',\n",
       "    'run_id': 'abalone_syncluster_run'},\n",
       "   'predict': {'statistics': {'R2': -9.350775235087886,\n",
       "     'MSE': 101.92041996300136,\n",
       "     'MAE': 9.575924953445792},\n",
       "    'res_path': '/worker/outputs/abalone_syncluster_collaboration/abalone_syncluster_project/abalone_syncluster_experiment/abalone_syncluster_run/predict/inference_statistics_predict.json'}}],\n",
       " 'apiVersion': '0.1.0',\n",
       " 'success': 1,\n",
       " 'status': 200,\n",
       " 'method': 'predictions.get',\n",
       " 'params': {'collab_id': 'abalone_syncluster_collaboration',\n",
       "  'project_id': 'abalone_syncluster_project',\n",
       "  'expt_id': 'abalone_syncluster_experiment',\n",
       "  'run_id': 'abalone_syncluster_run',\n",
       "  'participant_id': 'worker_1'}}"
      ]
     },
     "execution_count": 22,
     "metadata": {},
     "output_type": "execute_result"
    }
   ],
   "source": [
    "# Run this cell again after prediction has completed to retrieve your predictions for worker 1\n",
    "# NOTE: You do not need to wait for validation/prediction requests to complete to proceed\n",
    "driver.predictions.read(\n",
    "    participant_id=\"worker_1\",\n",
    "    collab_id=\"abalone_syncluster_collaboration\",\n",
    "    project_id=\"abalone_syncluster_project\",\n",
    "    expt_id=\"abalone_syncluster_experiment\",\n",
    "    run_id=\"abalone_syncluster_run\",\n",
    ")"
   ]
  },
  {
   "cell_type": "code",
   "execution_count": 23,
   "metadata": {},
   "outputs": [
    {
     "data": {
      "text/plain": [
       "{'data': [],\n",
       " 'apiVersion': '0.1.0',\n",
       " 'success': 1,\n",
       " 'status': 200,\n",
       " 'method': 'predictions.post',\n",
       " 'params': {'collab_id': 'abalone_syncluster_collaboration',\n",
       "  'project_id': 'abalone_syncluster_project',\n",
       "  'expt_id': 'abalone_syncluster_experiment',\n",
       "  'run_id': 'abalone_syncluster_run',\n",
       "  'participant_id': 'worker_2'}}"
      ]
     },
     "execution_count": 23,
     "metadata": {},
     "output_type": "execute_result"
    }
   ],
   "source": [
    "# Worker 2 requests for inferences\n",
    "driver.predictions.create(\n",
    "    tags={\"abalone_syncluster_project\": [[\"abalone\", \"dataset\", \"data2\", \"predict\"]]},\n",
    "    participant_id=\"worker_2\",\n",
    "    collab_id=\"abalone_syncluster_collaboration\",\n",
    "    project_id=\"abalone_syncluster_project\",\n",
    "    expt_id=\"abalone_syncluster_experiment\",\n",
    "    run_id=\"abalone_syncluster_run\",\n",
    "    log_msg=False,\n",
    "    verbose=False\n",
    ")"
   ]
  },
  {
   "cell_type": "code",
   "execution_count": 25,
   "metadata": {},
   "outputs": [
    {
     "data": {
      "text/plain": [
       "{'data': [{'doc_id': '2',\n",
       "   'kind': 'Prediction',\n",
       "   'key': {'participant_id': 'worker_2',\n",
       "    'project_id': 'abalone_syncluster_project',\n",
       "    'expt_id': 'abalone_syncluster_experiment',\n",
       "    'run_id': 'abalone_syncluster_run'},\n",
       "   'predict': {'statistics': {'R2': -10.388564775068998,\n",
       "     'MSE': 114.44112487280299,\n",
       "     'MAE': 10.191490769796074},\n",
       "    'res_path': '/worker/outputs/abalone_syncluster_collaboration/abalone_syncluster_project/abalone_syncluster_experiment/abalone_syncluster_run/predict/inference_statistics_predict.json'}}],\n",
       " 'apiVersion': '0.1.0',\n",
       " 'success': 1,\n",
       " 'status': 200,\n",
       " 'method': 'predictions.get',\n",
       " 'params': {'collab_id': 'abalone_syncluster_collaboration',\n",
       "  'project_id': 'abalone_syncluster_project',\n",
       "  'expt_id': 'abalone_syncluster_experiment',\n",
       "  'run_id': 'abalone_syncluster_run',\n",
       "  'participant_id': 'worker_2'}}"
      ]
     },
     "execution_count": 25,
     "metadata": {},
     "output_type": "execute_result"
    }
   ],
   "source": [
    "# Run this cell again after prediction has completed to retrieve your predictions for worker 2\n",
    "# NOTE: You do not need to wait for validation/prediction requests to complete to proceed\n",
    "driver.predictions.read(\n",
    "    participant_id=\"worker_2\",\n",
    "    collab_id=\"abalone_syncluster_collaboration\",\n",
    "    project_id=\"abalone_syncluster_project\",\n",
    "    expt_id=\"abalone_syncluster_experiment\",\n",
    "    run_id=\"abalone_syncluster_run\",\n",
    ")"
   ]
  },
  {
   "cell_type": "code",
   "execution_count": null,
   "metadata": {},
   "outputs": [],
   "source": []
  }
 ],
 "metadata": {
  "kernelspec": {
   "display_name": "Python 3 (ipykernel)",
   "language": "python",
   "name": "python3"
  },
  "language_info": {
   "codemirror_mode": {
    "name": "ipython",
    "version": 3
   },
   "file_extension": ".py",
   "mimetype": "text/x-python",
   "name": "python",
   "nbconvert_exporter": "python",
   "pygments_lexer": "ipython3",
   "version": "3.7.11"
  }
 },
 "nbformat": 4,
 "nbformat_minor": 4
}
