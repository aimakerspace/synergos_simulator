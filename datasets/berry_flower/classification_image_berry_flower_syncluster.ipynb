{
 "cells": [
  {
   "cell_type": "markdown",
   "metadata": {},
   "source": [
    "# Running a Federated Cycle with Synergos\n",
    "\n",
    "In a federated learning system, there are many contributory participants, known as Worker nodes, which receive a global model to train on, with their own local dataset. The dataset does not leave the individual Worker nodes at any point, and remains private to the node.\n",
    "\n",
    "The job to synchronize, orchestrate and initiate an federated learning cycle, falls on a Trusted Third Party (TTP). The TTP pushes out the global model architecture and parameters for the individual nodes to train on, calling upon the required data, based on tags, e.g \"training\", which points to relevant data on the individual nodes. At no point does the TTP receive, copy or access the Worker nodes' local datasets.\n",
    "\n",
    "![Simulated Synergos Cluster Grid](../../docs/images/syncluster_setup.png \"A simple Synergos Cluster setup\")\n",
    "\n",
    "This tutorial aims to give you an understanding of how to use the synergos package to run a full federated learning cycle on a `Synergos Cluster` grid. \n",
    "\n",
    "In a `Synergos Cluster` Grid, with the inclusion of a new director and queue component, you will be able to parallelize your jobs, where the number of concurrent jobs possible is equal to the number of sub-grids. This is done alongside all quality-of-life components supported in a `Synergos Plus` grid.\n",
    "\n",
    "In this tutorial, you will go through the steps required by each participant (TTP and Worker), by simulating each of them locally with docker containers. Specifically, we will simulate a Director and 2 sub-grids, each of which has a TTP and 2 Workers, allowing us to perform 2 concurrent federated operations at any time.\n",
    "\n",
    "At the end of this, we will have:\n",
    "- Connected the participants\n",
    "- Trained the model\n",
    "- Evaluate the model\n",
    "\n",
    "## About the Dataset and Task\n",
    "\n",
    "The dataset used in this notebook is on berry and flower images, comprising 2 classes, and all images are 28 x 28 pixels. The dataset is available in the same directory as this notebook. Within the dataset directory, `data1` is for Worker 1 and `data2` is for Worker 2. The task to be carried out will be a binary classification.\n",
    "\n",
    "The dataset we have provided is a processed subset of the [original Linnaeus 5 dataset](http://chaladze.com/l5/).\n",
    "\n",
    "**Reference:**\n",
    "- *DChaladze, G. Kalatozishvili L. 2017. Linnaeus 5 Dataset for Machine Learning*"
   ]
  },
  {
   "cell_type": "markdown",
   "metadata": {},
   "source": [
    "## Initiating the docker containers\n",
    "\n",
    "Before we begin, we have to start the docker containers."
   ]
  },
  {
   "cell_type": "markdown",
   "metadata": {},
   "source": [
    "### A. Initialization via `Synergos Simulator`\n",
    "\n",
    "In `Synergos Simulator`, a sandboxed environment has been created for you!\n",
    "\n",
    "By running:\n",
    "\n",
    "    `docker-compose -f docker-compose-syncluster.yml up --build`\n",
    "    \n",
    "the following components will be started:\n",
    "- Director\n",
    "- Sub-Grid 1\n",
    "  - TTP_1 (Cluster)\n",
    "  - Worker_1_n1\n",
    "  - Worker_2_n1\n",
    "- Sub-Grid 2\n",
    "  - TTP_2 (Cluster)\n",
    "  - Worker_1_n2\n",
    "  - Worker_2_n2\n",
    "- Synergos UI\n",
    "- Synergos Logger\n",
    "- Synergos MLOps\n",
    "- Synergos MQ\n",
    "\n",
    "Refer to [this](https://github.com/aimakerspace/synergos_simulator) for all the pre-allocated host & port mappings. "
   ]
  },
  {
   "cell_type": "markdown",
   "metadata": {},
   "source": [
    "### B. Manual Initialization\n",
    "\n",
    "Firstly, pull the required docker images with the following commands:\n",
    "\n",
    "1. Synergos Director:\n",
    "    \n",
    "    `docker pull gcr.io/synergos-aisg/synergos_director:v0.1.0`\n",
    "\n",
    "2. Synergos TTP (Cluster): \n",
    "\n",
    "    `docker pull gcr.io/synergos-aisg/synergos_ttp_cluster:v0.1.0`\n",
    "\n",
    "3. Synergos Worker: \n",
    "\n",
    "    `docker pull gcr.io/synergos-aisg/synergos_worker:v0.1.0`\n",
    "    \n",
    "4. Synergos MLOps:\n",
    "\n",
    "    `docker pull gcr.io/synergos-aisg/synergos_mlops:v0.1.0`\n",
    "    \n",
    "5. Synergos MQ:\n",
    "\n",
    "    `docker pull gcr.io/synergos-aisg/synergos_mq:v0.1.0`\n",
    "\n",
    "Next, in <u>separate</u> CLI terminals, run the following command(s):\n",
    "\n",
    "**Note: For Windows users, it is advisable to use powershell or command prompt based interfaces**\n",
    "\n",
    "#### Director\n",
    "\n",
    "```\n",
    "docker run --rm\n",
    "    -p 5000:5000 \n",
    "    -v <directory berry_flower/orchestrator_data>:/orchestrator/data\n",
    "    -v <directory berry_flower/orchestrator_outputs>:/orchestrator/outputs\n",
    "    -v <directory berry_flower/mlflow>:/mlflow\n",
    "    --name director \n",
    "    gcr.io/synergos-aisg/synergos_director:v0.1.0 \n",
    "        --id ttp \n",
    "        --logging_variant graylog <IP Synergos Logger> <TTP port>\n",
    "        --queue rabbitmq <IP Synergos Logger> <AMQP port>\n",
    "```\n",
    "\n",
    "#### Sub-Grid 1\n",
    "\n",
    "- **TTP_1**\n",
    "```\n",
    "docker run --rm\n",
    "    -p 6000:5000 \n",
    "    -p 9020:8020\n",
    "    -v <directory berry_flower/orchestrator_data>:/orchestrator/data\n",
    "    -v <directory berry_flower/orchestrator_outputs>:/orchestrator/outputs\n",
    "    --name ttp_1 \n",
    "    gcr.io/synergos-aisg/synergos_ttp_cluster:v0.1.0 \n",
    "        --id ttp \n",
    "        --logging_variant graylog <IP Synergos Logger> <TTP port>\n",
    "        --queue rabbitmq <IP Synergos Logger> <AMQP port>\n",
    "```\n",
    "\n",
    "- **WORKER_1 Node 1**\n",
    "```\n",
    "docker run --rm\n",
    "    -p 5001:5000 \n",
    "    -p 8021:8020\n",
    "    -v <directory berry_flower/data1>:/worker/data \n",
    "    -v <directory berry_flower/outputs_1>:/worker/outputs \n",
    "    --name worker_1_n1 \n",
    "    gcr.io/synergos-aisg/synergos_worker:v0.1.0 \n",
    "        --id worker_1_n1 \n",
    "        --logging_variant graylog <IP Synergos Logger> <Worker port>\n",
    "        --queue rabbitmq <IP Synergos Logger> <AMQP port>\n",
    "```\n",
    "\n",
    "- **WORKER_2 Node 1**\n",
    "```\n",
    "docker run --rm\n",
    "    -p 5002:5000 \n",
    "    -p 8022:8020\n",
    "    -v <directory berry_flower/data2>:/worker/data \n",
    "    -v <directory berry_flower/outputs_2>:/worker/outputs \n",
    "    --name worker_2_n1\n",
    "    gcr.io/synergos-aisg/synergos_worker:v0.1.0\n",
    "        --id worker_2_n1 \n",
    "        --logging_variant graylog <IP Synergos Logger> <Worker port>\n",
    "        --queue rabbitmq <IP Synergos Logger> <AMQP port>\n",
    "```\n",
    "\n",
    "#### Sub-Grid 2\n",
    "\n",
    "- **TTP_2**\n",
    "```\n",
    "docker run --rm\n",
    "    -p 7000:5000 \n",
    "    -p 10020:8020\n",
    "    -v <directory berry_flower/orchestrator_data>:/orchestrator/data\n",
    "    -v <directory berry_flower/orchestrator_outputs>:/orchestrator/outputs\n",
    "    --name ttp_2 \n",
    "    gcr.io/synergos-aisg/synergos_ttp_cluster:v0.1.0 \n",
    "        --id ttp \n",
    "        --logging_variant graylog <IP Synergos Logger> <TTP port>\n",
    "        --queue rabbitmq <IP Synergos Logger> <AMQP port>\n",
    "```\n",
    "\n",
    "- **WORKER_1 Node 2**\n",
    "```\n",
    "docker run --rm\n",
    "    -p 5003:5000 \n",
    "    -p 8023:8020\n",
    "    -v <directory berry_flower/data1>:/worker/data \n",
    "    -v <directory berry_flower/outputs_1>:/worker/outputs \n",
    "    --name worker_1_n2 \n",
    "    gcr.io/synergos-aisg/synergos_worker:v0.1.0 \n",
    "        --id worker_1_n2 \n",
    "        --logging_variant graylog <IP Synergos Logger> <Worker port>\n",
    "        --queue rabbitmq <IP Synergos Logger> <AMQP port>\n",
    "```\n",
    "\n",
    "- **WORKER_2 Node 2**\n",
    "```\n",
    "docker run --rm\n",
    "    -p 5004:5000 \n",
    "    -p 8024:8020\n",
    "    -v <directory berry_flower/data2>:/worker/data \n",
    "    -v <directory berry_flower/outputs_2>:/worker/outputs \n",
    "    --name worker_2_n2\n",
    "    gcr.io/synergos-aisg/synergos_worker:v0.1.0\n",
    "        --id worker_2_n2 \n",
    "        --logging_variant graylog <IP Synergos Logger> <Worker port>\n",
    "        --queue rabbitmq <IP Synergos Logger> <AMQP port>\n",
    "```\n",
    "\n",
    "#### Synergos MLOps\n",
    "\n",
    "```\n",
    "docker run --rm \n",
    "    -p 5500:5500 \n",
    "    -v /path/to/mlflow_test/:/mlflow    # <-- IMPT! Same as orchestrator's\n",
    "    --name synmlops \n",
    "    gcr.io/synergos-aisg/synergos_mlops:v0.1.0\n",
    "```\n",
    "\n",
    "#### Synergos MQ\n",
    "\n",
    "```\n",
    "docker run --rm         \n",
    "    -p 15672:15672      # UI port\n",
    "    -p 5672:5672        # AMQP port\n",
    "    --name synergos_mq \n",
    "    gcr.io/synergos-aisg/synergos_mq:v0.1.0\n",
    "```\n",
    "\n",
    "#### Synergos UI\n",
    "\n",
    "- Refer to these [instructions](https://github.com/aimakerspace/synergos_ui) to deploy `Synergos UI`.\n",
    "\n",
    "#### Synergos Logger\n",
    "\n",
    "- Refer to these [instructions](https://github.com/aimakerspace/synergos_logger) to deploy `Synergos Logger`.\n"
   ]
  },
  {
   "cell_type": "markdown",
   "metadata": {},
   "source": [
    "Once ready, for each terminal, you should see a REST server running on http://0.0.0.0:5000 of the container.\n",
    "\n",
    "You are now ready for the next step."
   ]
  },
  {
   "cell_type": "markdown",
   "metadata": {},
   "source": [
    "## Configurations"
   ]
  },
  {
   "cell_type": "markdown",
   "metadata": {},
   "source": [
    "### A. Configuring `Synergos Simulator`\n",
    "\n",
    "All hosts & ports have already been pre-allocated!\n",
    "\n",
    "Refer to [this](https://github.com/aimakerspace/synergos_simulator) for all the pre-allocated host & port mappings."
   ]
  },
  {
   "cell_type": "markdown",
   "metadata": {},
   "source": [
    "### B. Configuring your manual setup\n",
    "\n",
    "In a new terminal, run `docker inspect bridge` and find the IPv4Address for each container. Ideally, the containers should have the following addresses:\n",
    "- director address: `172.17.0.2`\n",
    "- Sub-Grid 1\n",
    "  - ttp_1 address: `172.17.0.3`\n",
    "  - worker_1_n1 address: `172.17.0.4`\n",
    "  - worker_2_n1 address: `172.17.0.5`\n",
    "- Sub-Grid 2\n",
    "  - ttp_2 address: `172.17.0.6`\n",
    "  - worker_1_n2 address: `172.17.0.7`\n",
    "  - worker_2_n2 address: `172.17.0.8`\n",
    "- UI address: `172.17.0.9`\n",
    "- Logger address: `172.17.0.14`\n",
    "- MLOps address: `172.17.0.15`\n",
    "- MQ address: `172.17.0.16`\n",
    "\n",
    "If not, just note the relevant IP addresses for each docker container.\n",
    "\n",
    "Run the following cells below.\n",
    "\n",
    "**Note: For Windows users, `host` should be Docker Desktop VM's IP. Follow [this](https://stackoverflow.com/questions/58073936/how-to-get-ip-address-of-docker-desktop-vm) on instructions to find IP**"
   ]
  },
  {
   "cell_type": "code",
   "execution_count": 1,
   "metadata": {},
   "outputs": [],
   "source": [
    "import time\n",
    "from synergos import Driver\n",
    "\n",
    "host = \"172.20.0.2\"\n",
    "port = 5000\n",
    "\n",
    "# Initiate Driver\n",
    "driver = Driver(host=host, port=port)"
   ]
  },
  {
   "cell_type": "markdown",
   "metadata": {},
   "source": [
    "## Phase 1: Registration\n",
    "\n",
    "Submitting Orchestrator & Participant metadata"
   ]
  },
  {
   "cell_type": "markdown",
   "metadata": {},
   "source": [
    "#### 1A. Orchestrator creates a collaboration"
   ]
  },
  {
   "cell_type": "code",
   "execution_count": 2,
   "metadata": {},
   "outputs": [
    {
     "data": {
      "text/plain": [
       "{'data': {'doc_id': '1',\n",
       "  'kind': 'Collaboration',\n",
       "  'key': {'collab_id': 'flower_syncluster_collaboration'},\n",
       "  'relations': {'Project': [],\n",
       "   'Experiment': [],\n",
       "   'Run': [],\n",
       "   'Registration': [],\n",
       "   'Tag': [],\n",
       "   'Model': [],\n",
       "   'Validation': [],\n",
       "   'Prediction': []},\n",
       "  'logs': {'host': '172.20.0.14',\n",
       "   'ports': {'sysmetrics': 9100,\n",
       "    'director': 9200,\n",
       "    'ttp': 9300,\n",
       "    'worker': 9400,\n",
       "    'main': 9000,\n",
       "    'ui': 9000},\n",
       "   'secure': False},\n",
       "  'mlops': {'host': '172.20.0.15',\n",
       "   'ports': {'main': 5500, 'ui': 5500},\n",
       "   'secure': False},\n",
       "  'mq': {'host': '172.20.0.16',\n",
       "   'ports': {'main': 5672, 'ui': 15672},\n",
       "   'secure': False}},\n",
       " 'apiVersion': '0.1.0',\n",
       " 'success': 1,\n",
       " 'status': 201,\n",
       " 'method': 'collaborations.post',\n",
       " 'params': {}}"
      ]
     },
     "execution_count": 2,
     "metadata": {},
     "output_type": "execute_result"
    }
   ],
   "source": [
    "collab_task = driver.collaborations\n",
    "\n",
    "collab_task.configure_logger(\n",
    "    host=\"172.20.0.14\", \n",
    "    port=9000, \n",
    "    sysmetrics_port=9100, \n",
    "    director_port=9200, \n",
    "    ttp_port=9300, \n",
    "    worker_port=9400, \n",
    "    ui_port=9000, \n",
    "    secure=False\n",
    ")\n",
    "\n",
    "collab_task.configure_mlops( \n",
    "    host=\"172.20.0.15\", \n",
    "    port=5500, \n",
    "    ui_port=5500, \n",
    "    secure=False\n",
    ")\n",
    "\n",
    "collab_task.configure_mq( \n",
    "    host=\"172.20.0.16\", \n",
    "    port=5672, \n",
    "    ui_port=15672, \n",
    "    secure=False\n",
    ")\n",
    "\n",
    "collab_task.create('flower_syncluster_collaboration')"
   ]
  },
  {
   "cell_type": "markdown",
   "metadata": {},
   "source": [
    "#### 1B. Orchestrator creates a project"
   ]
  },
  {
   "cell_type": "code",
   "execution_count": 3,
   "metadata": {},
   "outputs": [
    {
     "data": {
      "text/plain": [
       "{'data': {'doc_id': '1',\n",
       "  'kind': 'Project',\n",
       "  'key': {'collab_id': 'flower_syncluster_collaboration',\n",
       "   'project_id': 'flower_syncluster_project'},\n",
       "  'relations': {'Experiment': [],\n",
       "   'Run': [],\n",
       "   'Registration': [],\n",
       "   'Tag': [],\n",
       "   'Model': [],\n",
       "   'Validation': [],\n",
       "   'Prediction': []},\n",
       "  'action': 'classify',\n",
       "  'incentives': {'tier_2': [], 'tier_1': []}},\n",
       " 'apiVersion': '0.1.0',\n",
       " 'success': 1,\n",
       " 'status': 201,\n",
       " 'method': 'projects.post',\n",
       " 'params': {'collab_id': 'flower_syncluster_collaboration'}}"
      ]
     },
     "execution_count": 3,
     "metadata": {},
     "output_type": "execute_result"
    }
   ],
   "source": [
    "driver.projects.create(\n",
    "    collab_id=\"flower_syncluster_collaboration\",\n",
    "    project_id=\"flower_syncluster_project\",\n",
    "    action=\"classify\",\n",
    "    incentives={\n",
    "        'tier_1': [],\n",
    "        'tier_2': [],\n",
    "    }\n",
    ")"
   ]
  },
  {
   "cell_type": "markdown",
   "metadata": {},
   "source": [
    "#### 1C. Orchestrator creates an experiment"
   ]
  },
  {
   "cell_type": "code",
   "execution_count": 4,
   "metadata": {},
   "outputs": [
    {
     "data": {
      "text/plain": [
       "{'apiVersion': '0.1.0',\n",
       " 'success': 1,\n",
       " 'status': 201,\n",
       " 'method': 'experiments.post',\n",
       " 'params': {'collab_id': 'flower_syncluster_collaboration',\n",
       "  'project_id': 'flower_syncluster_project'},\n",
       " 'data': {'created_at': '2021-09-16 04:16:18 N',\n",
       "  'key': {'collab_id': 'flower_syncluster_collaboration',\n",
       "   'expt_id': 'flower_syncluster_experiment',\n",
       "   'project_id': 'flower_syncluster_project'},\n",
       "  'model': [{'activation': 'relu',\n",
       "    'is_input': True,\n",
       "    'l_type': 'Conv2d',\n",
       "    'structure': {'in_channels': 1,\n",
       "     'kernel_size': 3,\n",
       "     'out_channels': 4,\n",
       "     'padding': 1,\n",
       "     'stride': 1}},\n",
       "   {'activation': None,\n",
       "    'is_input': False,\n",
       "    'l_type': 'Flatten',\n",
       "    'structure': {}},\n",
       "   {'activation': 'sigmoid',\n",
       "    'is_input': False,\n",
       "    'l_type': 'Linear',\n",
       "    'structure': {'bias': True, 'in_features': 4096, 'out_features': 1}}],\n",
       "  'relations': {'Run': [], 'Model': [], 'Validation': [], 'Prediction': []},\n",
       "  'doc_id': 1,\n",
       "  'kind': 'Experiment'}}"
      ]
     },
     "execution_count": 4,
     "metadata": {},
     "output_type": "execute_result"
    }
   ],
   "source": [
    "driver.experiments.create(\n",
    "    collab_id=\"flower_syncluster_collaboration\",\n",
    "    project_id=\"flower_syncluster_project\",\n",
    "    expt_id=\"flower_syncluster_experiment\",\n",
    "    model=[\n",
    "        # Input: N, C, Height, Width [N, 1, dimension, dimension]\n",
    "        {\n",
    "            \"activation\": \"relu\",\n",
    "            \"is_input\": True,\n",
    "            \"l_type\": \"Conv2d\",\n",
    "            \"structure\": {\n",
    "                \"in_channels\": 1, \n",
    "                \"out_channels\": 4, # [N, 4, 32, 32]\n",
    "                \"kernel_size\": 3,\n",
    "                \"stride\": 1,\n",
    "                \"padding\": 1\n",
    "            }\n",
    "        },\n",
    "        {\n",
    "            \"activation\": None,\n",
    "            \"is_input\": False,\n",
    "            \"l_type\": \"Flatten\",\n",
    "            \"structure\": {}\n",
    "        },\n",
    "        # ------------------------------\n",
    "        {\n",
    "            \"activation\": \"sigmoid\",\n",
    "            \"is_input\": False,\n",
    "            \"l_type\": \"Linear\",\n",
    "            \"structure\": {\n",
    "                \"bias\": True,\n",
    "                \"in_features\": 4 * 32 * 32,\n",
    "                \"out_features\": 1\n",
    "            }\n",
    "        }\n",
    "    ]\n",
    ")"
   ]
  },
  {
   "cell_type": "markdown",
   "metadata": {},
   "source": [
    "#### 1D. Orchestrator creates a run"
   ]
  },
  {
   "cell_type": "code",
   "execution_count": 5,
   "metadata": {},
   "outputs": [
    {
     "data": {
      "text/plain": [
       "{'data': {'doc_id': '1',\n",
       "  'kind': 'Run',\n",
       "  'key': {'collab_id': 'flower_syncluster_collaboration',\n",
       "   'project_id': 'flower_syncluster_project',\n",
       "   'expt_id': 'flower_syncluster_experiment',\n",
       "   'run_id': 'flower_syncluster_run'},\n",
       "  'relations': {'Model': [], 'Validation': [], 'Prediction': []},\n",
       "  'rounds': 2,\n",
       "  'epochs': 1,\n",
       "  'lr': 0.001,\n",
       "  'lr_decay': 0.1,\n",
       "  'weight_decay': 0.0,\n",
       "  'seed': 42,\n",
       "  'precision_fractional': 5,\n",
       "  'mu': 0.1,\n",
       "  'l1_lambda': 0.0,\n",
       "  'l2_lambda': 0.0,\n",
       "  'base_lr': 0.0005,\n",
       "  'max_lr': 0.005,\n",
       "  'patience': 10,\n",
       "  'delta': 0.0},\n",
       " 'apiVersion': '0.1.0',\n",
       " 'success': 1,\n",
       " 'status': 201,\n",
       " 'method': 'runs.post',\n",
       " 'params': {'collab_id': 'flower_syncluster_collaboration',\n",
       "  'project_id': 'flower_syncluster_project',\n",
       "  'expt_id': 'flower_syncluster_experiment'}}"
      ]
     },
     "execution_count": 5,
     "metadata": {},
     "output_type": "execute_result"
    }
   ],
   "source": [
    "driver.runs.create(\n",
    "    collab_id=\"flower_syncluster_collaboration\",\n",
    "    project_id=\"flower_syncluster_project\",\n",
    "    expt_id=\"flower_syncluster_experiment\",\n",
    "    run_id=\"flower_syncluster_run\",\n",
    "    rounds=2, \n",
    "    epochs=1,\n",
    "    base_lr=0.0005,\n",
    "    max_lr=0.005,\n",
    "    criterion=\"L1Loss\"\n",
    ")"
   ]
  },
  {
   "cell_type": "markdown",
   "metadata": {},
   "source": [
    "#### 1E. Participants registers their servers' configurations and roles"
   ]
  },
  {
   "cell_type": "code",
   "execution_count": 6,
   "metadata": {},
   "outputs": [
    {
     "data": {
      "text/plain": [
       "{'data': {'doc_id': '1',\n",
       "  'kind': 'Participant',\n",
       "  'key': {'participant_id': 'worker_1'},\n",
       "  'relations': {'Registration': [], 'Tag': []},\n",
       "  'id': 'worker_1'},\n",
       " 'apiVersion': '0.1.0',\n",
       " 'success': 1,\n",
       " 'status': 201,\n",
       " 'method': 'participants.post',\n",
       " 'params': {}}"
      ]
     },
     "metadata": {},
     "output_type": "display_data"
    },
    {
     "data": {
      "text/plain": [
       "{'data': {'doc_id': '2',\n",
       "  'kind': 'Participant',\n",
       "  'key': {'participant_id': 'worker_2'},\n",
       "  'relations': {'Registration': [], 'Tag': []},\n",
       "  'id': 'worker_2'},\n",
       " 'apiVersion': '0.1.0',\n",
       " 'success': 1,\n",
       " 'status': 201,\n",
       " 'method': 'participants.post',\n",
       " 'params': {}}"
      ]
     },
     "metadata": {},
     "output_type": "display_data"
    }
   ],
   "source": [
    "participant_resp_1 = driver.participants.create(\n",
    "    participant_id=\"worker_1\",\n",
    ")\n",
    "\n",
    "display(participant_resp_1)\n",
    "\n",
    "participant_resp_2 = driver.participants.create(\n",
    "    participant_id=\"worker_2\",\n",
    ")\n",
    "\n",
    "display(participant_resp_2)"
   ]
  },
  {
   "cell_type": "code",
   "execution_count": 7,
   "metadata": {},
   "outputs": [
    {
     "data": {
      "text/plain": [
       "{'data': {'doc_id': '1',\n",
       "  'kind': 'Registration',\n",
       "  'key': {'collab_id': 'flower_syncluster_collaboration',\n",
       "   'project_id': 'flower_syncluster_project',\n",
       "   'participant_id': 'worker_1'},\n",
       "  'relations': {'Tag': []},\n",
       "  'collaboration': {'catalogue': {},\n",
       "   'logs': {'host': '172.20.0.14',\n",
       "    'ports': {'sysmetrics': 9100,\n",
       "     'director': 9200,\n",
       "     'ttp': 9300,\n",
       "     'worker': 9400,\n",
       "     'main': 9000,\n",
       "     'ui': 9000},\n",
       "    'secure': False},\n",
       "   'meter': {},\n",
       "   'mlops': {'host': '172.20.0.15',\n",
       "    'ports': {'main': 5500, 'ui': 5500},\n",
       "    'secure': False},\n",
       "   'mq': {'host': '172.20.0.16',\n",
       "    'ports': {'main': 5672, 'ui': 15672},\n",
       "    'secure': False}},\n",
       "  'project': {'action': 'classify',\n",
       "   'incentives': {'tier_2': [], 'tier_1': []},\n",
       "   'start_at': None},\n",
       "  'participant': {'id': 'worker_1',\n",
       "   'category': [],\n",
       "   'summary': None,\n",
       "   'phone': None,\n",
       "   'email': None,\n",
       "   'socials': {}},\n",
       "  'role': 'host',\n",
       "  'n_count': 2,\n",
       "  'node_1': {'host': '172.20.0.7',\n",
       "   'port': 8020,\n",
       "   'log_msgs': True,\n",
       "   'verbose': True,\n",
       "   'f_port': 5000},\n",
       "  'node_0': {'host': '172.20.0.4',\n",
       "   'port': 8020,\n",
       "   'log_msgs': True,\n",
       "   'verbose': True,\n",
       "   'f_port': 5000}},\n",
       " 'apiVersion': '0.1.0',\n",
       " 'success': 1,\n",
       " 'status': 201,\n",
       " 'method': 'registration.post',\n",
       " 'params': {'collab_id': 'flower_syncluster_collaboration',\n",
       "  'project_id': 'flower_syncluster_project',\n",
       "  'participant_id': 'worker_1'}}"
      ]
     },
     "execution_count": 7,
     "metadata": {},
     "output_type": "execute_result"
    }
   ],
   "source": [
    "registration_task = driver.registrations\n",
    "\n",
    "# Add and register worker_1 node\n",
    "registration_task.add_node(\n",
    "    host='172.20.0.4',\n",
    "    port=8020,\n",
    "    f_port=5000,\n",
    "    log_msgs=True,\n",
    "    verbose=True\n",
    ")\n",
    "\n",
    "registration_task.add_node(\n",
    "    host='172.20.0.7',\n",
    "    port=8020,\n",
    "    f_port=5000,\n",
    "    log_msgs=True,\n",
    "    verbose=True\n",
    ")\n",
    "\n",
    "registration_task.create(\n",
    "    collab_id=\"flower_syncluster_collaboration\",\n",
    "    project_id=\"flower_syncluster_project\",\n",
    "    participant_id=\"worker_1\",\n",
    "    role=\"host\"\n",
    ")"
   ]
  },
  {
   "cell_type": "code",
   "execution_count": 8,
   "metadata": {},
   "outputs": [
    {
     "data": {
      "text/plain": [
       "{'data': {'doc_id': '2',\n",
       "  'kind': 'Registration',\n",
       "  'key': {'collab_id': 'flower_syncluster_collaboration',\n",
       "   'project_id': 'flower_syncluster_project',\n",
       "   'participant_id': 'worker_2'},\n",
       "  'relations': {'Tag': []},\n",
       "  'collaboration': {'catalogue': {},\n",
       "   'logs': {'host': '172.20.0.14',\n",
       "    'ports': {'sysmetrics': 9100,\n",
       "     'director': 9200,\n",
       "     'ttp': 9300,\n",
       "     'worker': 9400,\n",
       "     'main': 9000,\n",
       "     'ui': 9000},\n",
       "    'secure': False},\n",
       "   'meter': {},\n",
       "   'mlops': {'host': '172.20.0.15',\n",
       "    'ports': {'main': 5500, 'ui': 5500},\n",
       "    'secure': False},\n",
       "   'mq': {'host': '172.20.0.16',\n",
       "    'ports': {'main': 5672, 'ui': 15672},\n",
       "    'secure': False}},\n",
       "  'project': {'action': 'classify',\n",
       "   'incentives': {'tier_2': [], 'tier_1': []},\n",
       "   'start_at': None},\n",
       "  'participant': {'id': 'worker_2',\n",
       "   'category': [],\n",
       "   'summary': None,\n",
       "   'phone': None,\n",
       "   'email': None,\n",
       "   'socials': {}},\n",
       "  'role': 'guest',\n",
       "  'n_count': 2,\n",
       "  'node_1': {'host': '172.20.0.8',\n",
       "   'port': 8020,\n",
       "   'log_msgs': True,\n",
       "   'verbose': True,\n",
       "   'f_port': 5000},\n",
       "  'node_0': {'host': '172.20.0.5',\n",
       "   'port': 8020,\n",
       "   'log_msgs': True,\n",
       "   'verbose': True,\n",
       "   'f_port': 5000}},\n",
       " 'apiVersion': '0.1.0',\n",
       " 'success': 1,\n",
       " 'status': 201,\n",
       " 'method': 'registration.post',\n",
       " 'params': {'collab_id': 'flower_syncluster_collaboration',\n",
       "  'project_id': 'flower_syncluster_project',\n",
       "  'participant_id': 'worker_2'}}"
      ]
     },
     "execution_count": 8,
     "metadata": {},
     "output_type": "execute_result"
    }
   ],
   "source": [
    "registration_task = driver.registrations\n",
    "\n",
    "# Add and register worker_2 node\n",
    "registration_task.add_node(\n",
    "    host='172.20.0.5',\n",
    "    port=8020,\n",
    "    f_port=5000,\n",
    "    log_msgs=True,\n",
    "    verbose=True\n",
    ")\n",
    "\n",
    "registration_task.add_node(\n",
    "    host='172.20.0.8',\n",
    "    port=8020,\n",
    "    f_port=5000,\n",
    "    log_msgs=True,\n",
    "    verbose=True\n",
    ")\n",
    "\n",
    "registration_task.create(\n",
    "    collab_id=\"flower_syncluster_collaboration\",\n",
    "    project_id=\"flower_syncluster_project\",\n",
    "    participant_id=\"worker_2\",\n",
    "    role=\"guest\"\n",
    ")"
   ]
  },
  {
   "cell_type": "markdown",
   "metadata": {},
   "source": [
    "#### 1F. Participants registers their tags for a specific project"
   ]
  },
  {
   "cell_type": "code",
   "execution_count": 9,
   "metadata": {},
   "outputs": [
    {
     "data": {
      "text/plain": [
       "{'data': {'doc_id': '1',\n",
       "  'kind': 'Tag',\n",
       "  'key': {'collab_id': 'flower_syncluster_collaboration',\n",
       "   'project_id': 'flower_syncluster_project',\n",
       "   'participant_id': 'worker_1'},\n",
       "  'train': [['berry_flower', 'dataset', 'data1', 'train']],\n",
       "  'evaluate': [['berry_flower', 'dataset', 'data1', 'evaluate']],\n",
       "  'predict': []},\n",
       " 'apiVersion': '0.1.0',\n",
       " 'success': 1,\n",
       " 'status': 201,\n",
       " 'method': 'tag.post',\n",
       " 'params': {'collab_id': 'flower_syncluster_collaboration',\n",
       "  'project_id': 'flower_syncluster_project',\n",
       "  'participant_id': 'worker_1'}}"
      ]
     },
     "execution_count": 9,
     "metadata": {},
     "output_type": "execute_result"
    }
   ],
   "source": [
    "# Worker 1 declares their data tags\n",
    "driver.tags.create(\n",
    "    collab_id=\"flower_syncluster_collaboration\",\n",
    "    project_id=\"flower_syncluster_project\",\n",
    "    participant_id=\"worker_1\",\n",
    "    train=[[\"berry_flower\", \"dataset\", \"data1\", \"train\"]],\n",
    "    evaluate=[[\"berry_flower\", \"dataset\", \"data1\", \"evaluate\"]]\n",
    ")"
   ]
  },
  {
   "cell_type": "code",
   "execution_count": 10,
   "metadata": {},
   "outputs": [
    {
     "data": {
      "text/plain": [
       "{'data': {'doc_id': '2',\n",
       "  'kind': 'Tag',\n",
       "  'key': {'collab_id': 'flower_syncluster_collaboration',\n",
       "   'project_id': 'flower_syncluster_project',\n",
       "   'participant_id': 'worker_2'},\n",
       "  'train': [['berry_flower', 'dataset', 'data2', 'train']],\n",
       "  'evaluate': [['berry_flower', 'dataset', 'data2', 'evaluate']],\n",
       "  'predict': []},\n",
       " 'apiVersion': '0.1.0',\n",
       " 'success': 1,\n",
       " 'status': 201,\n",
       " 'method': 'tag.post',\n",
       " 'params': {'collab_id': 'flower_syncluster_collaboration',\n",
       "  'project_id': 'flower_syncluster_project',\n",
       "  'participant_id': 'worker_2'}}"
      ]
     },
     "execution_count": 10,
     "metadata": {},
     "output_type": "execute_result"
    }
   ],
   "source": [
    "# Worker 2 declares their data tags\n",
    "driver.tags.create(\n",
    "    collab_id=\"flower_syncluster_collaboration\",\n",
    "    project_id=\"flower_syncluster_project\",\n",
    "    participant_id=\"worker_2\",\n",
    "    train=[[\"berry_flower\", \"dataset\", \"data2\", \"train\"]],\n",
    "    evaluate=[[\"berry_flower\", \"dataset\", \"data2\", \"evaluate\"]]\n",
    ")"
   ]
  },
  {
   "cell_type": "code",
   "execution_count": null,
   "metadata": {},
   "outputs": [],
   "source": [
    "stop!"
   ]
  },
  {
   "cell_type": "markdown",
   "metadata": {},
   "source": [
    "## Phase 2: \n",
    "Alignment, Training & Optimisation"
   ]
  },
  {
   "cell_type": "markdown",
   "metadata": {},
   "source": [
    "#### 2A. Perform multiple feature alignment to dynamically configure datasets and models for cross-grid compatibility"
   ]
  },
  {
   "cell_type": "code",
   "execution_count": 11,
   "metadata": {
    "scrolled": false
   },
   "outputs": [
    {
     "data": {
      "text/plain": [
       "{'data': [],\n",
       " 'apiVersion': '0.1.0',\n",
       " 'success': 1,\n",
       " 'status': 201,\n",
       " 'method': 'alignments.post',\n",
       " 'params': {'collab_id': 'flower_syncluster_collaboration',\n",
       "  'project_id': 'flower_syncluster_project'}}"
      ]
     },
     "execution_count": 11,
     "metadata": {},
     "output_type": "execute_result"
    }
   ],
   "source": [
    "driver.alignments.create(\n",
    "    collab_id=\"flower_syncluster_collaboration\",\n",
    "    project_id=\"flower_syncluster_project\",\n",
    "    verbose=False,\n",
    "    log_msg=False\n",
    ")"
   ]
  },
  {
   "cell_type": "code",
   "execution_count": 12,
   "metadata": {},
   "outputs": [
    {
     "data": {
      "text/plain": [
       "{'data': [{'doc_id': '1',\n",
       "   'kind': 'Alignment',\n",
       "   'key': {'collab_id': 'flower_syncluster_collaboration',\n",
       "    'project_id': 'flower_syncluster_project',\n",
       "    'participant_id': 'worker_1'},\n",
       "   'train': {'X': [], 'y': []},\n",
       "   'evaluate': {'X': [], 'y': []},\n",
       "   'predict': {'X': [], 'y': []}},\n",
       "  {'doc_id': '2',\n",
       "   'kind': 'Alignment',\n",
       "   'key': {'collab_id': 'flower_syncluster_collaboration',\n",
       "    'project_id': 'flower_syncluster_project',\n",
       "    'participant_id': 'worker_2'},\n",
       "   'train': {'X': [], 'y': []},\n",
       "   'evaluate': {'X': [], 'y': []},\n",
       "   'predict': {'X': [], 'y': []}}],\n",
       " 'apiVersion': '0.1.0',\n",
       " 'success': 1,\n",
       " 'status': 200,\n",
       " 'method': 'alignments.get',\n",
       " 'params': {'collab_id': 'flower_syncluster_collaboration',\n",
       "  'project_id': 'flower_syncluster_project'}}"
      ]
     },
     "metadata": {},
     "output_type": "display_data"
    }
   ],
   "source": [
    "# Important! MUST wait for alignment process to first complete before proceeding on\n",
    "while True:\n",
    "    \n",
    "    align_resp = driver.alignments.read(\n",
    "        collab_id=\"flower_syncluster_collaboration\",\n",
    "        project_id=\"flower_syncluster_project\"\n",
    "    )\n",
    "    \n",
    "    align_data = align_resp.get('data')\n",
    "    if align_data:\n",
    "        display(align_resp)\n",
    "        break\n",
    "        \n",
    "    time.sleep(5)"
   ]
  },
  {
   "cell_type": "markdown",
   "metadata": {},
   "source": [
    "#### 2B. Trigger training across the federated grid"
   ]
  },
  {
   "cell_type": "code",
   "execution_count": 13,
   "metadata": {},
   "outputs": [
    {
     "data": {
      "text/plain": [
       "{'data': [],\n",
       " 'apiVersion': '0.1.0',\n",
       " 'success': 1,\n",
       " 'status': 200,\n",
       " 'method': 'models.post',\n",
       " 'params': {'collab_id': 'flower_syncluster_collaboration',\n",
       "  'project_id': 'flower_syncluster_project',\n",
       "  'expt_id': 'flower_syncluster_experiment',\n",
       "  'run_id': 'flower_syncluster_run'}}"
      ]
     },
     "metadata": {},
     "output_type": "display_data"
    }
   ],
   "source": [
    "model_resp = driver.models.create(\n",
    "    collab_id=\"flower_syncluster_collaboration\",\n",
    "    project_id=\"flower_syncluster_project\",\n",
    "    expt_id=\"flower_syncluster_experiment\",\n",
    "    run_id=\"flower_syncluster_run\",\n",
    "    log_msg=False,\n",
    "    verbose=False\n",
    ")\n",
    "display(model_resp)"
   ]
  },
  {
   "cell_type": "code",
   "execution_count": 14,
   "metadata": {},
   "outputs": [
    {
     "data": {
      "text/plain": [
       "[{'doc_id': '1',\n",
       "  'kind': 'Model',\n",
       "  'key': {'project_id': 'flower_syncluster_project',\n",
       "   'expt_id': 'flower_syncluster_experiment',\n",
       "   'run_id': 'flower_syncluster_run'},\n",
       "  'global': {'origin': 'ttp',\n",
       "   'path': '/orchestrator/outputs/flower_syncluster_collaboration/flower_syncluster_project/flower_syncluster_experiment/flower_syncluster_run/global_model.pt',\n",
       "   'loss_history': '/orchestrator/outputs/flower_syncluster_collaboration/flower_syncluster_project/flower_syncluster_experiment/flower_syncluster_run/global_loss_history.json'},\n",
       "  'local_2': {'origin': 'worker_2',\n",
       "   'path': '/orchestrator/outputs/flower_syncluster_collaboration/flower_syncluster_project/flower_syncluster_experiment/flower_syncluster_run/local_model_worker_2.pt',\n",
       "   'loss_history': '/orchestrator/outputs/flower_syncluster_collaboration/flower_syncluster_project/flower_syncluster_experiment/flower_syncluster_run/local_loss_history_worker_2.json'},\n",
       "  'local_1': {'origin': 'worker_1',\n",
       "   'path': '/orchestrator/outputs/flower_syncluster_collaboration/flower_syncluster_project/flower_syncluster_experiment/flower_syncluster_run/local_model_worker_1.pt',\n",
       "   'loss_history': '/orchestrator/outputs/flower_syncluster_collaboration/flower_syncluster_project/flower_syncluster_experiment/flower_syncluster_run/local_loss_history_worker_1.json'}}]"
      ]
     },
     "metadata": {},
     "output_type": "display_data"
    }
   ],
   "source": [
    "# Important! MUST wait for training process to first complete before proceeding on\n",
    "while True:\n",
    "    \n",
    "    train_resp = driver.models.read(\n",
    "        collab_id=\"flower_syncluster_collaboration\",\n",
    "        project_id=\"flower_syncluster_project\",\n",
    "        expt_id=\"flower_syncluster_experiment\",\n",
    "        run_id=\"flower_syncluster_run\"\n",
    "    )\n",
    "    \n",
    "    train_data = train_resp.get('data')\n",
    "    if train_data:\n",
    "        display(train_data)\n",
    "        break\n",
    "        \n",
    "    time.sleep(5)"
   ]
  },
  {
   "cell_type": "markdown",
   "metadata": {},
   "source": [
    "#### 2C. Perform hyperparameter tuning once ideal model is found (experimental) "
   ]
  },
  {
   "cell_type": "code",
   "execution_count": 15,
   "metadata": {},
   "outputs": [
    {
     "data": {
      "text/plain": [
       "{'data': [{'doc_id': '2',\n",
       "   'kind': 'Optimization',\n",
       "   'key': {'participant_id': None,\n",
       "    'collab_id': 'flower_syncluster_collaboration',\n",
       "    'project_id': 'flower_syncluster_project',\n",
       "    'expt_id': 'flower_syncluster_experiment',\n",
       "    'run_id': 'optim_run_11e7752f-7ac4-48e8-a635-fa12be36b208'},\n",
       "   'evaluate': {'statistics': {}, 'res_path': None}}],\n",
       " 'apiVersion': '0.1.0',\n",
       " 'success': 1,\n",
       " 'status': 200,\n",
       " 'method': 'optimizations.post',\n",
       " 'params': {'collab_id': 'flower_syncluster_collaboration',\n",
       "  'project_id': 'flower_syncluster_project',\n",
       "  'expt_id': 'flower_syncluster_experiment'}}"
      ]
     },
     "execution_count": 15,
     "metadata": {},
     "output_type": "execute_result"
    }
   ],
   "source": [
    "optim_parameters = {\n",
    "    'search_space': {\n",
    "        \"rounds\": {\"_type\": \"choice\", \"_value\": [1, 2]},\n",
    "        \"epochs\": {\"_type\": \"choice\", \"_value\": [1, 2]},\n",
    "        \"batch_size\": {\"_type\": \"choice\", \"_value\": [32, 64]},\n",
    "        \"lr\": {\"_type\": \"choice\", \"_value\": [0.0001, 0.1]},\n",
    "        \"criterion\": {\"_type\": \"choice\", \"_value\": [\"L1Loss\"]},\n",
    "        \"mu\": {\"_type\": \"uniform\", \"_value\": [0.0, 1.0]},\n",
    "        \"base_lr\": {\"_type\": \"choice\", \"_value\": [0.00005]},\n",
    "        \"max_lr\": {\"_type\": \"choice\", \"_value\": [0.2]}\n",
    "    },\n",
    "    'backend': \"tune\",\n",
    "    'optimize_mode': \"max\",\n",
    "    'metric': \"accuracy\",\n",
    "    'trial_concurrency': 1,\n",
    "    'max_exec_duration': \"1h\",\n",
    "    'max_trial_num': 2,\n",
    "    'max_concurrent': 1,\n",
    "    'is_remote': True,\n",
    "    'use_annotation': True,\n",
    "    'auto_align': True,\n",
    "    'dockerised': True,\n",
    "    'verbose': True,\n",
    "    'log_msgs': True\n",
    "}\n",
    "driver.optimizations.create(\n",
    "    collab_id=\"flower_syncluster_collaboration\",\n",
    "    project_id=\"flower_syncluster_project\",\n",
    "    expt_id=\"flower_syncluster_experiment\",\n",
    "    **optim_parameters\n",
    ")"
   ]
  },
  {
   "cell_type": "code",
   "execution_count": 16,
   "metadata": {},
   "outputs": [
    {
     "data": {
      "text/plain": [
       "{'data': [{'doc_id': '1',\n",
       "   'kind': 'Optimization',\n",
       "   'key': {'participant_id': 'worker_1',\n",
       "    'collab_id': 'flower_syncluster_collaboration',\n",
       "    'project_id': 'flower_syncluster_project',\n",
       "    'expt_id': 'flower_syncluster_experiment',\n",
       "    'run_id': 'optim_run_11e7752f-7ac4-48e8-a635-fa12be36b208'},\n",
       "   'evaluate': {'statistics': {'accuracy': [0.5, 0.5],\n",
       "     'roc_auc_score': [0.45, 0.33125],\n",
       "     'pr_auc_score': [0.7118589743589743, 0.3423232323232323],\n",
       "     'f_score': [0.6666666666666666, 0.0],\n",
       "     'TPRs': [1.0, 0.0],\n",
       "     'TNRs': [0.0, 1.0],\n",
       "     'PPVs': [0.5, 0.0],\n",
       "     'NPVs': [0.0, 0.5],\n",
       "     'FPRs': [1.0, 0.0],\n",
       "     'FNRs': [0.0, 1.0],\n",
       "     'FDRs': [0.5, 0.0],\n",
       "     'TPs': [20, 0],\n",
       "     'TNs': [0, 20],\n",
       "     'FPs': [20, 0],\n",
       "     'FNs': [0, 20]},\n",
       "    'res_path': '/worker/outputs/flower_syncluster_collaboration/flower_syncluster_project/flower_syncluster_experiment/optim_run_11e7752f-7ac4-48e8-a635-fa12be36b208/evaluate/inference_statistics_evaluate.json'}},\n",
       "  {'doc_id': '2',\n",
       "   'kind': 'Optimization',\n",
       "   'key': {'participant_id': 'worker_2',\n",
       "    'collab_id': 'flower_syncluster_collaboration',\n",
       "    'project_id': 'flower_syncluster_project',\n",
       "    'expt_id': 'flower_syncluster_experiment',\n",
       "    'run_id': 'optim_run_11e7752f-7ac4-48e8-a635-fa12be36b208'},\n",
       "   'evaluate': {'statistics': {'accuracy': [0.5, 0.5],\n",
       "     'roc_auc_score': [0.5, 0.515],\n",
       "     'pr_auc_score': [0.75, 0.5070238095238095],\n",
       "     'f_score': [0.6666666666666666, 0.0],\n",
       "     'TPRs': [1.0, 0.0],\n",
       "     'TNRs': [0.0, 1.0],\n",
       "     'PPVs': [0.5, 0.0],\n",
       "     'NPVs': [0.0, 0.5],\n",
       "     'FPRs': [1.0, 0.0],\n",
       "     'FNRs': [0.0, 1.0],\n",
       "     'FDRs': [0.5, 0.0],\n",
       "     'TPs': [20, 0],\n",
       "     'TNs': [0, 20],\n",
       "     'FPs': [20, 0],\n",
       "     'FNs': [0, 20]},\n",
       "    'res_path': '/worker/outputs/flower_syncluster_collaboration/flower_syncluster_project/flower_syncluster_experiment/optim_run_11e7752f-7ac4-48e8-a635-fa12be36b208/evaluate/inference_statistics_evaluate.json'}},\n",
       "  {'doc_id': '3',\n",
       "   'kind': 'Optimization',\n",
       "   'key': {'participant_id': 'worker_1',\n",
       "    'collab_id': 'flower_syncluster_collaboration',\n",
       "    'project_id': 'flower_syncluster_project',\n",
       "    'expt_id': 'flower_syncluster_experiment',\n",
       "    'run_id': 'optim_run_432162be-aabc-4994-adcd-e2cfe36b3d26'},\n",
       "   'evaluate': {'statistics': {'accuracy': [0.55, 0.55],\n",
       "     'roc_auc_score': [0.73, 0.73],\n",
       "     'pr_auc_score': [0.7200911862198829, 0.7367543949554323],\n",
       "     'f_score': [0.18181818181818182, 0.6896551724137931],\n",
       "     'TPRs': [0.1, 1.0],\n",
       "     'TNRs': [1.0, 0.1],\n",
       "     'PPVs': [1.0, 0.5263157894736842],\n",
       "     'NPVs': [0.5263157894736842, 1.0],\n",
       "     'FPRs': [0.0, 0.9],\n",
       "     'FNRs': [0.9, 0.0],\n",
       "     'FDRs': [0.0, 0.47368421052631576],\n",
       "     'TPs': [2, 20],\n",
       "     'TNs': [20, 2],\n",
       "     'FPs': [0, 18],\n",
       "     'FNs': [18, 0]},\n",
       "    'res_path': '/worker/outputs/flower_syncluster_collaboration/flower_syncluster_project/flower_syncluster_experiment/optim_run_432162be-aabc-4994-adcd-e2cfe36b3d26/evaluate/inference_statistics_evaluate.json'}},\n",
       "  {'doc_id': '4',\n",
       "   'kind': 'Optimization',\n",
       "   'key': {'participant_id': 'worker_2',\n",
       "    'collab_id': 'flower_syncluster_collaboration',\n",
       "    'project_id': 'flower_syncluster_project',\n",
       "    'expt_id': 'flower_syncluster_experiment',\n",
       "    'run_id': 'optim_run_432162be-aabc-4994-adcd-e2cfe36b3d26'},\n",
       "   'evaluate': {'statistics': {'accuracy': [0.525, 0.525],\n",
       "     'roc_auc_score': [0.5474999999999999, 0.5475],\n",
       "     'pr_auc_score': [0.605941893416821, 0.5595448883457925],\n",
       "     'f_score': [0.24, 0.6545454545454545],\n",
       "     'TPRs': [0.15, 0.9],\n",
       "     'TNRs': [0.9, 0.15],\n",
       "     'PPVs': [0.6, 0.5142857142857142],\n",
       "     'NPVs': [0.5142857142857142, 0.6],\n",
       "     'FPRs': [0.1, 0.85],\n",
       "     'FNRs': [0.85, 0.1],\n",
       "     'FDRs': [0.4, 0.4857142857142857],\n",
       "     'TPs': [3, 18],\n",
       "     'TNs': [18, 3],\n",
       "     'FPs': [2, 17],\n",
       "     'FNs': [17, 2]},\n",
       "    'res_path': '/worker/outputs/flower_syncluster_collaboration/flower_syncluster_project/flower_syncluster_experiment/optim_run_432162be-aabc-4994-adcd-e2cfe36b3d26/evaluate/inference_statistics_evaluate.json'}}],\n",
       " 'apiVersion': '0.1.0',\n",
       " 'success': 1,\n",
       " 'status': 200,\n",
       " 'method': 'optimizations.get',\n",
       " 'params': {'collab_id': 'flower_syncluster_collaboration',\n",
       "  'project_id': 'flower_syncluster_project',\n",
       "  'expt_id': 'flower_syncluster_experiment'}}"
      ]
     },
     "execution_count": 16,
     "metadata": {},
     "output_type": "execute_result"
    }
   ],
   "source": [
    "driver.optimizations.read(\n",
    "    collab_id=\"flower_syncluster_collaboration\",\n",
    "    project_id=\"flower_syncluster_project\",\n",
    "    expt_id=\"flower_syncluster_experiment\"\n",
    ")"
   ]
  },
  {
   "cell_type": "markdown",
   "metadata": {},
   "source": [
    "## Phase 3: EVALUATE \n",
    "Validation & Predictions"
   ]
  },
  {
   "cell_type": "markdown",
   "metadata": {},
   "source": [
    "#### 3A. Perform validation(s) of combination(s)"
   ]
  },
  {
   "cell_type": "code",
   "execution_count": 17,
   "metadata": {},
   "outputs": [
    {
     "data": {
      "text/plain": [
       "{'data': [],\n",
       " 'apiVersion': '0.1.0',\n",
       " 'success': 1,\n",
       " 'status': 200,\n",
       " 'method': 'validations.post',\n",
       " 'params': {'collab_id': 'flower_syncluster_collaboration',\n",
       "  'project_id': 'flower_syncluster_project',\n",
       "  'expt_id': 'flower_syncluster_experiment',\n",
       "  'run_id': 'flower_syncluster_run'}}"
      ]
     },
     "execution_count": 17,
     "metadata": {},
     "output_type": "execute_result"
    }
   ],
   "source": [
    "# Orchestrator performs post-mortem validation\n",
    "driver.validations.create(\n",
    "    collab_id=\"flower_syncluster_collaboration\",\n",
    "    project_id=\"flower_syncluster_project\",\n",
    "    expt_id=\"flower_syncluster_experiment\",\n",
    "    run_id=\"flower_syncluster_run\",\n",
    "    log_msg=False,\n",
    "    verbose=False\n",
    ")"
   ]
  },
  {
   "cell_type": "code",
   "execution_count": 18,
   "metadata": {},
   "outputs": [
    {
     "data": {
      "text/plain": [
       "{'data': [{'doc_id': '5',\n",
       "   'kind': 'Validation',\n",
       "   'key': {'participant_id': 'worker_1',\n",
       "    'collab_id': 'flower_syncluster_collaboration',\n",
       "    'project_id': 'flower_syncluster_project',\n",
       "    'expt_id': 'flower_syncluster_experiment',\n",
       "    'run_id': 'flower_syncluster_run'},\n",
       "   'evaluate': {'statistics': {'accuracy': [0.45, 0.45],\n",
       "     'roc_auc_score': [0.465, 0.465],\n",
       "     'pr_auc_score': [0.48168529517421244, 0.49865857176765327],\n",
       "     'f_score': [0.47619047619047616, 0.4210526315789474],\n",
       "     'TPRs': [0.5, 0.4],\n",
       "     'TNRs': [0.4, 0.5],\n",
       "     'PPVs': [0.45454545454545453, 0.4444444444444444],\n",
       "     'NPVs': [0.4444444444444444, 0.45454545454545453],\n",
       "     'FPRs': [0.6, 0.5],\n",
       "     'FNRs': [0.5, 0.6],\n",
       "     'FDRs': [0.5454545454545454, 0.5555555555555556],\n",
       "     'TPs': [10, 8],\n",
       "     'TNs': [8, 10],\n",
       "     'FPs': [12, 10],\n",
       "     'FNs': [10, 12]},\n",
       "    'res_path': '/worker/outputs/flower_syncluster_collaboration/flower_syncluster_project/flower_syncluster_experiment/flower_syncluster_run/evaluate/inference_statistics_evaluate.json'}},\n",
       "  {'doc_id': '6',\n",
       "   'kind': 'Validation',\n",
       "   'key': {'participant_id': 'worker_2',\n",
       "    'collab_id': 'flower_syncluster_collaboration',\n",
       "    'project_id': 'flower_syncluster_project',\n",
       "    'expt_id': 'flower_syncluster_experiment',\n",
       "    'run_id': 'flower_syncluster_run'},\n",
       "   'evaluate': {'statistics': {'accuracy': [0.4, 0.4],\n",
       "     'roc_auc_score': [0.24500000000000002, 0.24500000000000005],\n",
       "     'pr_auc_score': [0.3585011578240993, 0.36031629171565627],\n",
       "     'f_score': [0.5199999999999999, 0.2],\n",
       "     'TPRs': [0.65, 0.15],\n",
       "     'TNRs': [0.15, 0.65],\n",
       "     'PPVs': [0.43333333333333335, 0.3],\n",
       "     'NPVs': [0.3, 0.43333333333333335],\n",
       "     'FPRs': [0.85, 0.35],\n",
       "     'FNRs': [0.35, 0.85],\n",
       "     'FDRs': [0.5666666666666667, 0.7],\n",
       "     'TPs': [13, 3],\n",
       "     'TNs': [3, 13],\n",
       "     'FPs': [17, 7],\n",
       "     'FNs': [7, 17]},\n",
       "    'res_path': '/worker/outputs/flower_syncluster_collaboration/flower_syncluster_project/flower_syncluster_experiment/flower_syncluster_run/evaluate/inference_statistics_evaluate.json'}}],\n",
       " 'apiVersion': '0.1.0',\n",
       " 'success': 1,\n",
       " 'status': 200,\n",
       " 'method': 'validations.get',\n",
       " 'params': {'collab_id': 'flower_syncluster_collaboration',\n",
       "  'project_id': 'flower_syncluster_project',\n",
       "  'expt_id': 'flower_syncluster_experiment',\n",
       "  'run_id': 'flower_syncluster_run'}}"
      ]
     },
     "execution_count": 18,
     "metadata": {},
     "output_type": "execute_result"
    }
   ],
   "source": [
    "# Run this cell again after validation has completed to retrieve your validation statistics\n",
    "# NOTE: You do not need to wait for validation/prediction requests to complete to proceed\n",
    "driver.validations.read(\n",
    "    collab_id=\"flower_syncluster_collaboration\",\n",
    "    project_id=\"flower_syncluster_project\",\n",
    "    expt_id=\"flower_syncluster_experiment\",\n",
    "    run_id=\"flower_syncluster_run\"\n",
    ")"
   ]
  },
  {
   "cell_type": "markdown",
   "metadata": {},
   "source": [
    "#### 3B. Perform prediction(s) of combination(s)"
   ]
  },
  {
   "cell_type": "code",
   "execution_count": 19,
   "metadata": {},
   "outputs": [
    {
     "data": {
      "text/plain": [
       "{'data': [],\n",
       " 'apiVersion': '0.1.0',\n",
       " 'success': 1,\n",
       " 'status': 200,\n",
       " 'method': 'predictions.post',\n",
       " 'params': {'collab_id': 'flower_syncluster_collaboration',\n",
       "  'project_id': 'flower_syncluster_project',\n",
       "  'expt_id': 'flower_syncluster_experiment',\n",
       "  'run_id': 'flower_syncluster_run',\n",
       "  'participant_id': 'worker_1'}}"
      ]
     },
     "execution_count": 19,
     "metadata": {},
     "output_type": "execute_result"
    }
   ],
   "source": [
    "# Worker 1 requests for inferences\n",
    "driver.predictions.create(\n",
    "    tags={\"flower_syncluster_project\": [[\"berry_flower\", \"dataset\", \"data1\", \"predict\"]]},\n",
    "    participant_id=\"worker_1\",\n",
    "    collab_id=\"flower_syncluster_collaboration\",\n",
    "    project_id=\"flower_syncluster_project\",\n",
    "    expt_id=\"flower_syncluster_experiment\",\n",
    "    run_id=\"flower_syncluster_run\",\n",
    "    log_msg=False,\n",
    "    verbose=False\n",
    ")"
   ]
  },
  {
   "cell_type": "code",
   "execution_count": 20,
   "metadata": {},
   "outputs": [
    {
     "data": {
      "text/plain": [
       "{'data': [{'doc_id': '1',\n",
       "   'kind': 'Prediction',\n",
       "   'key': {'participant_id': 'worker_1',\n",
       "    'project_id': 'flower_syncluster_project',\n",
       "    'expt_id': 'flower_syncluster_experiment',\n",
       "    'run_id': 'flower_syncluster_run'},\n",
       "   'predict': {'statistics': {'accuracy': [0.525, 0.525],\n",
       "     'roc_auc_score': [0.5075, 0.5075000000000001],\n",
       "     'pr_auc_score': [0.5319890020741371, 0.4718886020618869],\n",
       "     'f_score': [0.5581395348837209, 0.48648648648648646],\n",
       "     'TPRs': [0.6, 0.45],\n",
       "     'TNRs': [0.45, 0.6],\n",
       "     'PPVs': [0.5217391304347826, 0.5294117647058824],\n",
       "     'NPVs': [0.5294117647058824, 0.5217391304347826],\n",
       "     'FPRs': [0.55, 0.4],\n",
       "     'FNRs': [0.4, 0.55],\n",
       "     'FDRs': [0.4782608695652174, 0.47058823529411764],\n",
       "     'TPs': [12, 9],\n",
       "     'TNs': [9, 12],\n",
       "     'FPs': [11, 8],\n",
       "     'FNs': [8, 11]},\n",
       "    'res_path': '/worker/outputs/flower_syncluster_collaboration/flower_syncluster_project/flower_syncluster_experiment/flower_syncluster_run/predict/inference_statistics_predict.json'}}],\n",
       " 'apiVersion': '0.1.0',\n",
       " 'success': 1,\n",
       " 'status': 200,\n",
       " 'method': 'predictions.get',\n",
       " 'params': {'collab_id': 'flower_syncluster_collaboration',\n",
       "  'project_id': 'flower_syncluster_project',\n",
       "  'expt_id': 'flower_syncluster_experiment',\n",
       "  'run_id': 'flower_syncluster_run',\n",
       "  'participant_id': 'worker_1'}}"
      ]
     },
     "execution_count": 20,
     "metadata": {},
     "output_type": "execute_result"
    }
   ],
   "source": [
    "# Run this cell again after prediction has completed to retrieve your predictions for worker 1\n",
    "# NOTE: You do not need to wait for validation/prediction requests to complete to proceed\n",
    "driver.predictions.read(\n",
    "    participant_id=\"worker_1\",\n",
    "    collab_id=\"flower_syncluster_collaboration\",\n",
    "    project_id=\"flower_syncluster_project\",\n",
    "    expt_id=\"flower_syncluster_experiment\",\n",
    "    run_id=\"flower_syncluster_run\",\n",
    ")"
   ]
  },
  {
   "cell_type": "code",
   "execution_count": 21,
   "metadata": {},
   "outputs": [
    {
     "data": {
      "text/plain": [
       "{'data': [],\n",
       " 'apiVersion': '0.1.0',\n",
       " 'success': 1,\n",
       " 'status': 200,\n",
       " 'method': 'predictions.post',\n",
       " 'params': {'collab_id': 'flower_syncluster_collaboration',\n",
       "  'project_id': 'flower_syncluster_project',\n",
       "  'expt_id': 'flower_syncluster_experiment',\n",
       "  'run_id': 'flower_syncluster_run',\n",
       "  'participant_id': 'worker_2'}}"
      ]
     },
     "execution_count": 21,
     "metadata": {},
     "output_type": "execute_result"
    }
   ],
   "source": [
    "# Worker 2 requests for inferences\n",
    "driver.predictions.create(\n",
    "    tags={\"flower_syncluster_project\": [[\"berry_flower\", \"dataset\", \"data2\", \"predict\"]]},\n",
    "    participant_id=\"worker_2\",\n",
    "    collab_id=\"flower_syncluster_collaboration\",\n",
    "    project_id=\"flower_syncluster_project\",\n",
    "    expt_id=\"flower_syncluster_experiment\",\n",
    "    run_id=\"flower_syncluster_run\",\n",
    "    log_msg=False,\n",
    "    verbose=False\n",
    ")"
   ]
  },
  {
   "cell_type": "code",
   "execution_count": 22,
   "metadata": {},
   "outputs": [
    {
     "data": {
      "text/plain": [
       "{'data': [{'doc_id': '2',\n",
       "   'kind': 'Prediction',\n",
       "   'key': {'participant_id': 'worker_2',\n",
       "    'project_id': 'flower_syncluster_project',\n",
       "    'expt_id': 'flower_syncluster_experiment',\n",
       "    'run_id': 'flower_syncluster_run'},\n",
       "   'predict': {'statistics': {'accuracy': [0.35, 0.35],\n",
       "     'roc_auc_score': [0.3825, 0.38249999999999995],\n",
       "     'pr_auc_score': [0.4537099754827022, 0.48909971195772417],\n",
       "     'f_score': [0.4090909090909091, 0.2777777777777778],\n",
       "     'TPRs': [0.45, 0.25],\n",
       "     'TNRs': [0.25, 0.45],\n",
       "     'PPVs': [0.375, 0.3125],\n",
       "     'NPVs': [0.3125, 0.375],\n",
       "     'FPRs': [0.75, 0.55],\n",
       "     'FNRs': [0.55, 0.75],\n",
       "     'FDRs': [0.625, 0.6875],\n",
       "     'TPs': [9, 5],\n",
       "     'TNs': [5, 9],\n",
       "     'FPs': [15, 11],\n",
       "     'FNs': [11, 15]},\n",
       "    'res_path': '/worker/outputs/flower_syncluster_collaboration/flower_syncluster_project/flower_syncluster_experiment/flower_syncluster_run/predict/inference_statistics_predict.json'}}],\n",
       " 'apiVersion': '0.1.0',\n",
       " 'success': 1,\n",
       " 'status': 200,\n",
       " 'method': 'predictions.get',\n",
       " 'params': {'collab_id': 'flower_syncluster_collaboration',\n",
       "  'project_id': 'flower_syncluster_project',\n",
       "  'expt_id': 'flower_syncluster_experiment',\n",
       "  'run_id': 'flower_syncluster_run',\n",
       "  'participant_id': 'worker_2'}}"
      ]
     },
     "execution_count": 22,
     "metadata": {},
     "output_type": "execute_result"
    }
   ],
   "source": [
    "# Run this cell again after prediction has completed to retrieve your predictions for worker 2\n",
    "# NOTE: You do not need to wait for validation/prediction requests to complete to proceed\n",
    "driver.predictions.read(\n",
    "    participant_id=\"worker_2\",\n",
    "    collab_id=\"flower_syncluster_collaboration\",\n",
    "    project_id=\"flower_syncluster_project\",\n",
    "    expt_id=\"flower_syncluster_experiment\",\n",
    "    run_id=\"flower_syncluster_run\"\n",
    ")"
   ]
  },
  {
   "cell_type": "code",
   "execution_count": null,
   "metadata": {},
   "outputs": [],
   "source": []
  }
 ],
 "metadata": {
  "kernelspec": {
   "display_name": "Python 3 (ipykernel)",
   "language": "python",
   "name": "python3"
  },
  "language_info": {
   "codemirror_mode": {
    "name": "ipython",
    "version": 3
   },
   "file_extension": ".py",
   "mimetype": "text/x-python",
   "name": "python",
   "nbconvert_exporter": "python",
   "pygments_lexer": "ipython3",
   "version": "3.7.11"
  }
 },
 "nbformat": 4,
 "nbformat_minor": 4
}
