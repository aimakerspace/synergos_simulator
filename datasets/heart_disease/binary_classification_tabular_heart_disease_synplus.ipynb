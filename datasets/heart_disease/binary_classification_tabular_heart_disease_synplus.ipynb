{
 "cells": [
  {
   "cell_type": "markdown",
   "metadata": {},
   "source": [
    "# Running a Federated Cycle with Synergos\n",
    "\n",
    "In a federated learning system, there are many contributory participants, known as Worker nodes, which receive a global model to train on, with their own local dataset. The dataset does not leave the individual Worker nodes at any point, and remains private to the node.\n",
    "\n",
    "The job to synchronize, orchestrate and initiate an federated learning cycle, falls on a Trusted Third Party (TTP). The TTP pushes out the global model architecture and parameters for the individual nodes to train on, calling upon the required data, based on tags, e.g \"training\", which points to relevant data on the individual nodes. At no point does the TTP receive, copy or access the Worker nodes' local datasets.\n",
    "\n",
    "![Simulated Synergos Plus Grid](../../docs/images/synplus_setup.png \"A simple Synergos Plus setup\")\n",
    "\n",
    "This tutorial aims to give you an understanding of how to use the synergos package to run a full federated learning cycle on a `Synergos Plus` grid.\n",
    "\n",
    "In a `Synergos Plus` grid, you have access to a suite of quality-of-life addons that can help facilitate distributed operations. Such components include centralized logging via [Synergos Logger](https://github.com/aimakerspace/synergos_logger), artifact management via [Synergos MLOps](https://github.com/aimakerspace/synergos_mlops), with more component support in the works.\n",
    "\n",
    "In this tutorial, you will go through the steps required by each participant (TTP and Worker), by simulating each of them locally with docker containers. Specifically, we will simulate a TTP and 2 Workers. \n",
    "\n",
    "At the end of this, we will have:\n",
    "- Connected the participants\n",
    "- Trained the model\n",
    "- Evaluate the model\n",
    "\n",
    "## About the Dataset and Task\n",
    "\n",
    "The dataset used in this notebook is on heart disease tabular data, comprising 14 predictor features, and 1 target feature for a binary class. The dataset is available in the same directory as this notebook. Within the dataset directory, `data1` is for Worker 1 and `data2` is for Worker 2. The task to be carried out will be a binary classifcation.\n",
    "\n",
    "The dataset we have provided is a processed subset of the [original Heart Disease dataset](https://archive.ics.uci.edu/ml/datasets/heart+disease).\n",
    "\n",
    "**Reference:**\n",
    "- *Dua, D. and Graff, C. (2019). UCI Machine Learning Repository [http://archive.ics.uci.edu/ml]. Irvine, CA: University of California, School of Information and Computer Science.*"
   ]
  },
  {
   "cell_type": "markdown",
   "metadata": {},
   "source": [
    "## Initiating the docker containers\n",
    "\n",
    "Before we begin, we have to start the docker containers."
   ]
  },
  {
   "cell_type": "markdown",
   "metadata": {},
   "source": [
    "### A. Initialization via `Synergos Simulator`\n",
    "\n",
    "In `Synergos Simulator`, a sandboxed environment has been created for you!\n",
    "\n",
    "By running:\n",
    "\n",
    "    `docker-compose -f docker-compose-synplus.yml up --build`\n",
    "    \n",
    "the following components will be started:\n",
    "- TTP (Basic)\n",
    "- Worker_1\n",
    "- Worker_2\n",
    "- Synergos UI\n",
    "- Synergos Logger\n",
    "- Synergos MLOps\n",
    "\n",
    "Refer to [this](https://github.com/aimakerspace/synergos_simulator) for all the pre-allocated host & port mappings. "
   ]
  },
  {
   "cell_type": "markdown",
   "metadata": {},
   "source": [
    "### B. Manual Initialization\n",
    "\n",
    "Firstly, pull the required docker images with the following commands:\n",
    "\n",
    "1. Synergos TTP (Basic): \n",
    "\n",
    "    `docker pull gcr.io/synergos-aisg/synergos_ttp:v0.1.0`\n",
    "\n",
    "2. Synergos Worker: \n",
    "\n",
    "    `docker pull gcr.io/synergos-aisg/synergos_worker:v0.1.0`\n",
    "    \n",
    "3. Synergos MLOps:\n",
    "\n",
    "    `docker pull gcr.io/synergos-aisg/synergos_mlops:v0.1.0`\n",
    "\n",
    "Next, in <u>separate</u> CLI terminals, run the following command(s):\n",
    "\n",
    "**Note: For Windows users, it is advisable to use powershell or command prompt based interfaces**\n",
    "\n",
    "**TTP**\n",
    "\n",
    "```\n",
    "docker run \n",
    "    -p 5000:5000 \n",
    "    -p 8020:8020\n",
    "    -v <directory heart_disease/ttp_outputs>:/orchestrator/outputs\n",
    "    -v <directory heart_disease/ttp_data>:/orchestrator/data\n",
    "    -v <directory heart_disease/mlflow>:/mlflow\n",
    "    --name ttp \n",
    "    gcr.io/synergos-aisg/synergos_ttp:v0.1.0 \n",
    "        --id ttp \n",
    "        --logging_variant graylog <IP Synergos Logger> <TTP port>\n",
    "```\n",
    "\n",
    "**Worker 1**\n",
    "\n",
    "```\n",
    "docker run \n",
    "    -p 5001:5000 \n",
    "    -p 8021:8020\n",
    "    -v <directory heart_disease/data1>:/worker/data \n",
    "    -v <directory heart_disease/outputs_1>:/worker/outputs \n",
    "    --name worker_1 \n",
    "    gcr.io/synergos-aisg/synergos_worker:v0.1.0 \n",
    "        --id worker_1 \n",
    "        --logging_variant graylog <IP Synergos Logger> <Worker port>\n",
    "```\n",
    "\n",
    "**Worker 2**\n",
    "\n",
    "```\n",
    "docker run \n",
    "    -p 5002:5000 \n",
    "    -p 8022:8020\n",
    "    -v <directory heart_disease/data2>:/worker/data \n",
    "    -v <directory heart_disease/outputs_2>:/worker/outputs \n",
    "    --name worker_2 \n",
    "    gcr.io/synergos-aisg/synergos_worker:v0.1.0\n",
    "        --id worker_2 \n",
    "        --logging_variant graylog <IP Synergos Logger> <Worker port>\n",
    "```\n",
    "\n",
    "**Synergos MLOps**\n",
    "\n",
    "```\n",
    "docker run --rm \n",
    "    -p 5500:5500 \n",
    "    -v /path/to/mlflow_test/:/mlflow    # <-- IMPT! Same as orchestrator's\n",
    "    --name synmlops \n",
    "    gcr.io/synergos-aisg/synergos_mlops:v0.1.0\n",
    "```\n",
    "\n",
    "**Synergos UI**\n",
    "\n",
    "- Refer to these [instructions](https://github.com/aimakerspace/synergos_ui) to deploy `Synergos UI`.\n",
    "\n",
    "**Synergos Logger**\n",
    "\n",
    "- Refer to these [instructions](https://github.com/aimakerspace/synergos_logger) to deploy `Synergos Logger`.\n"
   ]
  },
  {
   "cell_type": "markdown",
   "metadata": {},
   "source": [
    "Once ready, for each terminal, you should see a REST server running on http://0.0.0.0:5000 of the container.\n",
    "\n",
    "You are now ready for the next step."
   ]
  },
  {
   "cell_type": "markdown",
   "metadata": {},
   "source": [
    "## Configurations"
   ]
  },
  {
   "cell_type": "markdown",
   "metadata": {},
   "source": [
    "### A. Configuring `Synergos Simulator`\n",
    "\n",
    "All hosts & ports have already been pre-allocated!\n",
    "\n",
    "Refer to [this](https://github.com/aimakerspace/synergos_simulator) for all the pre-allocated host & port mappings."
   ]
  },
  {
   "cell_type": "markdown",
   "metadata": {},
   "source": [
    "### B. Configuring your manual setup\n",
    "\n",
    "In a new terminal, run `docker inspect bridge` and find the IPv4Address for each container. Ideally, the containers should have the following addresses:\n",
    "- ttp address: `172.17.0.2`\n",
    "- worker_1 address: `172.17.0.3`\n",
    "- worker_2 address: `172.17.0.4`\n",
    "- UI address: `172.17.0.5`\n",
    "- Logger address: `172.17.0.8`\n",
    "- MLOps address: `172.17.0.9`\n",
    "\n",
    "If not, just note the relevant IP addresses for each docker container.\n",
    "\n",
    "Run the following cells below.\n",
    "\n",
    "**Note: For Windows users, `host` should be Docker Desktop VM's IP. Follow [this](https://stackoverflow.com/questions/58073936/how-to-get-ip-address-of-docker-desktop-vm) on instructions to find IP**"
   ]
  },
  {
   "cell_type": "code",
   "execution_count": 1,
   "metadata": {},
   "outputs": [],
   "source": [
    "from synergos import Driver\n",
    "\n",
    "host = \"172.19.0.2\"\n",
    "port = 5000\n",
    "\n",
    "# Initiate Driver\n",
    "driver = Driver(host=host, port=port)"
   ]
  },
  {
   "cell_type": "markdown",
   "metadata": {},
   "source": [
    "## Phase 1: Registration\n",
    "\n",
    "Submitting Orchestrator & Participant metadata"
   ]
  },
  {
   "cell_type": "markdown",
   "metadata": {},
   "source": [
    "#### 1A. Orchestrator creates a collaboration"
   ]
  },
  {
   "cell_type": "code",
   "execution_count": 2,
   "metadata": {},
   "outputs": [
    {
     "data": {
      "text/plain": [
       "{'data': {'doc_id': '1',\n",
       "  'kind': 'Collaboration',\n",
       "  'key': {'collab_id': 'heart_disease_synplus_collaboration'},\n",
       "  'relations': {'Project': [],\n",
       "   'Experiment': [],\n",
       "   'Run': [],\n",
       "   'Registration': [],\n",
       "   'Tag': [],\n",
       "   'Model': [],\n",
       "   'Validation': [],\n",
       "   'Prediction': []},\n",
       "  'logs': {'host': '172.19.0.10',\n",
       "   'ports': {'sysmetrics': 9100,\n",
       "    'director': 9200,\n",
       "    'ttp': 9300,\n",
       "    'worker': 9400,\n",
       "    'main': 9000,\n",
       "    'ui': 9000},\n",
       "   'secure': False},\n",
       "  'mlops': {'host': '172.19.0.11',\n",
       "   'ports': {'main': 5500, 'ui': 5500},\n",
       "   'secure': False}},\n",
       " 'apiVersion': '0.1.0',\n",
       " 'success': 1,\n",
       " 'status': 201,\n",
       " 'method': 'collaborations.post',\n",
       " 'params': {}}"
      ]
     },
     "execution_count": 2,
     "metadata": {},
     "output_type": "execute_result"
    }
   ],
   "source": [
    "collab_task = driver.collaborations\n",
    "\n",
    "collab_task.configure_logger(\n",
    "    host=\"172.19.0.10\", \n",
    "    port=9000, \n",
    "    sysmetrics_port=9100, \n",
    "    director_port=9200, \n",
    "    ttp_port=9300, \n",
    "    worker_port=9400, \n",
    "    ui_port=9000, \n",
    "    secure=False\n",
    ")\n",
    "\n",
    "collab_task.configure_mlops( \n",
    "    host=\"172.19.0.11\", \n",
    "    port=5500, \n",
    "    ui_port=5500, \n",
    "    secure=False\n",
    ")\n",
    "collab_task.create('heart_disease_synplus_collaboration')"
   ]
  },
  {
   "cell_type": "markdown",
   "metadata": {},
   "source": [
    "#### 1B. Orchestrator creates a project"
   ]
  },
  {
   "cell_type": "code",
   "execution_count": 3,
   "metadata": {},
   "outputs": [
    {
     "data": {
      "text/plain": [
       "{'data': {'doc_id': '1',\n",
       "  'kind': 'Project',\n",
       "  'key': {'collab_id': 'heart_disease_synplus_collaboration',\n",
       "   'project_id': 'heart_disease_synplus_project'},\n",
       "  'relations': {'Experiment': [],\n",
       "   'Run': [],\n",
       "   'Registration': [],\n",
       "   'Tag': [],\n",
       "   'Model': [],\n",
       "   'Validation': [],\n",
       "   'Prediction': []},\n",
       "  'action': 'classify',\n",
       "  'incentives': {'tier_2': [], 'tier_1': []}},\n",
       " 'apiVersion': '0.1.0',\n",
       " 'success': 1,\n",
       " 'status': 201,\n",
       " 'method': 'projects.post',\n",
       " 'params': {'collab_id': 'heart_disease_synplus_collaboration'}}"
      ]
     },
     "execution_count": 3,
     "metadata": {},
     "output_type": "execute_result"
    }
   ],
   "source": [
    "driver.projects.create(\n",
    "    collab_id=\"heart_disease_synplus_collaboration\",\n",
    "    project_id=\"heart_disease_synplus_project\",\n",
    "    action=\"classify\",\n",
    "    incentives={\n",
    "        'tier_1': [],\n",
    "        'tier_2': [],\n",
    "    }\n",
    ")"
   ]
  },
  {
   "cell_type": "markdown",
   "metadata": {},
   "source": [
    "#### 1C. Orchestrator creates an experiment"
   ]
  },
  {
   "cell_type": "code",
   "execution_count": 4,
   "metadata": {},
   "outputs": [
    {
     "data": {
      "text/plain": [
       "{'apiVersion': '0.1.0',\n",
       " 'success': 1,\n",
       " 'status': 201,\n",
       " 'method': 'experiments.post',\n",
       " 'params': {'collab_id': 'heart_disease_synplus_collaboration',\n",
       "  'project_id': 'heart_disease_synplus_project'},\n",
       " 'data': {'created_at': '2021-09-16 00:18:24 N',\n",
       "  'key': {'collab_id': 'heart_disease_synplus_collaboration',\n",
       "   'expt_id': 'heart_disease_synplus_experiment',\n",
       "   'project_id': 'heart_disease_synplus_project'},\n",
       "  'model': [{'activation': 'sigmoid',\n",
       "    'is_input': True,\n",
       "    'l_type': 'Linear',\n",
       "    'structure': {'bias': True, 'in_features': 13, 'out_features': 1}}],\n",
       "  'relations': {'Run': [], 'Model': [], 'Validation': [], 'Prediction': []},\n",
       "  'doc_id': 1,\n",
       "  'kind': 'Experiment'}}"
      ]
     },
     "execution_count": 4,
     "metadata": {},
     "output_type": "execute_result"
    }
   ],
   "source": [
    "driver.experiments.create(\n",
    "    collab_id=\"heart_disease_synplus_collaboration\",\n",
    "    project_id=\"heart_disease_synplus_project\",\n",
    "    expt_id=\"heart_disease_synplus_experiment\",\n",
    "    model=[\n",
    "        {\n",
    "            \"activation\": \"sigmoid\",\n",
    "            \"is_input\": True,\n",
    "            \"l_type\": \"Linear\",\n",
    "            \"structure\": {\n",
    "                \"bias\": True,\n",
    "                \"in_features\": 13,\n",
    "                \"out_features\": 1 \n",
    "            }\n",
    "        }\n",
    "    ]\n",
    ")"
   ]
  },
  {
   "cell_type": "markdown",
   "metadata": {},
   "source": [
    "#### 1D. Orchestrator creates a run"
   ]
  },
  {
   "cell_type": "code",
   "execution_count": 5,
   "metadata": {},
   "outputs": [
    {
     "data": {
      "text/plain": [
       "{'data': {'doc_id': '1',\n",
       "  'kind': 'Run',\n",
       "  'key': {'collab_id': 'heart_disease_synplus_collaboration',\n",
       "   'project_id': 'heart_disease_synplus_project',\n",
       "   'expt_id': 'heart_disease_synplus_experiment',\n",
       "   'run_id': 'heart_disease_synplus_run'},\n",
       "  'relations': {'Model': [], 'Validation': [], 'Prediction': []},\n",
       "  'rounds': 2,\n",
       "  'epochs': 1,\n",
       "  'lr': 0.001,\n",
       "  'lr_decay': 0.1,\n",
       "  'weight_decay': 0.0,\n",
       "  'seed': 42,\n",
       "  'precision_fractional': 5,\n",
       "  'mu': 0.1,\n",
       "  'l1_lambda': 0.0,\n",
       "  'l2_lambda': 0.0,\n",
       "  'base_lr': 0.0005,\n",
       "  'max_lr': 0.005,\n",
       "  'patience': 10,\n",
       "  'delta': 0.0},\n",
       " 'apiVersion': '0.1.0',\n",
       " 'success': 1,\n",
       " 'status': 201,\n",
       " 'method': 'runs.post',\n",
       " 'params': {'collab_id': 'heart_disease_synplus_collaboration',\n",
       "  'project_id': 'heart_disease_synplus_project',\n",
       "  'expt_id': 'heart_disease_synplus_experiment'}}"
      ]
     },
     "execution_count": 5,
     "metadata": {},
     "output_type": "execute_result"
    }
   ],
   "source": [
    "driver.runs.create(\n",
    "    collab_id=\"heart_disease_synplus_collaboration\",\n",
    "    project_id=\"heart_disease_synplus_project\",\n",
    "    expt_id=\"heart_disease_synplus_experiment\",\n",
    "    run_id=\"heart_disease_synplus_run\",\n",
    "    rounds=2, \n",
    "    epochs=1,\n",
    "    base_lr=0.0005,\n",
    "    max_lr=0.005,\n",
    "    criterion=\"NLLLoss\"\n",
    ")"
   ]
  },
  {
   "cell_type": "markdown",
   "metadata": {},
   "source": [
    "#### 1E. Participants registers their servers' configurations and roles"
   ]
  },
  {
   "cell_type": "code",
   "execution_count": 7,
   "metadata": {},
   "outputs": [
    {
     "data": {
      "text/plain": [
       "{'data': {'doc_id': '1',\n",
       "  'kind': 'Participant',\n",
       "  'key': {'participant_id': 'worker_1'},\n",
       "  'relations': {'Registration': [{'doc_id': '1',\n",
       "     'kind': 'Registration',\n",
       "     'key': {'collab_id': 'heart_disease_synplus_collaboration',\n",
       "      'project_id': 'heart_disease_synplus_project',\n",
       "      'participant_id': 'worker_1'},\n",
       "     'collaboration': {'catalogue': {},\n",
       "      'logs': {},\n",
       "      'meter': {},\n",
       "      'mlops': {},\n",
       "      'mq': {}},\n",
       "     'project': {'action': None, 'incentives': {}, 'start_at': None},\n",
       "     'participant': {'id': None,\n",
       "      'category': [],\n",
       "      'summary': None,\n",
       "      'phone': None,\n",
       "      'email': None,\n",
       "      'socials': {}},\n",
       "     'role': 'host',\n",
       "     'n_count': 1,\n",
       "     'node_0': {'host': '172.19.0.3',\n",
       "      'port': 8020,\n",
       "      'log_msgs': True,\n",
       "      'verbose': True,\n",
       "      'f_port': 5000}}],\n",
       "   'Tag': []},\n",
       "  'id': 'worker_1'},\n",
       " 'apiVersion': '0.1.0',\n",
       " 'success': 1,\n",
       " 'status': 201,\n",
       " 'method': 'participants.post',\n",
       " 'params': {}}"
      ]
     },
     "metadata": {},
     "output_type": "display_data"
    },
    {
     "data": {
      "text/plain": [
       "{'data': {'doc_id': '2',\n",
       "  'kind': 'Participant',\n",
       "  'key': {'participant_id': 'worker_2'},\n",
       "  'relations': {'Registration': [], 'Tag': []},\n",
       "  'id': 'worker_2'},\n",
       " 'apiVersion': '0.1.0',\n",
       " 'success': 1,\n",
       " 'status': 201,\n",
       " 'method': 'participants.post',\n",
       " 'params': {}}"
      ]
     },
     "metadata": {},
     "output_type": "display_data"
    }
   ],
   "source": [
    "participant_resp_1 = driver.participants.create(\n",
    "    participant_id=\"worker_1\",\n",
    ")\n",
    "\n",
    "display(participant_resp_1)\n",
    "\n",
    "participant_resp_2 = driver.participants.create(\n",
    "    participant_id=\"worker_2\",\n",
    ")\n",
    "\n",
    "display(participant_resp_2)"
   ]
  },
  {
   "cell_type": "code",
   "execution_count": 8,
   "metadata": {},
   "outputs": [
    {
     "data": {
      "text/plain": [
       "{'data': {'doc_id': '1',\n",
       "  'kind': 'Registration',\n",
       "  'key': {'collab_id': 'heart_disease_synplus_collaboration',\n",
       "   'project_id': 'heart_disease_synplus_project',\n",
       "   'participant_id': 'worker_1'},\n",
       "  'relations': {'Tag': []},\n",
       "  'collaboration': {'catalogue': {},\n",
       "   'logs': {'host': '172.19.0.10',\n",
       "    'ports': {'sysmetrics': 9100,\n",
       "     'director': 9200,\n",
       "     'ttp': 9300,\n",
       "     'worker': 9400,\n",
       "     'main': 9000,\n",
       "     'ui': 9000},\n",
       "    'secure': False},\n",
       "   'meter': {},\n",
       "   'mlops': {'host': '172.19.0.11',\n",
       "    'ports': {'main': 5500, 'ui': 5500},\n",
       "    'secure': False},\n",
       "   'mq': {}},\n",
       "  'project': {'action': 'classify',\n",
       "   'incentives': {'tier_2': [], 'tier_1': []},\n",
       "   'start_at': None},\n",
       "  'participant': {'id': 'worker_1',\n",
       "   'category': [],\n",
       "   'summary': None,\n",
       "   'phone': None,\n",
       "   'email': None,\n",
       "   'socials': {}},\n",
       "  'role': 'host',\n",
       "  'n_count': 1,\n",
       "  'node_0': {'host': '172.19.0.3',\n",
       "   'port': 8020,\n",
       "   'log_msgs': True,\n",
       "   'verbose': True,\n",
       "   'f_port': 5000}},\n",
       " 'apiVersion': '0.1.0',\n",
       " 'success': 1,\n",
       " 'status': 201,\n",
       " 'method': 'registration.post',\n",
       " 'params': {'collab_id': 'heart_disease_synplus_collaboration',\n",
       "  'project_id': 'heart_disease_synplus_project',\n",
       "  'participant_id': 'worker_1'}}"
      ]
     },
     "execution_count": 8,
     "metadata": {},
     "output_type": "execute_result"
    }
   ],
   "source": [
    "registration_task = driver.registrations\n",
    "\n",
    "# Add and register worker_1 node\n",
    "registration_task.add_node(\n",
    "    host='172.19.0.3',\n",
    "    port=8020,\n",
    "    f_port=5000,\n",
    "    log_msgs=True,\n",
    "    verbose=True\n",
    ")\n",
    "\n",
    "registration_task.create(\n",
    "    collab_id=\"heart_disease_synplus_collaboration\",\n",
    "    project_id=\"heart_disease_synplus_project\",\n",
    "    participant_id=\"worker_1\",\n",
    "    role=\"host\"\n",
    ")"
   ]
  },
  {
   "cell_type": "code",
   "execution_count": 9,
   "metadata": {},
   "outputs": [
    {
     "data": {
      "text/plain": [
       "{'data': {'doc_id': '2',\n",
       "  'kind': 'Registration',\n",
       "  'key': {'collab_id': 'heart_disease_synplus_collaboration',\n",
       "   'project_id': 'heart_disease_synplus_project',\n",
       "   'participant_id': 'worker_2'},\n",
       "  'relations': {'Tag': []},\n",
       "  'collaboration': {'catalogue': {},\n",
       "   'logs': {'host': '172.19.0.10',\n",
       "    'ports': {'sysmetrics': 9100,\n",
       "     'director': 9200,\n",
       "     'ttp': 9300,\n",
       "     'worker': 9400,\n",
       "     'main': 9000,\n",
       "     'ui': 9000},\n",
       "    'secure': False},\n",
       "   'meter': {},\n",
       "   'mlops': {'host': '172.19.0.11',\n",
       "    'ports': {'main': 5500, 'ui': 5500},\n",
       "    'secure': False},\n",
       "   'mq': {}},\n",
       "  'project': {'action': 'classify',\n",
       "   'incentives': {'tier_2': [], 'tier_1': []},\n",
       "   'start_at': None},\n",
       "  'participant': {'id': 'worker_2',\n",
       "   'category': [],\n",
       "   'summary': None,\n",
       "   'phone': None,\n",
       "   'email': None,\n",
       "   'socials': {}},\n",
       "  'role': 'guest',\n",
       "  'n_count': 1,\n",
       "  'node_0': {'host': '172.19.0.4',\n",
       "   'port': 8020,\n",
       "   'log_msgs': True,\n",
       "   'verbose': True,\n",
       "   'f_port': 5000}},\n",
       " 'apiVersion': '0.1.0',\n",
       " 'success': 1,\n",
       " 'status': 201,\n",
       " 'method': 'registration.post',\n",
       " 'params': {'collab_id': 'heart_disease_synplus_collaboration',\n",
       "  'project_id': 'heart_disease_synplus_project',\n",
       "  'participant_id': 'worker_2'}}"
      ]
     },
     "execution_count": 9,
     "metadata": {},
     "output_type": "execute_result"
    }
   ],
   "source": [
    "registration_task = driver.registrations\n",
    "\n",
    "# Add and register worker_2 node\n",
    "registration_task.add_node(\n",
    "    host='172.19.0.4',\n",
    "    port=8020,\n",
    "    f_port=5000,\n",
    "    log_msgs=True,\n",
    "    verbose=True\n",
    ")\n",
    "\n",
    "registration_task.create(\n",
    "    collab_id=\"heart_disease_synplus_collaboration\",\n",
    "    project_id=\"heart_disease_synplus_project\",\n",
    "    participant_id=\"worker_2\",\n",
    "    role=\"guest\"\n",
    ")"
   ]
  },
  {
   "cell_type": "markdown",
   "metadata": {},
   "source": [
    "#### 1F. Participants registers their tags for a specific project"
   ]
  },
  {
   "cell_type": "code",
   "execution_count": 10,
   "metadata": {},
   "outputs": [
    {
     "data": {
      "text/plain": [
       "{'data': {'doc_id': '1',\n",
       "  'kind': 'Tag',\n",
       "  'key': {'collab_id': 'heart_disease_synplus_collaboration',\n",
       "   'project_id': 'heart_disease_synplus_project',\n",
       "   'participant_id': 'worker_1'},\n",
       "  'train': [['heart_disease', 'dataset', 'data1', 'iid_1']],\n",
       "  'evaluate': [['heart_disease', 'dataset', 'data1', 'non_iid_1']],\n",
       "  'predict': []},\n",
       " 'apiVersion': '0.1.0',\n",
       " 'success': 1,\n",
       " 'status': 201,\n",
       " 'method': 'tag.post',\n",
       " 'params': {'collab_id': 'heart_disease_synplus_collaboration',\n",
       "  'project_id': 'heart_disease_synplus_project',\n",
       "  'participant_id': 'worker_1'}}"
      ]
     },
     "execution_count": 10,
     "metadata": {},
     "output_type": "execute_result"
    }
   ],
   "source": [
    "# Worker 1 declares their data tags\n",
    "driver.tags.create(\n",
    "    collab_id=\"heart_disease_synplus_collaboration\",\n",
    "    project_id=\"heart_disease_synplus_project\",\n",
    "    participant_id=\"worker_1\",\n",
    "    train=[[\"heart_disease\", \"dataset\", \"data1\", \"iid_1\"]],\n",
    "    evaluate=[[\"heart_disease\", \"dataset\", \"data1\", \"non_iid_1\"]]\n",
    ")"
   ]
  },
  {
   "cell_type": "code",
   "execution_count": 11,
   "metadata": {},
   "outputs": [
    {
     "data": {
      "text/plain": [
       "{'data': {'doc_id': '2',\n",
       "  'kind': 'Tag',\n",
       "  'key': {'collab_id': 'heart_disease_synplus_collaboration',\n",
       "   'project_id': 'heart_disease_synplus_project',\n",
       "   'participant_id': 'worker_2'},\n",
       "  'train': [['heart_disease', 'dataset', 'data2', 'iid_2']],\n",
       "  'evaluate': [['heart_disease', 'dataset', 'data2', 'non_iid_2']],\n",
       "  'predict': []},\n",
       " 'apiVersion': '0.1.0',\n",
       " 'success': 1,\n",
       " 'status': 201,\n",
       " 'method': 'tag.post',\n",
       " 'params': {'collab_id': 'heart_disease_synplus_collaboration',\n",
       "  'project_id': 'heart_disease_synplus_project',\n",
       "  'participant_id': 'worker_2'}}"
      ]
     },
     "execution_count": 11,
     "metadata": {},
     "output_type": "execute_result"
    }
   ],
   "source": [
    "# Worker 2 declares their data tags\n",
    "driver.tags.create(\n",
    "    collab_id=\"heart_disease_synplus_collaboration\",\n",
    "    project_id=\"heart_disease_synplus_project\",\n",
    "    participant_id=\"worker_2\",\n",
    "    train=[[\"heart_disease\", \"dataset\", \"data2\", \"iid_2\"]],\n",
    "    evaluate=[[\"heart_disease\", \"dataset\", \"data2\", \"non_iid_2\"]]\n",
    ")"
   ]
  },
  {
   "cell_type": "markdown",
   "metadata": {},
   "source": [
    "## Phase 2: \n",
    "Alignment, Training & Optimisation"
   ]
  },
  {
   "cell_type": "markdown",
   "metadata": {},
   "source": [
    "#### 2A. Perform multiple feature alignment to dynamically configure datasets and models for cross-grid compatibility"
   ]
  },
  {
   "cell_type": "code",
   "execution_count": 12,
   "metadata": {
    "scrolled": false
   },
   "outputs": [
    {
     "data": {
      "text/plain": [
       "{'data': [{'doc_id': '1',\n",
       "   'kind': 'Alignment',\n",
       "   'key': {'collab_id': 'heart_disease_synplus_collaboration',\n",
       "    'project_id': 'heart_disease_synplus_project',\n",
       "    'participant_id': 'worker_1'},\n",
       "   'train': {'X': [], 'y': []},\n",
       "   'evaluate': {'X': [], 'y': []},\n",
       "   'predict': {'X': [], 'y': []}},\n",
       "  {'doc_id': '2',\n",
       "   'kind': 'Alignment',\n",
       "   'key': {'collab_id': 'heart_disease_synplus_collaboration',\n",
       "    'project_id': 'heart_disease_synplus_project',\n",
       "    'participant_id': 'worker_2'},\n",
       "   'train': {'X': [], 'y': []},\n",
       "   'evaluate': {'X': [], 'y': []},\n",
       "   'predict': {'X': [], 'y': []}}],\n",
       " 'apiVersion': '0.1.0',\n",
       " 'success': 1,\n",
       " 'status': 201,\n",
       " 'method': 'alignments.post',\n",
       " 'params': {'collab_id': 'heart_disease_synplus_collaboration',\n",
       "  'project_id': 'heart_disease_synplus_project'}}"
      ]
     },
     "execution_count": 12,
     "metadata": {},
     "output_type": "execute_result"
    }
   ],
   "source": [
    "driver.alignments.create(\n",
    "    collab_id=\"heart_disease_synplus_collaboration\",\n",
    "    project_id=\"heart_disease_synplus_project\",\n",
    "    verbose=False,\n",
    "    log_msg=False\n",
    ")"
   ]
  },
  {
   "cell_type": "markdown",
   "metadata": {},
   "source": [
    "#### 2B. Trigger training across the federated grid"
   ]
  },
  {
   "cell_type": "code",
   "execution_count": 13,
   "metadata": {},
   "outputs": [
    {
     "data": {
      "text/plain": [
       "{'data': [{'doc_id': '1',\n",
       "   'kind': 'Model',\n",
       "   'key': {'project_id': 'heart_disease_synplus_project',\n",
       "    'expt_id': 'heart_disease_synplus_experiment',\n",
       "    'run_id': 'heart_disease_synplus_run'},\n",
       "   'global': {'origin': 'ttp',\n",
       "    'path': '/orchestrator/outputs/heart_disease_synplus_collaboration/heart_disease_synplus_project/heart_disease_synplus_experiment/heart_disease_synplus_run/global_model.pt',\n",
       "    'loss_history': '/orchestrator/outputs/heart_disease_synplus_collaboration/heart_disease_synplus_project/heart_disease_synplus_experiment/heart_disease_synplus_run/global_loss_history.json'},\n",
       "   'local_2': {'origin': 'worker_2',\n",
       "    'path': '/orchestrator/outputs/heart_disease_synplus_collaboration/heart_disease_synplus_project/heart_disease_synplus_experiment/heart_disease_synplus_run/local_model_worker_2.pt',\n",
       "    'loss_history': '/orchestrator/outputs/heart_disease_synplus_collaboration/heart_disease_synplus_project/heart_disease_synplus_experiment/heart_disease_synplus_run/local_loss_history_worker_2.json'},\n",
       "   'local_1': {'origin': 'worker_1',\n",
       "    'path': '/orchestrator/outputs/heart_disease_synplus_collaboration/heart_disease_synplus_project/heart_disease_synplus_experiment/heart_disease_synplus_run/local_model_worker_1.pt',\n",
       "    'loss_history': '/orchestrator/outputs/heart_disease_synplus_collaboration/heart_disease_synplus_project/heart_disease_synplus_experiment/heart_disease_synplus_run/local_loss_history_worker_1.json'}}],\n",
       " 'apiVersion': '0.1.0',\n",
       " 'success': 1,\n",
       " 'status': 200,\n",
       " 'method': 'models.post',\n",
       " 'params': {'collab_id': 'heart_disease_synplus_collaboration',\n",
       "  'project_id': 'heart_disease_synplus_project',\n",
       "  'expt_id': 'heart_disease_synplus_experiment',\n",
       "  'run_id': 'heart_disease_synplus_run'}}"
      ]
     },
     "metadata": {},
     "output_type": "display_data"
    }
   ],
   "source": [
    "model_resp = driver.models.create(\n",
    "    collab_id=\"heart_disease_synplus_collaboration\",\n",
    "    project_id=\"heart_disease_synplus_project\",\n",
    "    expt_id=\"heart_disease_synplus_experiment\",\n",
    "    run_id=\"heart_disease_synplus_run\",\n",
    "    log_msg=False,\n",
    "    verbose=False\n",
    ")\n",
    "display(model_resp)"
   ]
  },
  {
   "cell_type": "markdown",
   "metadata": {},
   "source": [
    "## Phase 3: EVALUATE \n",
    "Validation & Predictions"
   ]
  },
  {
   "cell_type": "markdown",
   "metadata": {},
   "source": [
    "#### 3A. Perform validation(s) of combination(s)"
   ]
  },
  {
   "cell_type": "code",
   "execution_count": 14,
   "metadata": {},
   "outputs": [
    {
     "data": {
      "text/plain": [
       "{'data': [{'doc_id': '1',\n",
       "   'kind': 'Validation',\n",
       "   'key': {'participant_id': 'worker_1',\n",
       "    'collab_id': 'heart_disease_synplus_collaboration',\n",
       "    'project_id': 'heart_disease_synplus_project',\n",
       "    'expt_id': 'heart_disease_synplus_experiment',\n",
       "    'run_id': 'heart_disease_synplus_run'},\n",
       "   'evaluate': {'statistics': {'accuracy': [0.5508474576271186,\n",
       "      0.7784503631961259,\n",
       "      0.851089588377724,\n",
       "      0.15375302663438256,\n",
       "      0.9539951573849879],\n",
       "     'roc_auc_score': [0.5818903468499156,\n",
       "      0.3891155980844302,\n",
       "      0.5190814263394908,\n",
       "      0.49965769593956566,\n",
       "      0.5726355864279989],\n",
       "     'pr_auc_score': [0.5427311556032566,\n",
       "      0.16643826569934234,\n",
       "      0.16875920008283063,\n",
       "      0.1711121039497303,\n",
       "      0.06824169697771335],\n",
       "     'f_score': [0.0, 0.01081081081081081, 0.016, 0.2508038585209003, 0.0],\n",
       "     'TPRs': [0.0, 0.005780346820809248, 0.008064516129032258, 0.975, 0.0],\n",
       "     'TNRs': [1.0, 0.9831546707503829, 1.0, 0.014164305949008499, 1.0],\n",
       "     'PPVs': [0.0, 0.08333333333333333, 1.0, 0.14391143911439114, 0.0],\n",
       "     'NPVs': [0.5508474576271186,\n",
       "      0.7886977886977887,\n",
       "      0.850909090909091,\n",
       "      0.7692307692307693,\n",
       "      0.9539951573849879],\n",
       "     'FPRs': [0.0, 0.016845329249617153, 0.0, 0.9858356940509915, 0.0],\n",
       "     'FNRs': [1.0, 0.9942196531791907, 0.9919354838709677, 0.025, 1.0],\n",
       "     'FDRs': [0.0, 0.9166666666666666, 0.0, 0.8560885608856088, 0.0],\n",
       "     'TPs': [0, 1, 1, 117, 0],\n",
       "     'TNs': [455, 642, 702, 10, 788],\n",
       "     'FPs': [0, 11, 0, 696, 0],\n",
       "     'FNs': [371, 172, 123, 3, 38]},\n",
       "    'res_path': '/worker/outputs/heart_disease_synplus_collaboration/heart_disease_synplus_project/heart_disease_synplus_experiment/heart_disease_synplus_run/evaluate/inference_statistics_evaluate.json'}},\n",
       "  {'doc_id': '2',\n",
       "   'kind': 'Validation',\n",
       "   'key': {'participant_id': 'worker_2',\n",
       "    'collab_id': 'heart_disease_synplus_collaboration',\n",
       "    'project_id': 'heart_disease_synplus_project',\n",
       "    'expt_id': 'heart_disease_synplus_experiment',\n",
       "    'run_id': 'heart_disease_synplus_run'},\n",
       "   'evaluate': {'statistics': {'accuracy': [0.6033519553072626,\n",
       "      0.7695530726256983,\n",
       "      0.8268156424581006,\n",
       "      0.21508379888268156,\n",
       "      0.9511173184357542],\n",
       "     'roc_auc_score': [0.5027957094418363,\n",
       "      0.43774135313176243,\n",
       "      0.4550593940714908,\n",
       "      0.5068738229755179,\n",
       "      0.6336060415355569],\n",
       "     'pr_auc_score': [0.38416399940506385,\n",
       "      0.18633857267574722,\n",
       "      0.17338011510134946,\n",
       "      0.17441341113195807,\n",
       "      0.07074474736182354],\n",
       "     'f_score': [0.0, 0.09836065573770492, 0.03125, 0.29925187032418954, 0.0],\n",
       "     'TPRs': [0.0,\n",
       "      0.061224489795918366,\n",
       "      0.016129032258064516,\n",
       "      0.9523809523809523,\n",
       "      0.0],\n",
       "     'TNRs': [1.0,\n",
       "      0.9525483304042179,\n",
       "      0.9966216216216216,\n",
       "      0.0576271186440678,\n",
       "      1.0],\n",
       "     'PPVs': [0.0, 0.25, 0.5, 0.17751479289940827, 0.0],\n",
       "     'NPVs': [0.6033519553072626,\n",
       "      0.7970588235294118,\n",
       "      0.8286516853932584,\n",
       "      0.85,\n",
       "      0.9511173184357542],\n",
       "     'FPRs': [0.0,\n",
       "      0.04745166959578207,\n",
       "      0.0033783783783783786,\n",
       "      0.9423728813559322,\n",
       "      0.0],\n",
       "     'FNRs': [1.0,\n",
       "      0.9387755102040817,\n",
       "      0.9838709677419355,\n",
       "      0.047619047619047616,\n",
       "      1.0],\n",
       "     'FDRs': [0.0, 0.75, 0.5, 0.8224852071005917, 0.0],\n",
       "     'TPs': [0, 9, 2, 120, 0],\n",
       "     'TNs': [432, 542, 590, 34, 681],\n",
       "     'FPs': [0, 27, 2, 556, 0],\n",
       "     'FNs': [284, 138, 122, 6, 35]},\n",
       "    'res_path': '/worker/outputs/heart_disease_synplus_collaboration/heart_disease_synplus_project/heart_disease_synplus_experiment/heart_disease_synplus_run/evaluate/inference_statistics_evaluate.json'}}],\n",
       " 'apiVersion': '0.1.0',\n",
       " 'success': 1,\n",
       " 'status': 200,\n",
       " 'method': 'validations.post',\n",
       " 'params': {'collab_id': 'heart_disease_synplus_collaboration',\n",
       "  'project_id': 'heart_disease_synplus_project',\n",
       "  'expt_id': 'heart_disease_synplus_experiment',\n",
       "  'run_id': 'heart_disease_synplus_run'}}"
      ]
     },
     "execution_count": 14,
     "metadata": {},
     "output_type": "execute_result"
    }
   ],
   "source": [
    "# Orchestrator performs post-mortem validation\n",
    "driver.validations.create(\n",
    "    collab_id=\"heart_disease_synplus_collaboration\",\n",
    "    project_id=\"heart_disease_synplus_project\",\n",
    "    expt_id=\"heart_disease_synplus_experiment\",\n",
    "    run_id=\"heart_disease_synplus_run\",\n",
    "    log_msg=False,\n",
    "    verbose=False\n",
    ")"
   ]
  },
  {
   "cell_type": "markdown",
   "metadata": {},
   "source": [
    "#### 3B. Perform prediction(s) of combination(s)"
   ]
  },
  {
   "cell_type": "code",
   "execution_count": 15,
   "metadata": {},
   "outputs": [
    {
     "data": {
      "text/plain": [
       "{'data': [{'doc_id': '1',\n",
       "   'kind': 'Prediction',\n",
       "   'key': {'participant_id': 'worker_1',\n",
       "    'project_id': 'heart_disease_synplus_project',\n",
       "    'expt_id': 'heart_disease_synplus_experiment',\n",
       "    'run_id': 'heart_disease_synplus_run'},\n",
       "   'predict': {'statistics': {'accuracy': [0.5508474576271186,\n",
       "      0.7784503631961259,\n",
       "      0.851089588377724,\n",
       "      0.15375302663438256,\n",
       "      0.9539951573849879],\n",
       "     'roc_auc_score': [0.5818903468499156,\n",
       "      0.3891155980844302,\n",
       "      0.5190814263394908,\n",
       "      0.49965769593956566,\n",
       "      0.5726355864279989],\n",
       "     'pr_auc_score': [0.5427311556032566,\n",
       "      0.16643826569934234,\n",
       "      0.16875920008283063,\n",
       "      0.1711121039497303,\n",
       "      0.06824169697771335],\n",
       "     'f_score': [0.0, 0.01081081081081081, 0.016, 0.2508038585209003, 0.0],\n",
       "     'TPRs': [0.0, 0.005780346820809248, 0.008064516129032258, 0.975, 0.0],\n",
       "     'TNRs': [1.0, 0.9831546707503829, 1.0, 0.014164305949008499, 1.0],\n",
       "     'PPVs': [0.0, 0.08333333333333333, 1.0, 0.14391143911439114, 0.0],\n",
       "     'NPVs': [0.5508474576271186,\n",
       "      0.7886977886977887,\n",
       "      0.850909090909091,\n",
       "      0.7692307692307693,\n",
       "      0.9539951573849879],\n",
       "     'FPRs': [0.0, 0.016845329249617153, 0.0, 0.9858356940509915, 0.0],\n",
       "     'FNRs': [1.0, 0.9942196531791907, 0.9919354838709677, 0.025, 1.0],\n",
       "     'FDRs': [0.0, 0.9166666666666666, 0.0, 0.8560885608856088, 0.0],\n",
       "     'TPs': [0, 1, 1, 117, 0],\n",
       "     'TNs': [455, 642, 702, 10, 788],\n",
       "     'FPs': [0, 11, 0, 696, 0],\n",
       "     'FNs': [371, 172, 123, 3, 38]},\n",
       "    'res_path': '/worker/outputs/heart_disease_synplus_collaboration/heart_disease_synplus_project/heart_disease_synplus_experiment/heart_disease_synplus_run/predict/inference_statistics_predict.json'}}],\n",
       " 'apiVersion': '0.1.0',\n",
       " 'success': 1,\n",
       " 'status': 200,\n",
       " 'method': 'predictions.post',\n",
       " 'params': {'collab_id': 'heart_disease_synplus_collaboration',\n",
       "  'project_id': 'heart_disease_synplus_project',\n",
       "  'expt_id': 'heart_disease_synplus_experiment',\n",
       "  'run_id': 'heart_disease_synplus_run',\n",
       "  'participant_id': 'worker_1'}}"
      ]
     },
     "execution_count": 15,
     "metadata": {},
     "output_type": "execute_result"
    }
   ],
   "source": [
    "# Worker 1 requests for inferences\n",
    "driver.predictions.create(\n",
    "    tags={\"heart_disease_synplus_project\": [[\"heart_disease\", \"dataset\", \"data1\", \"non_iid_1\"]]},\n",
    "    participant_id=\"worker_1\",\n",
    "    collab_id=\"heart_disease_synplus_collaboration\",\n",
    "    project_id=\"heart_disease_synplus_project\",\n",
    "    expt_id=\"heart_disease_synplus_experiment\",\n",
    "    run_id=\"heart_disease_synplus_run\",\n",
    ")"
   ]
  },
  {
   "cell_type": "code",
   "execution_count": 16,
   "metadata": {},
   "outputs": [
    {
     "data": {
      "text/plain": [
       "{'data': [{'doc_id': '2',\n",
       "   'kind': 'Prediction',\n",
       "   'key': {'participant_id': 'worker_2',\n",
       "    'project_id': 'heart_disease_synplus_project',\n",
       "    'expt_id': 'heart_disease_synplus_experiment',\n",
       "    'run_id': 'heart_disease_synplus_run'},\n",
       "   'predict': {'statistics': {'accuracy': [0.6033519553072626,\n",
       "      0.7695530726256983,\n",
       "      0.8268156424581006,\n",
       "      0.21508379888268156,\n",
       "      0.9511173184357542],\n",
       "     'roc_auc_score': [0.5027957094418363,\n",
       "      0.43774135313176243,\n",
       "      0.4550593940714908,\n",
       "      0.5068738229755179,\n",
       "      0.6336060415355569],\n",
       "     'pr_auc_score': [0.38416399940506385,\n",
       "      0.18633857267574722,\n",
       "      0.17338011510134946,\n",
       "      0.17441341113195807,\n",
       "      0.07074474736182354],\n",
       "     'f_score': [0.0, 0.09836065573770492, 0.03125, 0.29925187032418954, 0.0],\n",
       "     'TPRs': [0.0,\n",
       "      0.061224489795918366,\n",
       "      0.016129032258064516,\n",
       "      0.9523809523809523,\n",
       "      0.0],\n",
       "     'TNRs': [1.0,\n",
       "      0.9525483304042179,\n",
       "      0.9966216216216216,\n",
       "      0.0576271186440678,\n",
       "      1.0],\n",
       "     'PPVs': [0.0, 0.25, 0.5, 0.17751479289940827, 0.0],\n",
       "     'NPVs': [0.6033519553072626,\n",
       "      0.7970588235294118,\n",
       "      0.8286516853932584,\n",
       "      0.85,\n",
       "      0.9511173184357542],\n",
       "     'FPRs': [0.0,\n",
       "      0.04745166959578207,\n",
       "      0.0033783783783783786,\n",
       "      0.9423728813559322,\n",
       "      0.0],\n",
       "     'FNRs': [1.0,\n",
       "      0.9387755102040817,\n",
       "      0.9838709677419355,\n",
       "      0.047619047619047616,\n",
       "      1.0],\n",
       "     'FDRs': [0.0, 0.75, 0.5, 0.8224852071005917, 0.0],\n",
       "     'TPs': [0, 9, 2, 120, 0],\n",
       "     'TNs': [432, 542, 590, 34, 681],\n",
       "     'FPs': [0, 27, 2, 556, 0],\n",
       "     'FNs': [284, 138, 122, 6, 35]},\n",
       "    'res_path': '/worker/outputs/heart_disease_synplus_collaboration/heart_disease_synplus_project/heart_disease_synplus_experiment/heart_disease_synplus_run/predict/inference_statistics_predict.json'}}],\n",
       " 'apiVersion': '0.1.0',\n",
       " 'success': 1,\n",
       " 'status': 200,\n",
       " 'method': 'predictions.post',\n",
       " 'params': {'collab_id': 'heart_disease_synplus_collaboration',\n",
       "  'project_id': 'heart_disease_synplus_project',\n",
       "  'expt_id': 'heart_disease_synplus_experiment',\n",
       "  'run_id': 'heart_disease_synplus_run',\n",
       "  'participant_id': 'worker_2'}}"
      ]
     },
     "execution_count": 16,
     "metadata": {},
     "output_type": "execute_result"
    }
   ],
   "source": [
    "# Worker 2 requests for inferences\n",
    "driver.predictions.create(\n",
    "    tags={\"heart_disease_synplus_project\": [[\"heart_disease\", \"dataset\", \"data2\", \"non_iid_2\"]]},\n",
    "    participant_id=\"worker_2\",\n",
    "    collab_id=\"heart_disease_synplus_collaboration\",\n",
    "    project_id=\"heart_disease_synplus_project\",\n",
    "    expt_id=\"heart_disease_synplus_experiment\",\n",
    "    run_id=\"heart_disease_synplus_run\",\n",
    ")"
   ]
  },
  {
   "cell_type": "code",
   "execution_count": null,
   "metadata": {},
   "outputs": [],
   "source": []
  }
 ],
 "metadata": {
  "kernelspec": {
   "display_name": "Python 3 (ipykernel)",
   "language": "python",
   "name": "python3"
  },
  "language_info": {
   "codemirror_mode": {
    "name": "ipython",
    "version": 3
   },
   "file_extension": ".py",
   "mimetype": "text/x-python",
   "name": "python",
   "nbconvert_exporter": "python",
   "pygments_lexer": "ipython3",
   "version": "3.7.11"
  }
 },
 "nbformat": 4,
 "nbformat_minor": 4
}
