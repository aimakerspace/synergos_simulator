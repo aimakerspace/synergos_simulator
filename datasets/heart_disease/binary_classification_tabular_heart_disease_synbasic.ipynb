{
 "cells": [
  {
   "cell_type": "markdown",
   "metadata": {},
   "source": [
    "# Running a Federated Cycle with Synergos\n",
    "\n",
    "In a federated learning system, there are many contributory participants, known as Worker nodes, which receive a global model to train on, with their own local dataset. The dataset does not leave the individual Worker nodes at any point, and remains private to the node.\n",
    "\n",
    "The job to synchronize, orchestrate and initiate an federated learning cycle, falls on a Trusted Third Party (TTP). The TTP pushes out the global model architecture and parameters for the individual nodes to train on, calling upon the required data, based on tags, e.g \"training\", which points to relevant data on the individual nodes. At no point does the TTP receive, copy or access the Worker nodes' local datasets.\n",
    "\n",
    "![Simulated Synergos Basic Grid](../../docs/images/synbasic_setup.png \"A simple Synergos Basic setup\")\n",
    "\n",
    "This tutorial aims to give you an understanding of how to use the `Synergos` driver package to run a full federated learning cycle on a `Synergos Basic` grid.\n",
    "\n",
    "In a `Synergos Basic` grid, this is TTP at its purest form, synchronizing with all worker nodes to facilitate federated orchestration.\n",
    "\n",
    "In this tutorial, you will go through the steps required by each participant (TTP and Worker), by simulating each of them locally with docker containers. Specifically, we will simulate a TTP and 2 Workers. \n",
    "\n",
    "At the end of this, we will have:\n",
    "- Connected the participants\n",
    "- Trained the model\n",
    "- Evaluate the model\n",
    "\n",
    "## About the Dataset and Task\n",
    "\n",
    "The dataset used in this notebook is on heart disease tabular data, comprising 14 predictor features, and 1 target feature for a binary class. The dataset is available in the same directory as this notebook. Within the dataset directory, `data1` is for Worker 1 and `data2` is for Worker 2. The task to be carried out will be a binary classifcation.\n",
    "\n",
    "The dataset we have provided is a processed subset of the [original Heart Disease dataset](https://archive.ics.uci.edu/ml/datasets/heart+disease).\n",
    "\n",
    "**Reference:**\n",
    "- *Dua, D. and Graff, C. (2019). UCI Machine Learning Repository [http://archive.ics.uci.edu/ml]. Irvine, CA: University of California, School of Information and Computer Science.*"
   ]
  },
  {
   "cell_type": "markdown",
   "metadata": {},
   "source": [
    "## Initiating the docker containers\n",
    "\n",
    "Before we begin, we have to start the docker containers."
   ]
  },
  {
   "cell_type": "markdown",
   "metadata": {},
   "source": [
    "### A. Initialization via `Synergos Simulator`\n",
    "\n",
    "In `Synergos Simulator`, a sandboxed environment has been created for you!\n",
    "\n",
    "By running:\n",
    "\n",
    "    `docker-compose -f docker-compose-synbasic.yml up --build`\n",
    "    \n",
    "the following components will be started:\n",
    "- TTP (Basic)\n",
    "- Worker_1\n",
    "- Worker_2\n",
    "- Synergos UI\n",
    "\n",
    "Refer to [this](https://github.com/aimakerspace/synergos_simulator) for all the pre-allocated host & port mappings. "
   ]
  },
  {
   "cell_type": "markdown",
   "metadata": {},
   "source": [
    "### B. Manual Initialization\n",
    "\n",
    "Firstly, pull the required docker images with the following commands:\n",
    "\n",
    "1. Synergos TTP (Basic): \n",
    "\n",
    "    `docker pull gcr.io/synergos-aisg/synergos_ttp:v0.1.0`\n",
    "\n",
    "2. Synergos Worker: \n",
    "\n",
    "    `docker pull gcr.io/synergos-aisg/synergos_worker:v0.1.0`\n",
    "\n",
    "Next, in <u>separate</u> CLI terminals, run the following command:\n",
    "\n",
    "**Note: For Windows users, it is advisable to use powershell or command prompt based interfaces**\n",
    "\n",
    "**TTP**\n",
    "\n",
    "```\n",
    "docker run \n",
    "    -p 5000:5000 \n",
    "    -p 8020:8020\n",
    "    -v <directory heart_disease/ttp_outputs>:/orchestrator/outputs\n",
    "    -v <directory heart_disease/ttp_data>:/orchestrator/data\n",
    "    -v <directory heart_disease/mlflow>:/mlflow\n",
    "    --name ttp \n",
    "    gcr.io/synergos-aisg/synergos_ttp:v0.1.0 \n",
    "        --id ttp \n",
    "        --logging_variant basic\n",
    "```\n",
    "\n",
    "**Worker 1**\n",
    "\n",
    "```\n",
    "docker run \n",
    "    -v <directory heart_disease/data1>:/worker/data \n",
    "    -v <directory heart_disease/outputs_1>:/worker/outputs \n",
    "    --name worker_1 \n",
    "    gcr.io/synergos-aisg/synergos_worker:v0.1.0 \n",
    "        --id worker_1 \n",
    "        --logging_variant basic\n",
    "```\n",
    "\n",
    "**Worker 2**\n",
    "\n",
    "```\n",
    "docker run \n",
    "    -v <directory heart_disease/data2>:/worker/data \n",
    "    -v <directory heart_disease/outputs_2>:/worker/outputs \n",
    "    --name worker_2 \n",
    "    gcr.io/synergos-aisg/synergos_worker:v0.1.0\n",
    "        --id worker_2 \n",
    "        --logging_variant basic\n",
    "```\n",
    "\n",
    "#### Synergos UI\n",
    "\n",
    "- Refer to these [instructions](https://github.com/aimakerspace/synergos_ui) to deploy `Synergos UI`."
   ]
  },
  {
   "cell_type": "markdown",
   "metadata": {},
   "source": [
    "Once ready, for each terminal, you should see a REST server running on http://0.0.0.0:5000 of the container.\n",
    "\n",
    "You are now ready for the next step."
   ]
  },
  {
   "cell_type": "markdown",
   "metadata": {},
   "source": [
    "## Configurations"
   ]
  },
  {
   "cell_type": "markdown",
   "metadata": {},
   "source": [
    "### A. Configuring `Synergos Simulator`\n",
    "\n",
    "All hosts & ports have already been pre-allocated!\n",
    "\n",
    "Refer to [this](https://github.com/aimakerspace/synergos_simulator) for all the pre-allocated host & port mappings."
   ]
  },
  {
   "cell_type": "markdown",
   "metadata": {},
   "source": [
    "### B. Configuring your manual setup\n",
    "\n",
    "In a new terminal, run `docker inspect bridge` and find the IPv4Address for each container. Ideally, the containers should have the following addresses:\n",
    "- ttp address: `172.17.0.2`\n",
    "- worker_1 address: `172.17.0.3`\n",
    "- worker_2 address: `172.17.0.4`\n",
    "- UI address: `172.17.0.5`\n",
    "\n",
    "If not, just note the relevant IP addresses for each docker container.\n",
    "\n",
    "Run the following cells below.\n",
    "\n",
    "**Note: For Windows users, `host` should be Docker Desktop VM's IP. Follow [this](https://stackoverflow.com/questions/58073936/how-to-get-ip-address-of-docker-desktop-vm) on instructions to find IP**"
   ]
  },
  {
   "cell_type": "code",
   "execution_count": 1,
   "metadata": {},
   "outputs": [],
   "source": [
    "from synergos import Driver\n",
    "\n",
    "host = \"172.18.0.2\"\n",
    "port = 5000\n",
    "\n",
    "# Initiate Driver\n",
    "driver = Driver(host=host, port=port)"
   ]
  },
  {
   "cell_type": "markdown",
   "metadata": {},
   "source": [
    "## Phase 1: Registration\n",
    "\n",
    "Submitting Orchestrator & Participant metadata"
   ]
  },
  {
   "cell_type": "markdown",
   "metadata": {},
   "source": [
    "#### 1A. Orchestrator creates a collaboration"
   ]
  },
  {
   "cell_type": "code",
   "execution_count": 2,
   "metadata": {},
   "outputs": [
    {
     "data": {
      "text/plain": [
       "{'data': {'doc_id': '1',\n",
       "  'kind': 'Collaboration',\n",
       "  'key': {'collab_id': 'heart_disease_synbasic_collaboration'},\n",
       "  'relations': {'Project': [],\n",
       "   'Experiment': [],\n",
       "   'Run': [],\n",
       "   'Registration': [],\n",
       "   'Tag': [],\n",
       "   'Model': [],\n",
       "   'Validation': [],\n",
       "   'Prediction': []}},\n",
       " 'apiVersion': '0.1.0',\n",
       " 'success': 1,\n",
       " 'status': 201,\n",
       " 'method': 'collaborations.post',\n",
       " 'params': {}}"
      ]
     },
     "execution_count": 2,
     "metadata": {},
     "output_type": "execute_result"
    }
   ],
   "source": [
    "collab_task = driver.collaborations\n",
    "collab_task.create('heart_disease_synbasic_collaboration')"
   ]
  },
  {
   "cell_type": "markdown",
   "metadata": {},
   "source": [
    "#### 1B. Orchestrator creates a project"
   ]
  },
  {
   "cell_type": "code",
   "execution_count": 3,
   "metadata": {},
   "outputs": [
    {
     "data": {
      "text/plain": [
       "{'data': {'doc_id': '1',\n",
       "  'kind': 'Project',\n",
       "  'key': {'collab_id': 'heart_disease_synbasic_collaboration',\n",
       "   'project_id': 'heart_disease_synbasic_project'},\n",
       "  'relations': {'Experiment': [],\n",
       "   'Run': [],\n",
       "   'Registration': [],\n",
       "   'Tag': [],\n",
       "   'Model': [],\n",
       "   'Validation': [],\n",
       "   'Prediction': []},\n",
       "  'action': 'classify',\n",
       "  'incentives': {'tier_2': [], 'tier_1': []}},\n",
       " 'apiVersion': '0.1.0',\n",
       " 'success': 1,\n",
       " 'status': 201,\n",
       " 'method': 'projects.post',\n",
       " 'params': {'collab_id': 'heart_disease_synbasic_collaboration'}}"
      ]
     },
     "execution_count": 3,
     "metadata": {},
     "output_type": "execute_result"
    }
   ],
   "source": [
    "driver.projects.create(\n",
    "    collab_id=\"heart_disease_synbasic_collaboration\",\n",
    "    project_id=\"heart_disease_synbasic_project\",\n",
    "    action=\"classify\",\n",
    "    incentives={\n",
    "        'tier_1': [],\n",
    "        'tier_2': [],\n",
    "    }\n",
    ")"
   ]
  },
  {
   "cell_type": "markdown",
   "metadata": {},
   "source": [
    "#### 1C. Orchestrator creates an experiment"
   ]
  },
  {
   "cell_type": "code",
   "execution_count": 4,
   "metadata": {},
   "outputs": [
    {
     "data": {
      "text/plain": [
       "{'apiVersion': '0.1.0',\n",
       " 'success': 1,\n",
       " 'status': 201,\n",
       " 'method': 'experiments.post',\n",
       " 'params': {'collab_id': 'heart_disease_synbasic_collaboration',\n",
       "  'project_id': 'heart_disease_synbasic_project'},\n",
       " 'data': {'created_at': '2021-09-15 23:40:28 N',\n",
       "  'key': {'collab_id': 'heart_disease_synbasic_collaboration',\n",
       "   'expt_id': 'heart_disease_synbasic_experiment',\n",
       "   'project_id': 'heart_disease_synbasic_project'},\n",
       "  'model': [{'activation': 'sigmoid',\n",
       "    'is_input': True,\n",
       "    'l_type': 'Linear',\n",
       "    'structure': {'bias': True, 'in_features': 13, 'out_features': 1}}],\n",
       "  'relations': {'Run': [], 'Model': [], 'Validation': [], 'Prediction': []},\n",
       "  'doc_id': 1,\n",
       "  'kind': 'Experiment'}}"
      ]
     },
     "execution_count": 4,
     "metadata": {},
     "output_type": "execute_result"
    }
   ],
   "source": [
    "driver.experiments.create(\n",
    "    collab_id=\"heart_disease_synbasic_collaboration\",\n",
    "    project_id=\"heart_disease_synbasic_project\",\n",
    "    expt_id=\"heart_disease_synbasic_experiment\",\n",
    "    model=[\n",
    "        {\n",
    "            \"activation\": \"sigmoid\",\n",
    "            \"is_input\": True,\n",
    "            \"l_type\": \"Linear\",\n",
    "            \"structure\": {\n",
    "                \"bias\": True,\n",
    "                \"in_features\": 13,\n",
    "                \"out_features\": 1 \n",
    "            }\n",
    "        }\n",
    "    ]\n",
    ")"
   ]
  },
  {
   "cell_type": "markdown",
   "metadata": {},
   "source": [
    "#### 1D. Orchestrator creates a run"
   ]
  },
  {
   "cell_type": "code",
   "execution_count": 5,
   "metadata": {},
   "outputs": [
    {
     "data": {
      "text/plain": [
       "{'data': {'doc_id': '1',\n",
       "  'kind': 'Run',\n",
       "  'key': {'collab_id': 'heart_disease_synbasic_collaboration',\n",
       "   'project_id': 'heart_disease_synbasic_project',\n",
       "   'expt_id': 'heart_disease_synbasic_experiment',\n",
       "   'run_id': 'heart_disease_synbasic_run'},\n",
       "  'relations': {'Model': [], 'Validation': [], 'Prediction': []},\n",
       "  'rounds': 2,\n",
       "  'epochs': 1,\n",
       "  'lr': 0.001,\n",
       "  'lr_decay': 0.1,\n",
       "  'weight_decay': 0.0,\n",
       "  'seed': 42,\n",
       "  'precision_fractional': 5,\n",
       "  'mu': 0.1,\n",
       "  'l1_lambda': 0.0,\n",
       "  'l2_lambda': 0.0,\n",
       "  'base_lr': 0.0005,\n",
       "  'max_lr': 0.005,\n",
       "  'patience': 10,\n",
       "  'delta': 0.0},\n",
       " 'apiVersion': '0.1.0',\n",
       " 'success': 1,\n",
       " 'status': 201,\n",
       " 'method': 'runs.post',\n",
       " 'params': {'collab_id': 'heart_disease_synbasic_collaboration',\n",
       "  'project_id': 'heart_disease_synbasic_project',\n",
       "  'expt_id': 'heart_disease_synbasic_experiment'}}"
      ]
     },
     "execution_count": 5,
     "metadata": {},
     "output_type": "execute_result"
    }
   ],
   "source": [
    "driver.runs.create(\n",
    "    collab_id=\"heart_disease_synbasic_collaboration\",\n",
    "    project_id=\"heart_disease_synbasic_project\",\n",
    "    expt_id=\"heart_disease_synbasic_experiment\",\n",
    "    run_id=\"heart_disease_synbasic_run\",\n",
    "    rounds=2, \n",
    "    epochs=1,\n",
    "    base_lr=0.0005,\n",
    "    max_lr=0.005,\n",
    "    criterion=\"NLLLoss\"\n",
    ")"
   ]
  },
  {
   "cell_type": "markdown",
   "metadata": {},
   "source": [
    "#### 1E. Participants registers their servers' configurations and roles"
   ]
  },
  {
   "cell_type": "code",
   "execution_count": 6,
   "metadata": {},
   "outputs": [
    {
     "data": {
      "text/plain": [
       "{'data': {'doc_id': '1',\n",
       "  'kind': 'Participant',\n",
       "  'key': {'participant_id': 'worker_1'},\n",
       "  'relations': {'Registration': [], 'Tag': []},\n",
       "  'id': 'worker_1'},\n",
       " 'apiVersion': '0.1.0',\n",
       " 'success': 1,\n",
       " 'status': 201,\n",
       " 'method': 'participants.post',\n",
       " 'params': {}}"
      ]
     },
     "metadata": {},
     "output_type": "display_data"
    },
    {
     "data": {
      "text/plain": [
       "{'data': {'doc_id': '2',\n",
       "  'kind': 'Participant',\n",
       "  'key': {'participant_id': 'worker_2'},\n",
       "  'relations': {'Registration': [], 'Tag': []},\n",
       "  'id': 'worker_2'},\n",
       " 'apiVersion': '0.1.0',\n",
       " 'success': 1,\n",
       " 'status': 201,\n",
       " 'method': 'participants.post',\n",
       " 'params': {}}"
      ]
     },
     "metadata": {},
     "output_type": "display_data"
    }
   ],
   "source": [
    "participant_resp_1 = driver.participants.create(\n",
    "    participant_id=\"worker_1\",\n",
    ")\n",
    "\n",
    "display(participant_resp_1)\n",
    "\n",
    "participant_resp_2 = driver.participants.create(\n",
    "    participant_id=\"worker_2\",\n",
    ")\n",
    "\n",
    "display(participant_resp_2)"
   ]
  },
  {
   "cell_type": "code",
   "execution_count": 7,
   "metadata": {},
   "outputs": [
    {
     "data": {
      "text/plain": [
       "{'data': {'doc_id': '1',\n",
       "  'kind': 'Registration',\n",
       "  'key': {'collab_id': 'heart_disease_synbasic_collaboration',\n",
       "   'project_id': 'heart_disease_synbasic_project',\n",
       "   'participant_id': 'worker_1'},\n",
       "  'relations': {'Tag': []},\n",
       "  'collaboration': {'catalogue': {},\n",
       "   'logs': {},\n",
       "   'meter': {},\n",
       "   'mlops': {},\n",
       "   'mq': {}},\n",
       "  'project': {'action': 'classify',\n",
       "   'incentives': {'tier_2': [], 'tier_1': []},\n",
       "   'start_at': None},\n",
       "  'participant': {'id': 'worker_1',\n",
       "   'category': [],\n",
       "   'summary': None,\n",
       "   'phone': None,\n",
       "   'email': None,\n",
       "   'socials': {}},\n",
       "  'role': 'host',\n",
       "  'n_count': 1,\n",
       "  'node_0': {'host': '172.18.0.3',\n",
       "   'port': 8020,\n",
       "   'log_msgs': True,\n",
       "   'verbose': True,\n",
       "   'f_port': 5000}},\n",
       " 'apiVersion': '0.1.0',\n",
       " 'success': 1,\n",
       " 'status': 201,\n",
       " 'method': 'registration.post',\n",
       " 'params': {'collab_id': 'heart_disease_synbasic_collaboration',\n",
       "  'project_id': 'heart_disease_synbasic_project',\n",
       "  'participant_id': 'worker_1'}}"
      ]
     },
     "execution_count": 7,
     "metadata": {},
     "output_type": "execute_result"
    }
   ],
   "source": [
    "registration_task = driver.registrations\n",
    "\n",
    "# Add and register worker_1 node\n",
    "registration_task.add_node(\n",
    "    host='172.18.0.3',\n",
    "    port=8020,\n",
    "    f_port=5000,\n",
    "    log_msgs=True,\n",
    "    verbose=True\n",
    ")\n",
    "\n",
    "registration_task.create(\n",
    "    collab_id=\"heart_disease_synbasic_collaboration\",\n",
    "    project_id=\"heart_disease_synbasic_project\",\n",
    "    participant_id=\"worker_1\",\n",
    "    role=\"host\"\n",
    ")"
   ]
  },
  {
   "cell_type": "code",
   "execution_count": 8,
   "metadata": {},
   "outputs": [
    {
     "data": {
      "text/plain": [
       "{'data': {'doc_id': '2',\n",
       "  'kind': 'Registration',\n",
       "  'key': {'collab_id': 'heart_disease_synbasic_collaboration',\n",
       "   'project_id': 'heart_disease_synbasic_project',\n",
       "   'participant_id': 'worker_2'},\n",
       "  'relations': {'Tag': []},\n",
       "  'collaboration': {'catalogue': {},\n",
       "   'logs': {},\n",
       "   'meter': {},\n",
       "   'mlops': {},\n",
       "   'mq': {}},\n",
       "  'project': {'action': 'classify',\n",
       "   'incentives': {'tier_2': [], 'tier_1': []},\n",
       "   'start_at': None},\n",
       "  'participant': {'id': 'worker_2',\n",
       "   'category': [],\n",
       "   'summary': None,\n",
       "   'phone': None,\n",
       "   'email': None,\n",
       "   'socials': {}},\n",
       "  'role': 'guest',\n",
       "  'n_count': 1,\n",
       "  'node_0': {'host': '172.18.0.4',\n",
       "   'port': 8020,\n",
       "   'log_msgs': True,\n",
       "   'verbose': True,\n",
       "   'f_port': 5000}},\n",
       " 'apiVersion': '0.1.0',\n",
       " 'success': 1,\n",
       " 'status': 201,\n",
       " 'method': 'registration.post',\n",
       " 'params': {'collab_id': 'heart_disease_synbasic_collaboration',\n",
       "  'project_id': 'heart_disease_synbasic_project',\n",
       "  'participant_id': 'worker_2'}}"
      ]
     },
     "execution_count": 8,
     "metadata": {},
     "output_type": "execute_result"
    }
   ],
   "source": [
    "registration_task = driver.registrations\n",
    "\n",
    "# Add and register worker_2 node\n",
    "registration_task.add_node(\n",
    "    host='172.18.0.4',\n",
    "    port=8020,\n",
    "    f_port=5000,\n",
    "    log_msgs=True,\n",
    "    verbose=True\n",
    ")\n",
    "\n",
    "registration_task.create(\n",
    "    collab_id=\"heart_disease_synbasic_collaboration\",\n",
    "    project_id=\"heart_disease_synbasic_project\",\n",
    "    participant_id=\"worker_2\",\n",
    "    role=\"guest\"\n",
    ")"
   ]
  },
  {
   "cell_type": "markdown",
   "metadata": {},
   "source": [
    "#### 1F. Participants registers their tags for a specific project"
   ]
  },
  {
   "cell_type": "code",
   "execution_count": 9,
   "metadata": {},
   "outputs": [
    {
     "data": {
      "text/plain": [
       "{'data': {'doc_id': '1',\n",
       "  'kind': 'Tag',\n",
       "  'key': {'collab_id': 'heart_disease_synbasic_collaboration',\n",
       "   'project_id': 'heart_disease_synbasic_project',\n",
       "   'participant_id': 'worker_1'},\n",
       "  'train': [['heart_disease', 'dataset', 'data1', 'iid_1']],\n",
       "  'evaluate': [['heart_disease', 'dataset', 'data1', 'non_iid_1']],\n",
       "  'predict': []},\n",
       " 'apiVersion': '0.1.0',\n",
       " 'success': 1,\n",
       " 'status': 201,\n",
       " 'method': 'tag.post',\n",
       " 'params': {'collab_id': 'heart_disease_synbasic_collaboration',\n",
       "  'project_id': 'heart_disease_synbasic_project',\n",
       "  'participant_id': 'worker_1'}}"
      ]
     },
     "execution_count": 9,
     "metadata": {},
     "output_type": "execute_result"
    }
   ],
   "source": [
    "# Worker 1 declares their data tags\n",
    "driver.tags.create(\n",
    "    collab_id=\"heart_disease_synbasic_collaboration\",\n",
    "    project_id=\"heart_disease_synbasic_project\",\n",
    "    participant_id=\"worker_1\",\n",
    "    train=[[\"heart_disease\", \"dataset\", \"data1\", \"iid_1\"]],\n",
    "    evaluate=[[\"heart_disease\", \"dataset\", \"data1\", \"non_iid_1\"]]\n",
    ")"
   ]
  },
  {
   "cell_type": "code",
   "execution_count": 10,
   "metadata": {},
   "outputs": [
    {
     "data": {
      "text/plain": [
       "{'data': {'doc_id': '2',\n",
       "  'kind': 'Tag',\n",
       "  'key': {'collab_id': 'heart_disease_synbasic_collaboration',\n",
       "   'project_id': 'heart_disease_synbasic_project',\n",
       "   'participant_id': 'worker_2'},\n",
       "  'train': [['heart_disease', 'dataset', 'data2', 'iid_2']],\n",
       "  'evaluate': [['heart_disease', 'dataset', 'data2', 'non_iid_2']],\n",
       "  'predict': []},\n",
       " 'apiVersion': '0.1.0',\n",
       " 'success': 1,\n",
       " 'status': 201,\n",
       " 'method': 'tag.post',\n",
       " 'params': {'collab_id': 'heart_disease_synbasic_collaboration',\n",
       "  'project_id': 'heart_disease_synbasic_project',\n",
       "  'participant_id': 'worker_2'}}"
      ]
     },
     "execution_count": 10,
     "metadata": {},
     "output_type": "execute_result"
    }
   ],
   "source": [
    "# Worker 2 declares their data tags\n",
    "driver.tags.create(\n",
    "    collab_id=\"heart_disease_synbasic_collaboration\",\n",
    "    project_id=\"heart_disease_synbasic_project\",\n",
    "    participant_id=\"worker_2\",\n",
    "    train=[[\"heart_disease\", \"dataset\", \"data2\", \"iid_2\"]],\n",
    "    evaluate=[[\"heart_disease\", \"dataset\", \"data2\", \"non_iid_2\"]]\n",
    ")"
   ]
  },
  {
   "cell_type": "markdown",
   "metadata": {},
   "source": [
    "## Phase 2: \n",
    "Alignment, Training & Optimisation"
   ]
  },
  {
   "cell_type": "markdown",
   "metadata": {},
   "source": [
    "#### 2A. Perform multiple feature alignment to dynamically configure datasets and models for cross-grid compatibility"
   ]
  },
  {
   "cell_type": "code",
   "execution_count": 11,
   "metadata": {
    "scrolled": false
   },
   "outputs": [
    {
     "data": {
      "text/plain": [
       "{'data': [{'doc_id': '1',\n",
       "   'kind': 'Alignment',\n",
       "   'key': {'collab_id': 'heart_disease_synbasic_collaboration',\n",
       "    'project_id': 'heart_disease_synbasic_project',\n",
       "    'participant_id': 'worker_1'},\n",
       "   'train': {'X': [], 'y': []},\n",
       "   'evaluate': {'X': [], 'y': []},\n",
       "   'predict': {'X': [], 'y': []}},\n",
       "  {'doc_id': '2',\n",
       "   'kind': 'Alignment',\n",
       "   'key': {'collab_id': 'heart_disease_synbasic_collaboration',\n",
       "    'project_id': 'heart_disease_synbasic_project',\n",
       "    'participant_id': 'worker_2'},\n",
       "   'train': {'X': [], 'y': []},\n",
       "   'evaluate': {'X': [], 'y': []},\n",
       "   'predict': {'X': [], 'y': []}}],\n",
       " 'apiVersion': '0.1.0',\n",
       " 'success': 1,\n",
       " 'status': 201,\n",
       " 'method': 'alignments.post',\n",
       " 'params': {'collab_id': 'heart_disease_synbasic_collaboration',\n",
       "  'project_id': 'heart_disease_synbasic_project'}}"
      ]
     },
     "execution_count": 11,
     "metadata": {},
     "output_type": "execute_result"
    }
   ],
   "source": [
    "driver.alignments.create(\n",
    "    collab_id=\"heart_disease_synbasic_collaboration\",\n",
    "    project_id=\"heart_disease_synbasic_project\",\n",
    "    verbose=False,\n",
    "    log_msg=False\n",
    ")"
   ]
  },
  {
   "cell_type": "markdown",
   "metadata": {},
   "source": [
    "#### 2B. Trigger training across the federated grid"
   ]
  },
  {
   "cell_type": "code",
   "execution_count": 12,
   "metadata": {},
   "outputs": [
    {
     "data": {
      "text/plain": [
       "{'data': [{'doc_id': '1',\n",
       "   'kind': 'Model',\n",
       "   'key': {'project_id': 'heart_disease_synbasic_project',\n",
       "    'expt_id': 'heart_disease_synbasic_experiment',\n",
       "    'run_id': 'heart_disease_synbasic_run'},\n",
       "   'global': {'origin': 'ttp',\n",
       "    'path': '/orchestrator/outputs/heart_disease_synbasic_collaboration/heart_disease_synbasic_project/heart_disease_synbasic_experiment/heart_disease_synbasic_run/global_model.pt',\n",
       "    'loss_history': '/orchestrator/outputs/heart_disease_synbasic_collaboration/heart_disease_synbasic_project/heart_disease_synbasic_experiment/heart_disease_synbasic_run/global_loss_history.json'},\n",
       "   'local_2': {'origin': 'worker_2',\n",
       "    'path': '/orchestrator/outputs/heart_disease_synbasic_collaboration/heart_disease_synbasic_project/heart_disease_synbasic_experiment/heart_disease_synbasic_run/local_model_worker_2.pt',\n",
       "    'loss_history': '/orchestrator/outputs/heart_disease_synbasic_collaboration/heart_disease_synbasic_project/heart_disease_synbasic_experiment/heart_disease_synbasic_run/local_loss_history_worker_2.json'},\n",
       "   'local_1': {'origin': 'worker_1',\n",
       "    'path': '/orchestrator/outputs/heart_disease_synbasic_collaboration/heart_disease_synbasic_project/heart_disease_synbasic_experiment/heart_disease_synbasic_run/local_model_worker_1.pt',\n",
       "    'loss_history': '/orchestrator/outputs/heart_disease_synbasic_collaboration/heart_disease_synbasic_project/heart_disease_synbasic_experiment/heart_disease_synbasic_run/local_loss_history_worker_1.json'}}],\n",
       " 'apiVersion': '0.1.0',\n",
       " 'success': 1,\n",
       " 'status': 200,\n",
       " 'method': 'models.post',\n",
       " 'params': {'collab_id': 'heart_disease_synbasic_collaboration',\n",
       "  'project_id': 'heart_disease_synbasic_project',\n",
       "  'expt_id': 'heart_disease_synbasic_experiment',\n",
       "  'run_id': 'heart_disease_synbasic_run'}}"
      ]
     },
     "metadata": {},
     "output_type": "display_data"
    }
   ],
   "source": [
    "model_resp = driver.models.create(\n",
    "    collab_id=\"heart_disease_synbasic_collaboration\",\n",
    "    project_id=\"heart_disease_synbasic_project\",\n",
    "    expt_id=\"heart_disease_synbasic_experiment\",\n",
    "    run_id=\"heart_disease_synbasic_run\",\n",
    "    log_msg=False,\n",
    "    verbose=False\n",
    ")\n",
    "display(model_resp)"
   ]
  },
  {
   "cell_type": "markdown",
   "metadata": {},
   "source": [
    "## Phase 3: EVALUATE \n",
    "Validation & Predictions"
   ]
  },
  {
   "cell_type": "markdown",
   "metadata": {},
   "source": [
    "#### 3A. Perform validation(s) of combination(s)"
   ]
  },
  {
   "cell_type": "code",
   "execution_count": 13,
   "metadata": {},
   "outputs": [
    {
     "data": {
      "text/plain": [
       "{'data': [{'doc_id': '1',\n",
       "   'kind': 'Validation',\n",
       "   'key': {'participant_id': 'worker_1',\n",
       "    'collab_id': 'heart_disease_synbasic_collaboration',\n",
       "    'project_id': 'heart_disease_synbasic_project',\n",
       "    'expt_id': 'heart_disease_synbasic_experiment',\n",
       "    'run_id': 'heart_disease_synbasic_run'},\n",
       "   'evaluate': {'statistics': {'accuracy': [0.5508474576271186,\n",
       "      0.6222760290556901,\n",
       "      0.7445520581113801,\n",
       "      0.5920096852300242,\n",
       "      0.7372881355932204],\n",
       "     'roc_auc_score': [0.3468795355587808,\n",
       "      0.4484593118466128,\n",
       "      0.36345464571271024,\n",
       "      0.6307365439093484,\n",
       "      0.4478359604595244],\n",
       "     'pr_auc_score': [0.3450117189361819,\n",
       "      0.17769262827684157,\n",
       "      0.12005927221991414,\n",
       "      0.22810236376159693,\n",
       "      0.04650747647301019],\n",
       "     'f_score': [0.0,\n",
       "      0.12359550561797751,\n",
       "      0.062222222222222213,\n",
       "      0.28450106157112526,\n",
       "      0.05240174672489083],\n",
       "     'TPRs': [0.0,\n",
       "      0.12716763005780346,\n",
       "      0.056451612903225805,\n",
       "      0.5583333333333333,\n",
       "      0.15789473684210525],\n",
       "     'TNRs': [1.0,\n",
       "      0.7534456355283308,\n",
       "      0.8660968660968661,\n",
       "      0.5977337110481586,\n",
       "      0.7652284263959391],\n",
       "     'PPVs': [0.0,\n",
       "      0.12021857923497267,\n",
       "      0.06930693069306931,\n",
       "      0.1908831908831909,\n",
       "      0.031413612565445025],\n",
       "     'NPVs': [0.5508474576271186,\n",
       "      0.7651632970451011,\n",
       "      0.8386206896551724,\n",
       "      0.888421052631579,\n",
       "      0.9496062992125984],\n",
       "     'FPRs': [0.0,\n",
       "      0.24655436447166923,\n",
       "      0.1339031339031339,\n",
       "      0.40226628895184136,\n",
       "      0.23477157360406092],\n",
       "     'FNRs': [1.0,\n",
       "      0.8728323699421965,\n",
       "      0.9435483870967742,\n",
       "      0.44166666666666665,\n",
       "      0.8421052631578947],\n",
       "     'FDRs': [0.0,\n",
       "      0.8797814207650273,\n",
       "      0.9306930693069307,\n",
       "      0.8091168091168092,\n",
       "      0.9685863874345549],\n",
       "     'TPs': [0, 22, 7, 67, 6],\n",
       "     'TNs': [455, 492, 608, 422, 603],\n",
       "     'FPs': [0, 161, 94, 284, 185],\n",
       "     'FNs': [371, 151, 117, 53, 32]},\n",
       "    'res_path': '/worker/outputs/heart_disease_synbasic_collaboration/heart_disease_synbasic_project/heart_disease_synbasic_experiment/heart_disease_synbasic_run/evaluate/inference_statistics_evaluate.json'}},\n",
       "  {'doc_id': '2',\n",
       "   'kind': 'Validation',\n",
       "   'key': {'participant_id': 'worker_2',\n",
       "    'collab_id': 'heart_disease_synbasic_collaboration',\n",
       "    'project_id': 'heart_disease_synbasic_project',\n",
       "    'expt_id': 'heart_disease_synbasic_experiment',\n",
       "    'run_id': 'heart_disease_synbasic_run'},\n",
       "   'evaluate': {'statistics': {'accuracy': [0.6047486033519553,\n",
       "      0.6452513966480447,\n",
       "      0.7346368715083799,\n",
       "      0.6787709497206704,\n",
       "      0.6103351955307262],\n",
       "     'roc_auc_score': [0.436277386541471,\n",
       "      0.4670325072032328,\n",
       "      0.422746839581517,\n",
       "      0.5667877320419692,\n",
       "      0.560142647367317],\n",
       "     'pr_auc_score': [0.3458507995907254,\n",
       "      0.2015284044804887,\n",
       "      0.1680485460560357,\n",
       "      0.226756743340827,\n",
       "      0.0743174505893438],\n",
       "     'f_score': [0.007017543859649122,\n",
       "      0.23493975903614459,\n",
       "      0.10377358490566038,\n",
       "      0.2333333333333333,\n",
       "      0.0792079207920792],\n",
       "     'TPRs': [0.0035211267605633804,\n",
       "      0.2653061224489796,\n",
       "      0.08870967741935484,\n",
       "      0.2777777777777778,\n",
       "      0.34285714285714286],\n",
       "     'TNRs': [1.0,\n",
       "      0.7434094903339191,\n",
       "      0.8699324324324325,\n",
       "      0.764406779661017,\n",
       "      0.6240822320117474],\n",
       "     'PPVs': [1.0,\n",
       "      0.21081081081081082,\n",
       "      0.125,\n",
       "      0.20114942528735633,\n",
       "      0.04477611940298507],\n",
       "     'NPVs': [0.6041958041958042,\n",
       "      0.7966101694915254,\n",
       "      0.8200636942675159,\n",
       "      0.8321033210332104,\n",
       "      0.9486607142857143],\n",
       "     'FPRs': [0.0,\n",
       "      0.2565905096660808,\n",
       "      0.13006756756756757,\n",
       "      0.23559322033898306,\n",
       "      0.37591776798825255],\n",
       "     'FNRs': [0.9964788732394366,\n",
       "      0.7346938775510204,\n",
       "      0.9112903225806451,\n",
       "      0.7222222222222222,\n",
       "      0.6571428571428571],\n",
       "     'FDRs': [0.0,\n",
       "      0.7891891891891892,\n",
       "      0.875,\n",
       "      0.7988505747126436,\n",
       "      0.9552238805970149],\n",
       "     'TPs': [1, 39, 11, 35, 12],\n",
       "     'TNs': [432, 423, 515, 451, 425],\n",
       "     'FPs': [0, 146, 77, 139, 256],\n",
       "     'FNs': [283, 108, 113, 91, 23]},\n",
       "    'res_path': '/worker/outputs/heart_disease_synbasic_collaboration/heart_disease_synbasic_project/heart_disease_synbasic_experiment/heart_disease_synbasic_run/evaluate/inference_statistics_evaluate.json'}}],\n",
       " 'apiVersion': '0.1.0',\n",
       " 'success': 1,\n",
       " 'status': 200,\n",
       " 'method': 'validations.post',\n",
       " 'params': {'collab_id': 'heart_disease_synbasic_collaboration',\n",
       "  'project_id': 'heart_disease_synbasic_project',\n",
       "  'expt_id': 'heart_disease_synbasic_experiment',\n",
       "  'run_id': 'heart_disease_synbasic_run'}}"
      ]
     },
     "execution_count": 13,
     "metadata": {},
     "output_type": "execute_result"
    }
   ],
   "source": [
    "# Orchestrator performs post-mortem validation\n",
    "driver.validations.create(\n",
    "    collab_id=\"heart_disease_synbasic_collaboration\",\n",
    "    project_id=\"heart_disease_synbasic_project\",\n",
    "    expt_id=\"heart_disease_synbasic_experiment\",\n",
    "    run_id=\"heart_disease_synbasic_run\",\n",
    "    log_msg=False,\n",
    "    verbose=False\n",
    ")"
   ]
  },
  {
   "cell_type": "markdown",
   "metadata": {},
   "source": [
    "#### 3B. Perform prediction(s) of combination(s)"
   ]
  },
  {
   "cell_type": "code",
   "execution_count": 14,
   "metadata": {},
   "outputs": [
    {
     "data": {
      "text/plain": [
       "{'data': [{'doc_id': '1',\n",
       "   'kind': 'Prediction',\n",
       "   'key': {'participant_id': 'worker_1',\n",
       "    'project_id': 'heart_disease_synbasic_project',\n",
       "    'expt_id': 'heart_disease_synbasic_experiment',\n",
       "    'run_id': 'heart_disease_synbasic_run'},\n",
       "   'predict': {'statistics': {'accuracy': [0.5508474576271186,\n",
       "      0.6222760290556901,\n",
       "      0.7445520581113801,\n",
       "      0.5920096852300242,\n",
       "      0.7372881355932204],\n",
       "     'roc_auc_score': [0.3468795355587808,\n",
       "      0.4484593118466128,\n",
       "      0.36345464571271024,\n",
       "      0.6307365439093484,\n",
       "      0.4478359604595244],\n",
       "     'pr_auc_score': [0.3450117189361819,\n",
       "      0.17769262827684157,\n",
       "      0.12005927221991414,\n",
       "      0.22810236376159693,\n",
       "      0.04650747647301019],\n",
       "     'f_score': [0.0,\n",
       "      0.12359550561797751,\n",
       "      0.062222222222222213,\n",
       "      0.28450106157112526,\n",
       "      0.05240174672489083],\n",
       "     'TPRs': [0.0,\n",
       "      0.12716763005780346,\n",
       "      0.056451612903225805,\n",
       "      0.5583333333333333,\n",
       "      0.15789473684210525],\n",
       "     'TNRs': [1.0,\n",
       "      0.7534456355283308,\n",
       "      0.8660968660968661,\n",
       "      0.5977337110481586,\n",
       "      0.7652284263959391],\n",
       "     'PPVs': [0.0,\n",
       "      0.12021857923497267,\n",
       "      0.06930693069306931,\n",
       "      0.1908831908831909,\n",
       "      0.031413612565445025],\n",
       "     'NPVs': [0.5508474576271186,\n",
       "      0.7651632970451011,\n",
       "      0.8386206896551724,\n",
       "      0.888421052631579,\n",
       "      0.9496062992125984],\n",
       "     'FPRs': [0.0,\n",
       "      0.24655436447166923,\n",
       "      0.1339031339031339,\n",
       "      0.40226628895184136,\n",
       "      0.23477157360406092],\n",
       "     'FNRs': [1.0,\n",
       "      0.8728323699421965,\n",
       "      0.9435483870967742,\n",
       "      0.44166666666666665,\n",
       "      0.8421052631578947],\n",
       "     'FDRs': [0.0,\n",
       "      0.8797814207650273,\n",
       "      0.9306930693069307,\n",
       "      0.8091168091168092,\n",
       "      0.9685863874345549],\n",
       "     'TPs': [0, 22, 7, 67, 6],\n",
       "     'TNs': [455, 492, 608, 422, 603],\n",
       "     'FPs': [0, 161, 94, 284, 185],\n",
       "     'FNs': [371, 151, 117, 53, 32]},\n",
       "    'res_path': '/worker/outputs/heart_disease_synbasic_collaboration/heart_disease_synbasic_project/heart_disease_synbasic_experiment/heart_disease_synbasic_run/predict/inference_statistics_predict.json'}}],\n",
       " 'apiVersion': '0.1.0',\n",
       " 'success': 1,\n",
       " 'status': 200,\n",
       " 'method': 'predictions.post',\n",
       " 'params': {'collab_id': 'heart_disease_synbasic_collaboration',\n",
       "  'project_id': 'heart_disease_synbasic_project',\n",
       "  'expt_id': 'heart_disease_synbasic_experiment',\n",
       "  'run_id': 'heart_disease_synbasic_run',\n",
       "  'participant_id': 'worker_1'}}"
      ]
     },
     "execution_count": 14,
     "metadata": {},
     "output_type": "execute_result"
    }
   ],
   "source": [
    "# Worker 1 requests for inferences\n",
    "driver.predictions.create(\n",
    "    tags={\"heart_disease_synbasic_project\": [[\"heart_disease\", \"dataset\", \"data1\", \"non_iid_1\"]]},\n",
    "    participant_id=\"worker_1\",\n",
    "    collab_id=\"heart_disease_synbasic_collaboration\",\n",
    "    project_id=\"heart_disease_synbasic_project\",\n",
    "    expt_id=\"heart_disease_synbasic_experiment\",\n",
    "    run_id=\"heart_disease_synbasic_run\",\n",
    ")"
   ]
  },
  {
   "cell_type": "code",
   "execution_count": 15,
   "metadata": {},
   "outputs": [
    {
     "data": {
      "text/plain": [
       "{'data': [{'doc_id': '2',\n",
       "   'kind': 'Prediction',\n",
       "   'key': {'participant_id': 'worker_2',\n",
       "    'project_id': 'heart_disease_synbasic_project',\n",
       "    'expt_id': 'heart_disease_synbasic_experiment',\n",
       "    'run_id': 'heart_disease_synbasic_run'},\n",
       "   'predict': {'statistics': {'accuracy': [0.6047486033519553,\n",
       "      0.6452513966480447,\n",
       "      0.7346368715083799,\n",
       "      0.6787709497206704,\n",
       "      0.6103351955307262],\n",
       "     'roc_auc_score': [0.436277386541471,\n",
       "      0.4670325072032328,\n",
       "      0.422746839581517,\n",
       "      0.5667877320419692,\n",
       "      0.560142647367317],\n",
       "     'pr_auc_score': [0.3458507995907254,\n",
       "      0.2015284044804887,\n",
       "      0.1680485460560357,\n",
       "      0.226756743340827,\n",
       "      0.0743174505893438],\n",
       "     'f_score': [0.007017543859649122,\n",
       "      0.23493975903614459,\n",
       "      0.10377358490566038,\n",
       "      0.2333333333333333,\n",
       "      0.0792079207920792],\n",
       "     'TPRs': [0.0035211267605633804,\n",
       "      0.2653061224489796,\n",
       "      0.08870967741935484,\n",
       "      0.2777777777777778,\n",
       "      0.34285714285714286],\n",
       "     'TNRs': [1.0,\n",
       "      0.7434094903339191,\n",
       "      0.8699324324324325,\n",
       "      0.764406779661017,\n",
       "      0.6240822320117474],\n",
       "     'PPVs': [1.0,\n",
       "      0.21081081081081082,\n",
       "      0.125,\n",
       "      0.20114942528735633,\n",
       "      0.04477611940298507],\n",
       "     'NPVs': [0.6041958041958042,\n",
       "      0.7966101694915254,\n",
       "      0.8200636942675159,\n",
       "      0.8321033210332104,\n",
       "      0.9486607142857143],\n",
       "     'FPRs': [0.0,\n",
       "      0.2565905096660808,\n",
       "      0.13006756756756757,\n",
       "      0.23559322033898306,\n",
       "      0.37591776798825255],\n",
       "     'FNRs': [0.9964788732394366,\n",
       "      0.7346938775510204,\n",
       "      0.9112903225806451,\n",
       "      0.7222222222222222,\n",
       "      0.6571428571428571],\n",
       "     'FDRs': [0.0,\n",
       "      0.7891891891891892,\n",
       "      0.875,\n",
       "      0.7988505747126436,\n",
       "      0.9552238805970149],\n",
       "     'TPs': [1, 39, 11, 35, 12],\n",
       "     'TNs': [432, 423, 515, 451, 425],\n",
       "     'FPs': [0, 146, 77, 139, 256],\n",
       "     'FNs': [283, 108, 113, 91, 23]},\n",
       "    'res_path': '/worker/outputs/heart_disease_synbasic_collaboration/heart_disease_synbasic_project/heart_disease_synbasic_experiment/heart_disease_synbasic_run/predict/inference_statistics_predict.json'}}],\n",
       " 'apiVersion': '0.1.0',\n",
       " 'success': 1,\n",
       " 'status': 200,\n",
       " 'method': 'predictions.post',\n",
       " 'params': {'collab_id': 'heart_disease_synbasic_collaboration',\n",
       "  'project_id': 'heart_disease_synbasic_project',\n",
       "  'expt_id': 'heart_disease_synbasic_experiment',\n",
       "  'run_id': 'heart_disease_synbasic_run',\n",
       "  'participant_id': 'worker_2'}}"
      ]
     },
     "execution_count": 15,
     "metadata": {},
     "output_type": "execute_result"
    }
   ],
   "source": [
    "# Worker 2 requests for inferences\n",
    "driver.predictions.create(\n",
    "    tags={\"heart_disease_synbasic_project\": [[\"heart_disease\", \"dataset\", \"data2\", \"non_iid_2\"]]},\n",
    "    participant_id=\"worker_2\",\n",
    "    collab_id=\"heart_disease_synbasic_collaboration\",\n",
    "    project_id=\"heart_disease_synbasic_project\",\n",
    "    expt_id=\"heart_disease_synbasic_experiment\",\n",
    "    run_id=\"heart_disease_synbasic_run\",\n",
    ")"
   ]
  },
  {
   "cell_type": "code",
   "execution_count": null,
   "metadata": {},
   "outputs": [],
   "source": []
  }
 ],
 "metadata": {
  "kernelspec": {
   "display_name": "Python 3 (ipykernel)",
   "language": "python",
   "name": "python3"
  },
  "language_info": {
   "codemirror_mode": {
    "name": "ipython",
    "version": 3
   },
   "file_extension": ".py",
   "mimetype": "text/x-python",
   "name": "python",
   "nbconvert_exporter": "python",
   "pygments_lexer": "ipython3",
   "version": "3.7.11"
  }
 },
 "nbformat": 4,
 "nbformat_minor": 4
}
